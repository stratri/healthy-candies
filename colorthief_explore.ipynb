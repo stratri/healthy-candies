{
 "cells": [
  {
   "cell_type": "markdown",
   "metadata": {
    "colab_type": "text",
    "id": "Qcaga7ALpbF8"
   },
   "source": [
    "# Colorthief explore"
   ]
  },
  {
   "cell_type": "markdown",
   "metadata": {
    "colab_type": "text",
    "id": "IuUIxuLppkOF"
   },
   "source": [
    "## Set-up"
   ]
  },
  {
   "cell_type": "code",
   "execution_count": 1,
   "metadata": {
    "colab": {
     "base_uri": "https://localhost:8080/",
     "height": 0
    },
    "colab_type": "code",
    "executionInfo": {
     "elapsed": 3157,
     "status": "ok",
     "timestamp": 1543180182565,
     "user": {
      "displayName": "Stratos Triantafyllou",
      "photoUrl": "https://lh4.googleusercontent.com/-e1e31H2ISi4/AAAAAAAAAAI/AAAAAAAAACU/mpgviX0dCJY/s64/photo.jpg",
      "userId": "15428638117688312654"
     },
     "user_tz": -60
    },
    "id": "3hy6PvzZH4fi",
    "outputId": "b4504035-d0cc-48e2-bad7-5733d2424642"
   },
   "outputs": [],
   "source": [
    "try:\n",
    "    # If we are not on google colab we need to upgrade pandas...\n",
    "    from google.colab import widgets\n",
    "    !pip install colorthief\n",
    "except ModuleNotFoundError:\n",
    "    # If we are not on google colab we pass\n",
    "    pass"
   ]
  },
  {
   "cell_type": "code",
   "execution_count": 2,
   "metadata": {
    "colab": {},
    "colab_type": "code",
    "id": "Gk3F7_dSIA11"
   },
   "outputs": [],
   "source": [
    "import matplotlib.pyplot as plt\n",
    "import matplotlib as mpl\n",
    "\n",
    "from colorthief import ColorThief\n",
    "from PIL import Image\n",
    "import requests\n",
    "from io import BytesIO\n",
    "\n",
    "%matplotlib inline"
   ]
  },
  {
   "cell_type": "code",
   "execution_count": 3,
   "metadata": {
    "colab": {},
    "colab_type": "code",
    "id": "e-sh9q8sIGHK"
   },
   "outputs": [],
   "source": [
    "# taken from http://gvallver.perso.univ-pau.fr/?p=712\n",
    "def show_colors(colors):\n",
    "    \"\"\"\n",
    "    Draw a square for each color contained in the colors list\n",
    "    given in argument.\n",
    "    \"\"\"\n",
    "    with plt.rc_context(plt.rcParamsDefault):\n",
    "        fig = plt.figure(figsize=(6, 1), frameon=False)\n",
    "        ax = fig.add_subplot(111)\n",
    "        for x, color in enumerate(colors):\n",
    "            ax.add_patch(\n",
    "                mpl.patches.Rectangle(\n",
    "                    (x, 0), 1, 1, facecolor=color\n",
    "                )\n",
    "            )\n",
    "        ax.set_xlim((0, len(colors)))\n",
    "        ax.set_ylim((0, 1))\n",
    "        ax.set_xticks([])\n",
    "        ax.set_yticks([])\n",
    "        ax.set_aspect(\"equal\")\n",
    "\n",
    "    return fig"
   ]
  },
  {
   "cell_type": "markdown",
   "metadata": {
    "colab_type": "text",
    "id": "CDuvfuMSpnmB"
   },
   "source": [
    "## Simple exploration\n",
    "\n",
    "\n",
    "Let's see what we can do by looking at the image associated with each product. Here is the image (from product chosen out of random) that we are going to analyse: \n",
    "\n",
    "![Image OFF](https://static.openfoodfacts.org/images/products/356/007/061/7593/front_fr.7.400.jpg)"
   ]
  },
  {
   "cell_type": "markdown",
   "metadata": {
    "colab_type": "text",
    "id": "csMwohlmqAYc"
   },
   "source": [
    "From that image we can simply extract its dominant colours using `colorthief`. "
   ]
  },
  {
   "cell_type": "code",
   "execution_count": 4,
   "metadata": {
    "colab": {},
    "colab_type": "code",
    "id": "wfw-aQPlpXmt"
   },
   "outputs": [],
   "source": [
    "response = requests.get(\n",
    "    'https://static.openfoodfacts.org/images/products/356/007/061/7593/front_fr.7.400.jpg')\n",
    "img = BytesIO(response.content)\n",
    "color_thief = ColorThief(img)\n",
    "dominant_color = color_thief.get_palette(quality=10)"
   ]
  },
  {
   "cell_type": "markdown",
   "metadata": {
    "colab_type": "text",
    "id": "3ZmaznjQqUaE"
   },
   "source": [
    "Below is the dominant colour palette computed by `colorThief`, and the result is pretty good."
   ]
  },
  {
   "cell_type": "code",
   "execution_count": 5,
   "metadata": {
    "colab": {
     "base_uri": "https://localhost:8080/",
     "height": 119
    },
    "colab_type": "code",
    "executionInfo": {
     "elapsed": 466,
     "status": "ok",
     "timestamp": 1543180190409,
     "user": {
      "displayName": "Stratos Triantafyllou",
      "photoUrl": "https://lh4.googleusercontent.com/-e1e31H2ISi4/AAAAAAAAAAI/AAAAAAAAACU/mpgviX0dCJY/s64/photo.jpg",
      "userId": "15428638117688312654"
     },
     "user_tz": -60
    },
    "id": "xjtK-x2HnmCB",
    "outputId": "0d5d484f-299f-4adc-8127-0cad0c2bd06f"
   },
   "outputs": [
    {
     "data": {
      "image/png": "[encoded data removed]",
      "text/plain": [
       "<Figure size 432x72 with 1 Axes>"
      ]
     },
     "execution_count": 5,
     "metadata": {},
     "output_type": "execute_result"
    },
    {
     "data": {
      "image/png": "[encoded data removed]",
      "text/plain": [
       "<Figure size 432x72 with 1 Axes>"
      ]
     },
     "metadata": {},
     "output_type": "display_data"
    }
   ],
   "source": [
    "colors = [mpl.colors.to_hex([val/255 for val in col])\n",
    "          for col in dominant_color]\n",
    "show_colors(colors)"
   ]
  },
  {
   "cell_type": "markdown",
   "metadata": {
    "colab_type": "text",
    "id": "9tpsyvw3qbJA"
   },
   "source": [
    "This is a new dimension we add to the project, and it's the dimension we plan on focusing on."
   ]
  }
 ],
 "metadata": {
  "colab": {
   "collapsed_sections": [
    "IuUIxuLppkOF"
   ],
   "name": "colorthief_explore.ipynb",
   "provenance": [],
   "version": "0.3.2"
  },
  "kernelspec": {
   "display_name": "Python 3",
   "language": "python",
   "name": "python3"
  },
  "language_info": {
   "codemirror_mode": {
    "name": "ipython",
    "version": 3
   },
   "file_extension": ".py",
   "mimetype": "text/x-python",
   "name": "python",
   "nbconvert_exporter": "python",
   "pygments_lexer": "ipython3",
   "version": "3.7.1"
  }
 },
 "nbformat": 4,
 "nbformat_minor": 1
}
