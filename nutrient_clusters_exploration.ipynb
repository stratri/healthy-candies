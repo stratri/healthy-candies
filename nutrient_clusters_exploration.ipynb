{
 "cells": [
  {
   "cell_type": "markdown",
   "metadata": {
    "colab_type": "text",
    "id": "hlTM8RtXvStH"
   },
   "source": [
    "# Nutrient clusters"
   ]
  },
  {
   "cell_type": "markdown",
   "metadata": {
    "colab_type": "text",
    "id": "09Flrj8JtmDS"
   },
   "source": [
    "## Set-up"
   ]
  },
  {
   "cell_type": "code",
   "execution_count": 1,
   "metadata": {
    "cellView": "both",
    "colab": {},
    "colab_type": "code",
    "id": "2ldzqJKCUAqd"
   },
   "outputs": [],
   "source": [
    "try:\n",
    "    # If we are not on google colab we need to upgrade pandas...\n",
    "    from google.colab import widgets\n",
    "    !pip install pandas --upgrade\n",
    "except ModuleNotFoundError:\n",
    "    # If we are not on google colab we pass\n",
    "    pass\n",
    "\n",
    "\n",
    "from distutils.version import LooseVersion\n",
    "import pandas as pd\n",
    "# As we are using features from pandas 0.23, we need to \n",
    "# check that the correct version is used.\n",
    "assert LooseVersion(pd.__version__) > LooseVersion('0.23'), \"\"\"\n",
    "If you are on Google Colab and this fails, make sure you \"restart runtime\"\n",
    "after running the cell that install the newest version of Pandas\n",
    "If you are not on Google Colab and this fails, please update your\n",
    "Pandas version: pip install --upgrade pandas\n",
    "\"\"\""
   ]
  },
  {
   "cell_type": "code",
   "execution_count": 2,
   "metadata": {
    "colab": {},
    "colab_type": "code",
    "id": "DgrwdgzhUI1N"
   },
   "outputs": [],
   "source": [
    "# The block of code is here to make the notebook Google Colab compatible\n",
    "try:\n",
    "    # If we are not on google colab (we assume that you don't have \n",
    "    # the google.colab module on your computer...), \n",
    "    # the line below will raise an error that will be catch :)\n",
    "    from google.colab import widgets\n",
    "    # We clean the content of the directory, so that we can use\n",
    "    #  git clone directly in it\n",
    "    !rm -rf *\n",
    "    !rm -rf .*\n",
    "    !git clone https://github.com/striantafyllouEPFL/healthy-candies.git .\n",
    "    # We get the data and initialize everything\n",
    "    !python ./init_project.py\n",
    "except ModuleNotFoundError:\n",
    "    pass"
   ]
  },
  {
   "cell_type": "code",
   "execution_count": 3,
   "metadata": {
    "colab": {},
    "colab_type": "code",
    "id": "7Na5ozJsUZt1"
   },
   "outputs": [],
   "source": [
    "import pandas as pd\n",
    "import numpy as np\n",
    "\n",
    "# Project specific module/functions\n",
    "from healthy_candies.load import load_data\n",
    "\n",
    "# Machine learning\n",
    "from sklearn.preprocessing import RobustScaler\n",
    "from sklearn.cluster import KMeans"
   ]
  },
  {
   "cell_type": "markdown",
   "metadata": {
    "colab_type": "text",
    "id": "kBBcB9vWty4M"
   },
   "source": [
    "## Intuition behind the clustering analysis"
   ]
  },
  {
   "cell_type": "markdown",
   "metadata": {
    "colab_type": "text",
    "id": "E9b3Z7Ar-fya"
   },
   "source": [
    "For this part of our project, we will be concerned with the nutrition facts of the products. Nutrient information has also been made available by regular contributors, therefore it is subject to inconsistencies and missing data. We will need to address these inconsistencies through a number of pre-processing steps before fitting our clustering model on them.\n",
    "\n",
    "As shown below, we observe a large number of missing values for most of the nutrients."
   ]
  },
  {
   "cell_type": "code",
   "execution_count": 4,
   "metadata": {
    "colab": {
     "base_uri": "https://localhost:8080/",
     "height": 403
    },
    "colab_type": "code",
    "executionInfo": {
     "elapsed": 36201,
     "status": "ok",
     "timestamp": 1543180831341,
     "user": {
      "displayName": "Florent Chehab",
      "photoUrl": "https://lh6.googleusercontent.com/-vA7R5ghOeow/AAAAAAAAAAI/AAAAAAAAAEQ/fiibEiGI8Ps/s64/photo.jpg",
      "userId": "17196172744623242444"
     },
     "user_tz": -60
    },
    "id": "5yTHYhfp9EwE",
    "outputId": "c4f1c174-1940-4b99-b9d7-f994cf175856"
   },
   "outputs": [
    {
     "name": "stdout",
     "output_type": "stream",
     "text": [
      "Number of features: 103\n",
      "Percentage of available data for each feature\n"
     ]
    },
    {
     "data": {
      "text/plain": [
       "energy_100g                 0.852649\n",
       "proteins_100g               0.850595\n",
       "fat_100g                    0.844954\n",
       "carbohydrates_100g          0.844586\n",
       "sugars_100g                 0.829701\n",
       "salt_100g                   0.822351\n",
       "sodium_100g                 0.822301\n",
       "saturated-fat_100g          0.807846\n",
       "fiber_100g                  0.392432\n",
       "cholesterol_100g            0.207059\n",
       "trans-fat_100g              0.206083\n",
       "calcium_100g                0.205408\n",
       "vitamin-c_100g              0.202903\n",
       "iron_100g                   0.202747\n",
       "vitamin-a_100g              0.198045\n",
       "potassium_100g              0.036393\n",
       "polyunsaturated-fat_100g    0.034057\n",
       "monounsaturated-fat_100g    0.034001\n",
       "vitamin-pp_100g             0.017607\n",
       "vitamin-b1_100g             0.016951\n",
       "dtype: float64"
      ]
     },
     "metadata": {},
     "output_type": "display_data"
    }
   ],
   "source": [
    "data = load_data(limit_have_nutri_score=False)\n",
    "cols = data.columns\n",
    "\n",
    "# Identify nutrition facts columns\n",
    "nf_cols = cols[cols.str.contains(r'100g')] \\\n",
    "    .drop(['nutrition-score-fr_100g', 'nutrition-score-uk_100g'])\n",
    "\n",
    "print('Number of features: {}'.format(len(nf_cols)))\n",
    "\n",
    "nf_cols_percent_available = data[nf_cols].count()/len(data)\n",
    "print('Percentage of available data for each feature')\n",
    "display(nf_cols_percent_available.sort_values(ascending=False).head(20))"
   ]
  },
  {
   "cell_type": "markdown",
   "metadata": {
    "colab_type": "text",
    "id": "go2T5OGcQlGF"
   },
   "source": [
    "We will necessarily have to discard nutrients with $4\\%$ or less available data,  which would not be able to provide much information to our model.\n",
    "\n",
    "We will attempt two iterations of the analysis with the rest of the nutrients: one with only the $8$ nutrients for which we have sufficient data (over $80\\%$), and one also including the other $7$ nutrients for which we only have $20\\%$ to $40\\%$ available data, yet we think they might add to the expressive power of our model.\n",
    "\n",
    "It is here that we should consider what a missing value really means in the context of our dataset. It should be noted that the eight nutrients with sufficient data are intuitively that appear more often in nutrition labelling than the other seven. But we can also guess that a contributor might have skipped filling in the nutrients or the OCR failed to detect them from the scan that they provided.\n",
    "\n",
    "However, it could also mean that they had a zero value, which also raises some questions about the non-missing zero values as well. A need for a design decision that emerges from this is whether we should consider zero as a missing value or not. Zero can be a valid nutrient value for a lot of products (e.g. water has zero calories). On the other hand, we can easily imagine a scenario where a user fills in zero values for missing nutrient information during the product submission. We will continue our provisional analysis by considering zeros as valid values. However this is something we will re-evaluate during our analysis."
   ]
  },
  {
   "cell_type": "code",
   "execution_count": 5,
   "metadata": {
    "colab": {},
    "colab_type": "code",
    "id": "VMitcDguUB6M"
   },
   "outputs": [],
   "source": [
    "# As an example of the process in the context of this milestone,\n",
    "# we are going forward with the full 15 nutrients.\n",
    "nf_cols_pruned = nf_cols[nf_cols_percent_available > 0.197]"
   ]
  },
  {
   "cell_type": "markdown",
   "metadata": {
    "colab_type": "text",
    "id": "V5WSyJRIVIzg"
   },
   "source": [
    "Another challenge that immediately follows is what to do with the missing data. We can safely drop products where information is missing for all of the nutrients, but what about the rest?\n",
    "\n",
    "A strategy followed in such cases is imputation, replacement of the missing data by substituted values. We will consider both simple imputation by mean or median, and more advanced strategies including replacing by values from a fitted regression model or multiple imputation.\n",
    "\n",
    "An important problem with imputation is that it can create a lot of noise and limit the validity of the results. Especially in our case, where there is a large variance in nutrients between products, we might wish to avoid this additional noise. In this case we would consider working with a subset with as few missing data as possible."
   ]
  },
  {
   "cell_type": "code",
   "execution_count": 6,
   "metadata": {
    "colab": {
     "base_uri": "https://localhost:8080/",
     "height": 171
    },
    "colab_type": "code",
    "executionInfo": {
     "elapsed": 3794,
     "status": "ok",
     "timestamp": 1543180904847,
     "user": {
      "displayName": "Florent Chehab",
      "photoUrl": "https://lh6.googleusercontent.com/-vA7R5ghOeow/AAAAAAAAAAI/AAAAAAAAAEQ/fiibEiGI8Ps/s64/photo.jpg",
      "userId": "17196172744623242444"
     },
     "user_tz": -60
    },
    "id": "kNWYWnXgc_dU",
    "outputId": "db124241-3b0e-4e92-e0f4-66ec0f6db734"
   },
   "outputs": [
    {
     "name": "stdout",
     "output_type": "stream",
     "text": [
      "551182 products have fully available data for at least 8 of the 15 nutrients.\n",
      "278907 products have fully available data for at least 9 of the 15 nutrients.\n",
      "150550 products have fully available data for at least 10 of the 15 nutrients.\n",
      "142799 products have fully available data for at least 11 of the 15 nutrients.\n",
      "136958 products have fully available data for at least 12 of the 15 nutrients.\n",
      "134372 products have fully available data for at least 13 of the 15 nutrients.\n",
      "131133 products have fully available data for at least 14 of the 15 nutrients.\n",
      "126480 products have fully available data for at least 15 of the 15 nutrients.\n"
     ]
    }
   ],
   "source": [
    "for t in range(8, 16, 1):\n",
    "    print('{} products have fully available data for at least'\n",
    "          ' {} of the 15 nutrients.'\n",
    "          .format(len(data[data[nf_cols_pruned].count(axis=1) >= t]), t))"
   ]
  },
  {
   "cell_type": "markdown",
   "metadata": {
    "colab_type": "text",
    "id": "zxj74fahefyq"
   },
   "source": [
    "We can see that the difference between the number of products that have nutrient information for at least 10 nutrients and the respective number for 15 nutrients is very small, thus, for the 15-nutrient analysis, we will use only products with fully available data for all 15 nutrients - note that we will either way examine the case with 8 nutrients in our 8-nutrient analysis, as mentioned above."
   ]
  },
  {
   "cell_type": "code",
   "execution_count": 7,
   "metadata": {
    "colab": {},
    "colab_type": "code",
    "id": "4AXX96LFdtBq"
   },
   "outputs": [],
   "source": [
    "t = 15\n",
    "data_nf = data[data[nf_cols_pruned].count(axis=1) >= t]"
   ]
  },
  {
   "cell_type": "markdown",
   "metadata": {
    "colab_type": "text",
    "id": "mbGrd_4YgE2N"
   },
   "source": [
    "A final consideration before moving on to the machine learning model has to do with the available nutrient values themselves. It should be noted that our information is per 100g/ml and not per serving, which means that the nutrients are not directly comparable. For example, one would normally eat a much smaller quantity of salt (in grams) compared to yoghurt. Interestingly enough, the nutrient profiling system used for the calculation of the _NutriScore_ does not seem to account for this issue and calculates the nutritional rating directly on the 100g/ml values instead. We will inevitably follow the course and hope to exclude most of the noise through regular outlier handling.\n",
    "\n",
    "The rest of the work will have to do with building and training our clustering model. We will first need to scale our data."
   ]
  },
  {
   "cell_type": "code",
   "execution_count": 8,
   "metadata": {
    "colab": {},
    "colab_type": "code",
    "id": "tzplh_vLjW_c"
   },
   "outputs": [],
   "source": [
    "# Provisionally scale data based on interquartile range to\n",
    "# ensure robustness\n",
    "scaler = RobustScaler()\n",
    "scaled_data = scaler.fit_transform(data_nf[nf_cols_pruned])\n",
    "\n",
    "# Remove data under/over 3 stds from the center\n",
    "scaled_data_3std = scaled_data[np.where((scaled_data.min(axis=1) >= -3)\n",
    "                                        & (scaled_data.max(axis=1) <= 3))]"
   ]
  },
  {
   "cell_type": "markdown",
   "metadata": {
    "colab_type": "text",
    "id": "IDazTyi0mZQ3"
   },
   "source": [
    "Then, we will need to train our clustering model. _scikit-learn_ provides implementations for different clustering approaches, which we will have to evaluate in the context of data. As an example, we simply train a trivial k-means model and display information about the derived centroids."
   ]
  },
  {
   "cell_type": "code",
   "execution_count": 9,
   "metadata": {
    "colab": {
     "base_uri": "https://localhost:8080/",
     "height": 380
    },
    "colab_type": "code",
    "executionInfo": {
     "elapsed": 3903,
     "status": "ok",
     "timestamp": 1543180927333,
     "user": {
      "displayName": "Florent Chehab",
      "photoUrl": "https://lh6.googleusercontent.com/-vA7R5ghOeow/AAAAAAAAAAI/AAAAAAAAAEQ/fiibEiGI8Ps/s64/photo.jpg",
      "userId": "17196172744623242444"
     },
     "user_tz": -60
    },
    "id": "FwoHQcYomYC5",
    "outputId": "3668b999-48d7-43f6-e829-af79d83078ed"
   },
   "outputs": [
    {
     "data": {
      "text/html": [
       "<div>\n",
       "<style scoped>\n",
       "    .dataframe tbody tr th:only-of-type {\n",
       "        vertical-align: middle;\n",
       "    }\n",
       "\n",
       "    .dataframe tbody tr th {\n",
       "        vertical-align: top;\n",
       "    }\n",
       "\n",
       "    .dataframe thead th {\n",
       "        text-align: right;\n",
       "    }\n",
       "</style>\n",
       "<table border=\"1\" class=\"dataframe\">\n",
       "  <thead>\n",
       "    <tr style=\"text-align: right;\">\n",
       "      <th></th>\n",
       "      <th>energy_100g</th>\n",
       "      <th>fat_100g</th>\n",
       "      <th>saturated-fat_100g</th>\n",
       "      <th>trans-fat_100g</th>\n",
       "      <th>cholesterol_100g</th>\n",
       "      <th>carbohydrates_100g</th>\n",
       "      <th>sugars_100g</th>\n",
       "      <th>fiber_100g</th>\n",
       "      <th>proteins_100g</th>\n",
       "      <th>salt_100g</th>\n",
       "      <th>sodium_100g</th>\n",
       "      <th>vitamin-a_100g</th>\n",
       "      <th>vitamin-c_100g</th>\n",
       "      <th>calcium_100g</th>\n",
       "      <th>iron_100g</th>\n",
       "    </tr>\n",
       "  </thead>\n",
       "  <tbody>\n",
       "    <tr>\n",
       "      <th>0</th>\n",
       "      <td>1225.620606</td>\n",
       "      <td>5.094510</td>\n",
       "      <td>0.804289</td>\n",
       "      <td>0.004890</td>\n",
       "      <td>0.001116</td>\n",
       "      <td>53.391885</td>\n",
       "      <td>4.911961</td>\n",
       "      <td>3.176929</td>\n",
       "      <td>8.465931</td>\n",
       "      <td>0.788590</td>\n",
       "      <td>0.310469</td>\n",
       "      <td>0.000006</td>\n",
       "      <td>0.000121</td>\n",
       "      <td>0.043401</td>\n",
       "      <td>0.002285</td>\n",
       "    </tr>\n",
       "    <tr>\n",
       "      <th>1</th>\n",
       "      <td>1500.230987</td>\n",
       "      <td>5.713919</td>\n",
       "      <td>2.016506</td>\n",
       "      <td>0.050052</td>\n",
       "      <td>0.001306</td>\n",
       "      <td>74.756481</td>\n",
       "      <td>51.734276</td>\n",
       "      <td>1.337414</td>\n",
       "      <td>2.697101</td>\n",
       "      <td>0.420565</td>\n",
       "      <td>0.165577</td>\n",
       "      <td>0.000005</td>\n",
       "      <td>0.000145</td>\n",
       "      <td>0.017433</td>\n",
       "      <td>0.000779</td>\n",
       "    </tr>\n",
       "    <tr>\n",
       "      <th>2</th>\n",
       "      <td>501.044836</td>\n",
       "      <td>4.111820</td>\n",
       "      <td>1.077207</td>\n",
       "      <td>0.006419</td>\n",
       "      <td>0.004572</td>\n",
       "      <td>17.466109</td>\n",
       "      <td>6.171329</td>\n",
       "      <td>1.720585</td>\n",
       "      <td>3.410711</td>\n",
       "      <td>0.728270</td>\n",
       "      <td>0.286721</td>\n",
       "      <td>0.000073</td>\n",
       "      <td>0.003916</td>\n",
       "      <td>0.037723</td>\n",
       "      <td>0.000814</td>\n",
       "    </tr>\n",
       "    <tr>\n",
       "      <th>3</th>\n",
       "      <td>2039.045307</td>\n",
       "      <td>26.277390</td>\n",
       "      <td>14.191414</td>\n",
       "      <td>0.010991</td>\n",
       "      <td>0.008638</td>\n",
       "      <td>59.991365</td>\n",
       "      <td>42.138392</td>\n",
       "      <td>2.849181</td>\n",
       "      <td>5.613262</td>\n",
       "      <td>0.517748</td>\n",
       "      <td>0.203838</td>\n",
       "      <td>0.000016</td>\n",
       "      <td>0.000177</td>\n",
       "      <td>0.068473</td>\n",
       "      <td>0.001994</td>\n",
       "    </tr>\n",
       "    <tr>\n",
       "      <th>4</th>\n",
       "      <td>1691.459440</td>\n",
       "      <td>14.790664</td>\n",
       "      <td>2.789275</td>\n",
       "      <td>0.002000</td>\n",
       "      <td>0.000676</td>\n",
       "      <td>60.258066</td>\n",
       "      <td>15.516814</td>\n",
       "      <td>8.059393</td>\n",
       "      <td>10.273060</td>\n",
       "      <td>0.684319</td>\n",
       "      <td>0.269417</td>\n",
       "      <td>0.000013</td>\n",
       "      <td>0.000295</td>\n",
       "      <td>0.062502</td>\n",
       "      <td>0.002819</td>\n",
       "    </tr>\n",
       "    <tr>\n",
       "      <th>5</th>\n",
       "      <td>2436.761135</td>\n",
       "      <td>48.211011</td>\n",
       "      <td>6.974454</td>\n",
       "      <td>0.001517</td>\n",
       "      <td>0.000252</td>\n",
       "      <td>25.543515</td>\n",
       "      <td>7.949795</td>\n",
       "      <td>7.456849</td>\n",
       "      <td>19.647889</td>\n",
       "      <td>0.714954</td>\n",
       "      <td>0.281479</td>\n",
       "      <td>0.000007</td>\n",
       "      <td>0.000210</td>\n",
       "      <td>0.107943</td>\n",
       "      <td>0.003514</td>\n",
       "    </tr>\n",
       "    <tr>\n",
       "      <th>6</th>\n",
       "      <td>1508.444128</td>\n",
       "      <td>16.462981</td>\n",
       "      <td>3.199896</td>\n",
       "      <td>0.019617</td>\n",
       "      <td>0.002866</td>\n",
       "      <td>47.007341</td>\n",
       "      <td>8.362428</td>\n",
       "      <td>2.196319</td>\n",
       "      <td>6.091160</td>\n",
       "      <td>2.631371</td>\n",
       "      <td>1.035971</td>\n",
       "      <td>0.000017</td>\n",
       "      <td>0.000273</td>\n",
       "      <td>0.044490</td>\n",
       "      <td>0.001632</td>\n",
       "    </tr>\n",
       "    <tr>\n",
       "      <th>7</th>\n",
       "      <td>821.184326</td>\n",
       "      <td>10.468794</td>\n",
       "      <td>3.173026</td>\n",
       "      <td>0.025620</td>\n",
       "      <td>0.039442</td>\n",
       "      <td>11.298159</td>\n",
       "      <td>2.545277</td>\n",
       "      <td>0.560003</td>\n",
       "      <td>14.148657</td>\n",
       "      <td>1.509633</td>\n",
       "      <td>0.594345</td>\n",
       "      <td>0.000029</td>\n",
       "      <td>0.000597</td>\n",
       "      <td>0.046339</td>\n",
       "      <td>0.000952</td>\n",
       "    </tr>\n",
       "    <tr>\n",
       "      <th>8</th>\n",
       "      <td>344.041958</td>\n",
       "      <td>2.221978</td>\n",
       "      <td>0.838072</td>\n",
       "      <td>0.005597</td>\n",
       "      <td>0.003764</td>\n",
       "      <td>12.640672</td>\n",
       "      <td>7.122898</td>\n",
       "      <td>0.748684</td>\n",
       "      <td>2.842364</td>\n",
       "      <td>0.378765</td>\n",
       "      <td>0.149120</td>\n",
       "      <td>0.000032</td>\n",
       "      <td>0.000332</td>\n",
       "      <td>0.055322</td>\n",
       "      <td>0.000267</td>\n",
       "    </tr>\n",
       "    <tr>\n",
       "      <th>9</th>\n",
       "      <td>1253.966642</td>\n",
       "      <td>14.714266</td>\n",
       "      <td>7.026520</td>\n",
       "      <td>0.020944</td>\n",
       "      <td>0.034298</td>\n",
       "      <td>38.003755</td>\n",
       "      <td>23.694447</td>\n",
       "      <td>0.918899</td>\n",
       "      <td>4.474438</td>\n",
       "      <td>0.563073</td>\n",
       "      <td>0.221682</td>\n",
       "      <td>0.000103</td>\n",
       "      <td>0.000304</td>\n",
       "      <td>0.087705</td>\n",
       "      <td>0.000883</td>\n",
       "    </tr>\n",
       "  </tbody>\n",
       "</table>\n",
       "</div>"
      ],
      "text/plain": [
       "   energy_100g   fat_100g  saturated-fat_100g  trans-fat_100g  \\\n",
       "0  1225.620606   5.094510            0.804289        0.004890   \n",
       "1  1500.230987   5.713919            2.016506        0.050052   \n",
       "2   501.044836   4.111820            1.077207        0.006419   \n",
       "3  2039.045307  26.277390           14.191414        0.010991   \n",
       "4  1691.459440  14.790664            2.789275        0.002000   \n",
       "5  2436.761135  48.211011            6.974454        0.001517   \n",
       "6  1508.444128  16.462981            3.199896        0.019617   \n",
       "7   821.184326  10.468794            3.173026        0.025620   \n",
       "8   344.041958   2.221978            0.838072        0.005597   \n",
       "9  1253.966642  14.714266            7.026520        0.020944   \n",
       "\n",
       "   cholesterol_100g  carbohydrates_100g  sugars_100g  fiber_100g  \\\n",
       "0          0.001116           53.391885     4.911961    3.176929   \n",
       "1          0.001306           74.756481    51.734276    1.337414   \n",
       "2          0.004572           17.466109     6.171329    1.720585   \n",
       "3          0.008638           59.991365    42.138392    2.849181   \n",
       "4          0.000676           60.258066    15.516814    8.059393   \n",
       "5          0.000252           25.543515     7.949795    7.456849   \n",
       "6          0.002866           47.007341     8.362428    2.196319   \n",
       "7          0.039442           11.298159     2.545277    0.560003   \n",
       "8          0.003764           12.640672     7.122898    0.748684   \n",
       "9          0.034298           38.003755    23.694447    0.918899   \n",
       "\n",
       "   proteins_100g  salt_100g  sodium_100g  vitamin-a_100g  vitamin-c_100g  \\\n",
       "0       8.465931   0.788590     0.310469        0.000006        0.000121   \n",
       "1       2.697101   0.420565     0.165577        0.000005        0.000145   \n",
       "2       3.410711   0.728270     0.286721        0.000073        0.003916   \n",
       "3       5.613262   0.517748     0.203838        0.000016        0.000177   \n",
       "4      10.273060   0.684319     0.269417        0.000013        0.000295   \n",
       "5      19.647889   0.714954     0.281479        0.000007        0.000210   \n",
       "6       6.091160   2.631371     1.035971        0.000017        0.000273   \n",
       "7      14.148657   1.509633     0.594345        0.000029        0.000597   \n",
       "8       2.842364   0.378765     0.149120        0.000032        0.000332   \n",
       "9       4.474438   0.563073     0.221682        0.000103        0.000304   \n",
       "\n",
       "   calcium_100g  iron_100g  \n",
       "0      0.043401   0.002285  \n",
       "1      0.017433   0.000779  \n",
       "2      0.037723   0.000814  \n",
       "3      0.068473   0.001994  \n",
       "4      0.062502   0.002819  \n",
       "5      0.107943   0.003514  \n",
       "6      0.044490   0.001632  \n",
       "7      0.046339   0.000952  \n",
       "8      0.055322   0.000267  \n",
       "9      0.087705   0.000883  "
      ]
     },
     "execution_count": 9,
     "metadata": {},
     "output_type": "execute_result"
    }
   ],
   "source": [
    "kmeans = KMeans(n_clusters=10, random_state=0) \\\n",
    "    .fit(scaled_data_3std)\n",
    "\n",
    "pd.DataFrame(\n",
    "    scaler\n",
    "    .inverse_transform(kmeans.cluster_centers_), columns=nf_cols_pruned\n",
    ")"
   ]
  },
  {
   "cell_type": "markdown",
   "metadata": {
    "colab_type": "text",
    "id": "mZJPN8v3pzxL"
   },
   "source": [
    "How do we work here? A part of the process involves training, tuning and evaluating a number of different clustering methods (more suitable for our problem than k-means). Both hard and soft clustering approaches might be of interest here.\n",
    "\n",
    "Another part is about diving into the clusters and exploring the products that comprise them. What kind of categories are they into, what is their nutritional rating, how do they relate to our analysis of packaging colours?\n",
    "\n",
    "In this notebook, we define the challenges we expect to face during the final phase of our analysis. We will proceed by addressing these challenges all the way to our eventual insights."
   ]
  }
 ],
 "metadata": {
  "colab": {
   "collapsed_sections": [
    "09Flrj8JtmDS"
   ],
   "name": "nutrient_clusters.ipynb",
   "provenance": [],
   "version": "0.3.2"
  },
  "kernelspec": {
   "display_name": "Python 3",
   "language": "python",
   "name": "python3"
  },
  "language_info": {
   "codemirror_mode": {
    "name": "ipython",
    "version": 3
   },
   "file_extension": ".py",
   "mimetype": "text/x-python",
   "name": "python",
   "nbconvert_exporter": "python",
   "pygments_lexer": "ipython3",
   "version": "3.7.1"
  }
 },
 "nbformat": 4,
 "nbformat_minor": 1
}
