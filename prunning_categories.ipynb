{
 "cells": [
  {
   "cell_type": "markdown",
   "metadata": {
    "colab_type": "text",
    "id": "l-X5sx6Yov4U"
   },
   "source": [
    "# Prunning research question: categories"
   ]
  },
  {
   "cell_type": "markdown",
   "metadata": {
    "colab_type": "text",
    "id": "BNVLZd-RjPRO"
   },
   "source": [
    "## Set-up"
   ]
  },
  {
   "cell_type": "code",
   "execution_count": 1,
   "metadata": {
    "colab": {},
    "colab_type": "code",
    "id": "To_d2zeXDSOw"
   },
   "outputs": [],
   "source": [
    "try:\n",
    "    # If we are not on google colab we need to upgrade pandas...\n",
    "    from google.colab import widgets\n",
    "    !pip install pandas --upgrade\n",
    "except ModuleNotFoundError:\n",
    "    # If we are not on google colab we pass\n",
    "    pass\n",
    "\n",
    "\n",
    "from distutils.version import LooseVersion\n",
    "import pandas as pd\n",
    "# As we are using features from pandas 0.23, we need to \n",
    "# check that the correct version is used.\n",
    "assert LooseVersion(pd.__version__) > LooseVersion('0.23'), \"\"\"\n",
    "If you are on Google Colab and this fails, make sure you \"restart runtime\"\n",
    "after running the cell that install the newest version of Pandas\n",
    "If you are not on Google Colab and this fails, please update your\n",
    "Pandas version: pip install --upgrade pandas\n",
    "\"\"\""
   ]
  },
  {
   "cell_type": "code",
   "execution_count": 2,
   "metadata": {
    "colab": {},
    "colab_type": "code",
    "id": "RS_FI_9OjbNj"
   },
   "outputs": [],
   "source": [
    "# The block of code is here to make the notebook Google Colab compatible\n",
    "try:\n",
    "    # If we are not on google colab (we assume that you don't have \n",
    "    # the google.colab module on your computer...), \n",
    "    # the line below will raise an error that will be catch :)\n",
    "    from google.colab import widgets\n",
    "    # We clean the content of the directory, so that we can use\n",
    "    #  git clone directly in it\n",
    "    !rm -rf *\n",
    "    !rm -rf .*\n",
    "    !git clone https://github.com/striantafyllouEPFL/healthy-candies.git .\n",
    "    # We get the data and initialize everything\n",
    "    !python ./init_project.py\n",
    "except ModuleNotFoundError:\n",
    "    pass"
   ]
  },
  {
   "cell_type": "code",
   "execution_count": 3,
   "metadata": {
    "colab": {
     "base_uri": "https://localhost:8080/",
     "height": 34
    },
    "colab_type": "code",
    "executionInfo": {
     "elapsed": 730,
     "status": "ok",
     "timestamp": 1543177666433,
     "user": {
      "displayName": "Florent Chehab",
      "photoUrl": "https://lh6.googleusercontent.com/-vA7R5ghOeow/AAAAAAAAAAI/AAAAAAAAAEQ/fiibEiGI8Ps/s64/photo.jpg",
      "userId": "17196172744623242444"
     },
     "user_tz": -60
    },
    "id": "1-Ej0bTHjdxG",
    "outputId": "d813950c-7911-4311-f5ba-e52a6ed7f2a7"
   },
   "outputs": [
    {
     "name": "stdout",
     "output_type": "stream",
     "text": [
      "Populating the interactive namespace from numpy and matplotlib\n"
     ]
    }
   ],
   "source": [
    "import pandas as pd\n",
    "import numpy as np\n",
    "\n",
    "# Project specific module/functions\n",
    "from healthy_candies.load import load_data\n",
    "from healthy_candies.path import OFF_CAT_CSV, WIKIDATA_CAT_TREE_CSV\n",
    "from healthy_candies.utils import plot_settings, log_bins\n",
    "\n",
    "\n",
    "import seaborn as sns\n",
    "%pylab inline\n",
    "%config InlineBackend.figure_format = 'retina'"
   ]
  },
  {
   "cell_type": "code",
   "execution_count": 4,
   "metadata": {
    "colab": {},
    "colab_type": "code",
    "id": "03cjRpY9A8q1"
   },
   "outputs": [],
   "source": [
    "# further plot settings\n",
    "sns.set()  # Use default seaborn styling for all plots\n",
    "sns.set_context('notebook')\n",
    "plt.rcParams['figure.dpi'] = 100"
   ]
  },
  {
   "cell_type": "markdown",
   "metadata": {
    "colab_type": "text",
    "id": "yNGYSkXw1He1"
   },
   "source": [
    "*One of the first objective we had internally in the team was to be able to generalize our approach to as many products categories as possible. The aim of this notebook is to explain why we dropped this idea.*"
   ]
  },
  {
   "cell_type": "code",
   "execution_count": 5,
   "metadata": {
    "colab": {},
    "colab_type": "code",
    "id": "VRjDeDG4rkch"
   },
   "outputs": [],
   "source": [
    "COL_NUTRI_CAT = 'nutrition_grade_fr'\n",
    "COL_NUTRI_FLOAT = 'nutrition-score-fr_100g'\n",
    "COL_MAIN_CAT = 'main_category'\n",
    "COL_PRODUCT_NAME = 'product_name'"
   ]
  },
  {
   "cell_type": "markdown",
   "metadata": {
    "colab_type": "text",
    "id": "fcj81YIb6Zhd"
   },
   "source": [
    "## Exploring the categories"
   ]
  },
  {
   "cell_type": "markdown",
   "metadata": {
    "colab_type": "text",
    "id": "PBKzKEQ72dUw"
   },
   "source": [
    "Of all the products that are contained in the dataset, we have only $\\approx 140\\,000$ products for which we have information on the associated nutriscore."
   ]
  },
  {
   "cell_type": "code",
   "execution_count": 6,
   "metadata": {
    "colab": {
     "base_uri": "https://localhost:8080/",
     "height": 34
    },
    "colab_type": "code",
    "executionInfo": {
     "elapsed": 33630,
     "status": "ok",
     "timestamp": 1543177742306,
     "user": {
      "displayName": "Florent Chehab",
      "photoUrl": "https://lh6.googleusercontent.com/-vA7R5ghOeow/AAAAAAAAAAI/AAAAAAAAAEQ/fiibEiGI8Ps/s64/photo.jpg",
      "userId": "17196172744623242444"
     },
     "user_tz": -60
    },
    "id": "so_GudxHsM7L",
    "outputId": "7d073af7-2ae2-4497-b2b9-50d83f9b1b02"
   },
   "outputs": [
    {
     "data": {
      "text/plain": [
       "(141605, 4)"
      ]
     },
     "execution_count": 6,
     "metadata": {},
     "output_type": "execute_result"
    }
   ],
   "source": [
    "df = load_data(usecols=[COL_NUTRI_FLOAT,\n",
    "                        COL_NUTRI_CAT,\n",
    "                        COL_MAIN_CAT,\n",
    "                        COL_PRODUCT_NAME],\n",
    "               limit_have_nutri_score=True)\n",
    "df.shape"
   ]
  },
  {
   "cell_type": "markdown",
   "metadata": {
    "colab_type": "text",
    "id": "Gg2deQld20lW"
   },
   "source": [
    "In the Open Food Facts database, all products are associated with one or more categories. Our first objective was therefore to see how many categories are present among the data. We can do that by looking at the `main_category` column of the dataset. What we first found is that the number of categories is huge with $\\approx 4\\,742$ different categories present in the data."
   ]
  },
  {
   "cell_type": "code",
   "execution_count": 7,
   "metadata": {
    "colab": {
     "base_uri": "https://localhost:8080/",
     "height": 34
    },
    "colab_type": "code",
    "executionInfo": {
     "elapsed": 81,
     "status": "ok",
     "timestamp": 1543177770873,
     "user": {
      "displayName": "Florent Chehab",
      "photoUrl": "https://lh6.googleusercontent.com/-vA7R5ghOeow/AAAAAAAAAAI/AAAAAAAAAEQ/fiibEiGI8Ps/s64/photo.jpg",
      "userId": "17196172744623242444"
     },
     "user_tz": -60
    },
    "id": "tQXmwIIS4PUM",
    "outputId": "05276841-0fea-426b-dc53-725fd5f74e21"
   },
   "outputs": [
    {
     "data": {
      "text/plain": [
       "(4742,)"
      ]
     },
     "execution_count": 7,
     "metadata": {},
     "output_type": "execute_result"
    }
   ],
   "source": [
    "categories = df[COL_MAIN_CAT]\n",
    "cat_counts = categories.value_counts()\n",
    "cat_counts.shape"
   ]
  },
  {
   "cell_type": "markdown",
   "metadata": {
    "colab_type": "text",
    "id": "Hj9jR-pv4l7q"
   },
   "source": [
    "Also, the number of products in each category follows a distribution close to a power law: many categories have very few products whereas few categories are associated with many categories."
   ]
  },
  {
   "cell_type": "code",
   "execution_count": 8,
   "metadata": {
    "colab": {
     "base_uri": "https://localhost:8080/",
     "height": 496
    },
    "colab_type": "code",
    "executionInfo": {
     "elapsed": 1678,
     "status": "ok",
     "timestamp": 1543177775279,
     "user": {
      "displayName": "Florent Chehab",
      "photoUrl": "https://lh6.googleusercontent.com/-vA7R5ghOeow/AAAAAAAAAAI/AAAAAAAAAEQ/fiibEiGI8Ps/s64/photo.jpg",
      "userId": "17196172744623242444"
     },
     "user_tz": -60
    },
    "id": "RTG1-mwZ2ssK",
    "outputId": "289a78a3-eed4-4d0f-e223-9dc419a7557e"
   },
   "outputs": [
    {
     "data": {
      "image/png": "[encoded data removed]",
      "text/plain": [
       "<Figure size 600x400 with 1 Axes>"
      ]
     },
     "metadata": {
      "image/png": {
       "height": 479,
       "width": 558
      }
     },
     "output_type": "display_data"
    }
   ],
   "source": [
    "bins = log_bins(cat_counts, 30)\n",
    "cat_counts.hist(bins=bins, density=True)\n",
    "\n",
    "plot_settings({\n",
    "    'title': 'Distribution of the categories count',\n",
    "    'xlabel': 'Categories count (log scale)',\n",
    "    'ylabel': 'Number of categories concerned / bin width (log scale)',\n",
    "    'xscale': 'log',\n",
    "    'yscale': 'log'})"
   ]
  },
  {
   "cell_type": "markdown",
   "metadata": {
    "colab_type": "text",
    "id": "B0juoMXV48Jn"
   },
   "source": [
    "When we look at the categories that are the most frequent, we find one called `en:plant-based-foods-and-beverages`."
   ]
  },
  {
   "cell_type": "code",
   "execution_count": 9,
   "metadata": {
    "colab": {
     "base_uri": "https://localhost:8080/",
     "height": 202
    },
    "colab_type": "code",
    "executionInfo": {
     "elapsed": 47,
     "status": "ok",
     "timestamp": 1543177779568,
     "user": {
      "displayName": "Florent Chehab",
      "photoUrl": "https://lh6.googleusercontent.com/-vA7R5ghOeow/AAAAAAAAAAI/AAAAAAAAAEQ/fiibEiGI8Ps/s64/photo.jpg",
      "userId": "17196172744623242444"
     },
     "user_tz": -60
    },
    "id": "ZdOlEZzE45gI",
    "outputId": "64126e10-8c90-4db1-8d17-a447a79f10d3"
   },
   "outputs": [
    {
     "data": {
      "text/plain": [
       "en:plant-based-foods-and-beverages    31319\n",
       "en:sugary-snacks                      22854\n",
       "en:beverages                          14398\n",
       "en:dairies                            14260\n",
       "en:meats                               8265\n",
       "en:meals                               7417\n",
       "en:groceries                           6885\n",
       "en:frozen-foods                        2992\n",
       "en:spreads                             2914\n",
       "en:desserts                            2836\n",
       "Name: main_category, dtype: int64"
      ]
     },
     "execution_count": 9,
     "metadata": {},
     "output_type": "execute_result"
    }
   ],
   "source": [
    "cat_counts.head(10)"
   ]
  },
  {
   "cell_type": "markdown",
   "metadata": {
    "colab_type": "text",
    "id": "berJCJge5skM"
   },
   "source": [
    "If we look at a sample from of the products from that category, we can find very diverse things that are not comparable (olive oil, jam, butter, nuggets, etc.). This category must be the default one in the app that helps to collect information on the products."
   ]
  },
  {
   "cell_type": "code",
   "execution_count": 10,
   "metadata": {
    "colab": {
     "base_uri": "https://localhost:8080/",
     "height": 202
    },
    "colab_type": "code",
    "executionInfo": {
     "elapsed": 60,
     "status": "ok",
     "timestamp": 1543177784118,
     "user": {
      "displayName": "Florent Chehab",
      "photoUrl": "https://lh6.googleusercontent.com/-vA7R5ghOeow/AAAAAAAAAAI/AAAAAAAAAEQ/fiibEiGI8Ps/s64/photo.jpg",
      "userId": "17196172744623242444"
     },
     "user_tz": -60
    },
    "id": "Op96GBKw5SH9",
    "outputId": "9bbf54f6-f9c2-4ea3-9b62-b162ac446686"
   },
   "outputs": [
    {
     "data": {
      "text/plain": [
       "332961                Confiture de Framboise\n",
       "403604                                Cassis\n",
       "641444       Bio olio extra vergine di oliva\n",
       "382372                      Perles blanches \n",
       "327897                  Confiture d'abricots\n",
       "653808                     Dátiles con hueso\n",
       "633561                                Victor\n",
       "377875                          Oméga 3 doux\n",
       "423457                   Nuggets végétariens\n",
       "599249    Aceite de semilla de uva Grapecare\n",
       "Name: product_name, dtype: object"
      ]
     },
     "execution_count": 10,
     "metadata": {},
     "output_type": "execute_result"
    }
   ],
   "source": [
    "df[df[COL_MAIN_CAT] == 'en:plant-based-foods-and-beverages'][COL_PRODUCT_NAME] \\\n",
    "    .sample(10, random_state=10)"
   ]
  },
  {
   "cell_type": "markdown",
   "metadata": {
    "colab_type": "text",
    "id": "jAefmt6l6MIx"
   },
   "source": [
    "**As a result we won't be able to assume that the content of all categories is homogenous.**"
   ]
  },
  {
   "cell_type": "markdown",
   "metadata": {
    "colab_type": "text",
    "id": "tFmMb7__6eHe"
   },
   "source": [
    "## Grouping the categories"
   ]
  },
  {
   "cell_type": "markdown",
   "metadata": {
    "colab_type": "text",
    "id": "BQdGNRCR6jOg"
   },
   "source": [
    "Since there are many categories inside the data, we were still interested into grouping those categories automatically, to have relevant bigger categories.\n",
    "\n",
    "To do this we used two other datasets:\n",
    "* The first one is the list of categories [provided by  Open Food Facts](https://world.openfoodfacts.org/categories.json) that contains also for some categories a matching *Wikidata* entry,\n",
    "* The second one is dataset build from a [hierarchy of entries](https://tools.wmflabs.org/wikidata-todo/tree.html?q=2095&rp=279) related to food on *Wikidata*.\n",
    "\n",
    "Using the hierarchy, we tried to group categories of open food facts. We built the necessary script to perform this task, but the results are not successful. Let's explore."
   ]
  },
  {
   "cell_type": "markdown",
   "metadata": {
    "colab_type": "text",
    "id": "5isb94T377zT"
   },
   "source": [
    "The head of the first (custom) dataset is shown below. For each category on Open Food Facts, the matching wiki data id is given if it exists. "
   ]
  },
  {
   "cell_type": "code",
   "execution_count": 11,
   "metadata": {
    "colab": {
     "base_uri": "https://localhost:8080/",
     "height": 195
    },
    "colab_type": "code",
    "executionInfo": {
     "elapsed": 79,
     "status": "ok",
     "timestamp": 1543177788885,
     "user": {
      "displayName": "Florent Chehab",
      "photoUrl": "https://lh6.googleusercontent.com/-vA7R5ghOeow/AAAAAAAAAAI/AAAAAAAAAEQ/fiibEiGI8Ps/s64/photo.jpg",
      "userId": "17196172744623242444"
     },
     "user_tz": -60
    },
    "id": "f_exOyvkrIH1",
    "outputId": "62aef9f5-a66f-474b-c561-08b89caf62e0"
   },
   "outputs": [
    {
     "data": {
      "text/html": [
       "<div>\n",
       "<style scoped>\n",
       "    .dataframe tbody tr th:only-of-type {\n",
       "        vertical-align: middle;\n",
       "    }\n",
       "\n",
       "    .dataframe tbody tr th {\n",
       "        vertical-align: top;\n",
       "    }\n",
       "\n",
       "    .dataframe thead th {\n",
       "        text-align: right;\n",
       "    }\n",
       "</style>\n",
       "<table border=\"1\" class=\"dataframe\">\n",
       "  <thead>\n",
       "    <tr style=\"text-align: right;\">\n",
       "      <th></th>\n",
       "      <th>catIdOff</th>\n",
       "      <th>wikidataId</th>\n",
       "    </tr>\n",
       "  </thead>\n",
       "  <tbody>\n",
       "    <tr>\n",
       "      <th>0</th>\n",
       "      <td>en:plant-based-foods-and-beverages</td>\n",
       "      <td></td>\n",
       "    </tr>\n",
       "    <tr>\n",
       "      <th>1</th>\n",
       "      <td>en:plant-based-foods</td>\n",
       "      <td></td>\n",
       "    </tr>\n",
       "    <tr>\n",
       "      <th>2</th>\n",
       "      <td>en:beverages</td>\n",
       "      <td>Q40050</td>\n",
       "    </tr>\n",
       "    <tr>\n",
       "      <th>3</th>\n",
       "      <td>en:sugary-snacks</td>\n",
       "      <td></td>\n",
       "    </tr>\n",
       "    <tr>\n",
       "      <th>4</th>\n",
       "      <td>en:dairies</td>\n",
       "      <td>Q185217</td>\n",
       "    </tr>\n",
       "  </tbody>\n",
       "</table>\n",
       "</div>"
      ],
      "text/plain": [
       "                             catIdOff wikidataId\n",
       "0  en:plant-based-foods-and-beverages           \n",
       "1                en:plant-based-foods           \n",
       "2                        en:beverages     Q40050\n",
       "3                    en:sugary-snacks           \n",
       "4                          en:dairies    Q185217"
      ]
     },
     "execution_count": 11,
     "metadata": {},
     "output_type": "execute_result"
    }
   ],
   "source": [
    "# Load the 2 new datasets (custom formatted)\n",
    "df_off_cat = pd.read_csv(OFF_CAT_CSV)\n",
    "df_off_cat = df_off_cat.fillna('')\n",
    "df_off_cat.head()"
   ]
  },
  {
   "cell_type": "markdown",
   "metadata": {
    "colab_type": "text",
    "id": "Pflz_PMy9vjQ"
   },
   "source": [
    "We can see that we have $998$ products with a matching wikidataId, which is pretty good ! "
   ]
  },
  {
   "cell_type": "code",
   "execution_count": 12,
   "metadata": {
    "colab": {
     "base_uri": "https://localhost:8080/",
     "height": 34
    },
    "colab_type": "code",
    "executionInfo": {
     "elapsed": 282,
     "status": "ok",
     "timestamp": 1543177790148,
     "user": {
      "displayName": "Florent Chehab",
      "photoUrl": "https://lh6.googleusercontent.com/-vA7R5ghOeow/AAAAAAAAAAI/AAAAAAAAAEQ/fiibEiGI8Ps/s64/photo.jpg",
      "userId": "17196172744623242444"
     },
     "user_tz": -60
    },
    "id": "D7JagVOw9jH6",
    "outputId": "fb5d5547-db97-4076-dc46-d84929ec08a4"
   },
   "outputs": [
    {
     "data": {
      "text/plain": [
       "(998,)"
      ]
     },
     "execution_count": 12,
     "metadata": {},
     "output_type": "execute_result"
    }
   ],
   "source": [
    "df_off_cat.wikidataId.value_counts().shape"
   ]
  },
  {
   "cell_type": "markdown",
   "metadata": {
    "colab_type": "text",
    "id": "ajIGbSC58SXY"
   },
   "source": [
    "The head of the second (custom) dataset is shown below. For each `wikidataId` we have the matching category parent according to the wikidata. In column `0` we have the closest parent to the food category, in column `1` we have the closest parent separated by distance 1 from the food category, etc."
   ]
  },
  {
   "cell_type": "code",
   "execution_count": 13,
   "metadata": {
    "colab": {
     "base_uri": "https://localhost:8080/",
     "height": 249
    },
    "colab_type": "code",
    "executionInfo": {
     "elapsed": 330,
     "status": "ok",
     "timestamp": 1543177790355,
     "user": {
      "displayName": "Florent Chehab",
      "photoUrl": "https://lh6.googleusercontent.com/-vA7R5ghOeow/AAAAAAAAAAI/AAAAAAAAAEQ/fiibEiGI8Ps/s64/photo.jpg",
      "userId": "17196172744623242444"
     },
     "user_tz": -60
    },
    "id": "fZifjvEk8KOG",
    "outputId": "bea0e035-2c52-47bc-fccd-1b712f49c374"
   },
   "outputs": [
    {
     "data": {
      "text/html": [
       "<div>\n",
       "<style scoped>\n",
       "    .dataframe tbody tr th:only-of-type {\n",
       "        vertical-align: middle;\n",
       "    }\n",
       "\n",
       "    .dataframe tbody tr th {\n",
       "        vertical-align: top;\n",
       "    }\n",
       "\n",
       "    .dataframe thead th {\n",
       "        text-align: right;\n",
       "    }\n",
       "</style>\n",
       "<table border=\"1\" class=\"dataframe\">\n",
       "  <thead>\n",
       "    <tr style=\"text-align: right;\">\n",
       "      <th></th>\n",
       "      <th>0</th>\n",
       "      <th>1</th>\n",
       "      <th>2</th>\n",
       "      <th>3</th>\n",
       "      <th>4</th>\n",
       "      <th>5</th>\n",
       "      <th>6</th>\n",
       "      <th>7</th>\n",
       "      <th>8</th>\n",
       "      <th>9</th>\n",
       "      <th>10</th>\n",
       "      <th>wikidataId</th>\n",
       "      <th>wikidataName</th>\n",
       "    </tr>\n",
       "  </thead>\n",
       "  <tbody>\n",
       "    <tr>\n",
       "      <th>0</th>\n",
       "      <td>Q1269</td>\n",
       "      <td>Q1093768</td>\n",
       "      <td>Q1093768</td>\n",
       "      <td>Q1093768</td>\n",
       "      <td>Q1093768</td>\n",
       "      <td>Q1093768</td>\n",
       "      <td>Q1093768</td>\n",
       "      <td>Q1093768</td>\n",
       "      <td>Q1093768</td>\n",
       "      <td>Q1093768</td>\n",
       "      <td>Q1093768</td>\n",
       "      <td>Q1093768</td>\n",
       "      <td>Bar-le-duc jelly</td>\n",
       "    </tr>\n",
       "    <tr>\n",
       "      <th>1</th>\n",
       "      <td>Q1269</td>\n",
       "      <td>Q55181446</td>\n",
       "      <td>Q55181446</td>\n",
       "      <td>Q55181446</td>\n",
       "      <td>Q55181446</td>\n",
       "      <td>Q55181446</td>\n",
       "      <td>Q55181446</td>\n",
       "      <td>Q55181446</td>\n",
       "      <td>Q55181446</td>\n",
       "      <td>Q55181446</td>\n",
       "      <td>Q55181446</td>\n",
       "      <td>Q55181446</td>\n",
       "      <td>Amarene brusche di Modena</td>\n",
       "    </tr>\n",
       "    <tr>\n",
       "      <th>2</th>\n",
       "      <td>Q1269</td>\n",
       "      <td>Q94835</td>\n",
       "      <td>Q94835</td>\n",
       "      <td>Q94835</td>\n",
       "      <td>Q94835</td>\n",
       "      <td>Q94835</td>\n",
       "      <td>Q94835</td>\n",
       "      <td>Q94835</td>\n",
       "      <td>Q94835</td>\n",
       "      <td>Q94835</td>\n",
       "      <td>Q94835</td>\n",
       "      <td>Q94835</td>\n",
       "      <td>coconut jam</td>\n",
       "    </tr>\n",
       "    <tr>\n",
       "      <th>3</th>\n",
       "      <td>Q1269</td>\n",
       "      <td>Q555084</td>\n",
       "      <td>Q555084</td>\n",
       "      <td>Q555084</td>\n",
       "      <td>Q555084</td>\n",
       "      <td>Q555084</td>\n",
       "      <td>Q555084</td>\n",
       "      <td>Q555084</td>\n",
       "      <td>Q555084</td>\n",
       "      <td>Q555084</td>\n",
       "      <td>Q555084</td>\n",
       "      <td>Q555084</td>\n",
       "      <td>quince cheese</td>\n",
       "    </tr>\n",
       "    <tr>\n",
       "      <th>4</th>\n",
       "      <td>Q1269</td>\n",
       "      <td>Q920658</td>\n",
       "      <td>Q256622</td>\n",
       "      <td>Q256622</td>\n",
       "      <td>Q256622</td>\n",
       "      <td>Q256622</td>\n",
       "      <td>Q256622</td>\n",
       "      <td>Q256622</td>\n",
       "      <td>Q256622</td>\n",
       "      <td>Q256622</td>\n",
       "      <td>Q256622</td>\n",
       "      <td>Q256622</td>\n",
       "      <td>powidl</td>\n",
       "    </tr>\n",
       "  </tbody>\n",
       "</table>\n",
       "</div>"
      ],
      "text/plain": [
       "       0          1          2          3          4          5          6  \\\n",
       "0  Q1269   Q1093768   Q1093768   Q1093768   Q1093768   Q1093768   Q1093768   \n",
       "1  Q1269  Q55181446  Q55181446  Q55181446  Q55181446  Q55181446  Q55181446   \n",
       "2  Q1269     Q94835     Q94835     Q94835     Q94835     Q94835     Q94835   \n",
       "3  Q1269    Q555084    Q555084    Q555084    Q555084    Q555084    Q555084   \n",
       "4  Q1269    Q920658    Q256622    Q256622    Q256622    Q256622    Q256622   \n",
       "\n",
       "           7          8          9         10 wikidataId  \\\n",
       "0   Q1093768   Q1093768   Q1093768   Q1093768   Q1093768   \n",
       "1  Q55181446  Q55181446  Q55181446  Q55181446  Q55181446   \n",
       "2     Q94835     Q94835     Q94835     Q94835     Q94835   \n",
       "3    Q555084    Q555084    Q555084    Q555084    Q555084   \n",
       "4    Q256622    Q256622    Q256622    Q256622    Q256622   \n",
       "\n",
       "                wikidataName  \n",
       "0           Bar-le-duc jelly  \n",
       "1  Amarene brusche di Modena  \n",
       "2                coconut jam  \n",
       "3              quince cheese  \n",
       "4                     powidl  "
      ]
     },
     "execution_count": 13,
     "metadata": {},
     "output_type": "execute_result"
    }
   ],
   "source": [
    "df_h = pd.read_csv(WIKIDATA_CAT_TREE_CSV)\n",
    "df_h.head(5)"
   ]
  },
  {
   "cell_type": "markdown",
   "metadata": {
    "colab_type": "text",
    "id": "3Cm10WUL8599"
   },
   "source": [
    "Doing the merge between the main dataset and the one with all the categories is performed with a negligible loss of data."
   ]
  },
  {
   "cell_type": "code",
   "execution_count": 14,
   "metadata": {
    "colab": {
     "base_uri": "https://localhost:8080/",
     "height": 34
    },
    "colab_type": "code",
    "executionInfo": {
     "elapsed": 266,
     "status": "ok",
     "timestamp": 1543177791128,
     "user": {
      "displayName": "Florent Chehab",
      "photoUrl": "https://lh6.googleusercontent.com/-vA7R5ghOeow/AAAAAAAAAAI/AAAAAAAAAEQ/fiibEiGI8Ps/s64/photo.jpg",
      "userId": "17196172744623242444"
     },
     "user_tz": -60
    },
    "id": "5hQ5_aZtrc_M",
    "outputId": "063c0750-02a3-4fa9-b7fc-ee9e373c5cb3"
   },
   "outputs": [
    {
     "data": {
      "text/plain": [
       "(141566, 6)"
      ]
     },
     "execution_count": 14,
     "metadata": {},
     "output_type": "execute_result"
    }
   ],
   "source": [
    "df_with_wikiId = df.merge(\n",
    "    df_off_cat, left_on=COL_MAIN_CAT, right_on='catIdOff')\n",
    "df_with_wikiId.shape"
   ]
  },
  {
   "cell_type": "markdown",
   "metadata": {
    "colab_type": "text",
    "id": "JUloRbIJtrFb"
   },
   "source": [
    "However, the mapping from a product to wikidataId concerns only $\\approx 42 \\,000$ products."
   ]
  },
  {
   "cell_type": "code",
   "execution_count": 15,
   "metadata": {
    "colab": {
     "base_uri": "https://localhost:8080/",
     "height": 34
    },
    "colab_type": "code",
    "executionInfo": {
     "elapsed": 109,
     "status": "ok",
     "timestamp": 1543177791570,
     "user": {
      "displayName": "Florent Chehab",
      "photoUrl": "https://lh6.googleusercontent.com/-vA7R5ghOeow/AAAAAAAAAAI/AAAAAAAAAEQ/fiibEiGI8Ps/s64/photo.jpg",
      "userId": "17196172744623242444"
     },
     "user_tz": -60
    },
    "id": "ddCDxrg8sWPo",
    "outputId": "29b6f28b-13d0-4f1d-c8da-98215ef3e87f"
   },
   "outputs": [
    {
     "data": {
      "text/plain": [
       "41820"
      ]
     },
     "execution_count": 15,
     "metadata": {},
     "output_type": "execute_result"
    }
   ],
   "source": [
    "sum(df_with_wikiId['wikidataId'] != '')"
   ]
  },
  {
   "cell_type": "markdown",
   "metadata": {
    "colab_type": "text",
    "id": "mUpqGViA98zT"
   },
   "source": [
    "And we are left with only $23$ different categories."
   ]
  },
  {
   "cell_type": "code",
   "execution_count": 16,
   "metadata": {
    "colab": {
     "base_uri": "https://localhost:8080/",
     "height": 34
    },
    "colab_type": "code",
    "executionInfo": {
     "elapsed": 76,
     "status": "ok",
     "timestamp": 1543177792480,
     "user": {
      "displayName": "Florent Chehab",
      "photoUrl": "https://lh6.googleusercontent.com/-vA7R5ghOeow/AAAAAAAAAAI/AAAAAAAAAEQ/fiibEiGI8Ps/s64/photo.jpg",
      "userId": "17196172744623242444"
     },
     "user_tz": -60
    },
    "id": "CvgNHE9ztUVu",
    "outputId": "0b69547e-56ad-498b-eb0f-2c02631564b0"
   },
   "outputs": [
    {
     "data": {
      "text/plain": [
       "(23,)"
      ]
     },
     "execution_count": 16,
     "metadata": {},
     "output_type": "execute_result"
    }
   ],
   "source": [
    "tmp = df_with_wikiId['wikidataId'].value_counts()\n",
    "tmp.shape"
   ]
  },
  {
   "cell_type": "code",
   "execution_count": 17,
   "metadata": {
    "colab": {
     "base_uri": "https://localhost:8080/",
     "height": 420
    },
    "colab_type": "code",
    "executionInfo": {
     "elapsed": 46,
     "status": "ok",
     "timestamp": 1543177793028,
     "user": {
      "displayName": "Florent Chehab",
      "photoUrl": "https://lh6.googleusercontent.com/-vA7R5ghOeow/AAAAAAAAAAI/AAAAAAAAAEQ/fiibEiGI8Ps/s64/photo.jpg",
      "userId": "17196172744623242444"
     },
     "user_tz": -60
    },
    "id": "AVquXwSm-AUg",
    "outputId": "8f873038-c6d0-4a40-fcf0-40f76dad9a01"
   },
   "outputs": [
    {
     "data": {
      "text/plain": [
       "             99746\n",
       "Q40050       14398\n",
       "Q185217      14260\n",
       "Q3391775      7417\n",
       "Q18396746     2413\n",
       "Q28803         866\n",
       "Q4368298       731\n",
       "Q645858        419\n",
       "Q11175039      396\n",
       "Q1142483       246\n",
       "Q6648982       206\n",
       "Q1621080       156\n",
       "Q189567         81\n",
       "Q106252         70\n",
       "Q6584340        69\n",
       "Q41354          33\n",
       "Q5876127        25\n",
       "Q1255306        17\n",
       "Q1626970         8\n",
       "Q13360264        5\n",
       "Q300472          2\n",
       "Q797971          1\n",
       "Q1709220         1\n",
       "Name: wikidataId, dtype: int64"
      ]
     },
     "execution_count": 17,
     "metadata": {},
     "output_type": "execute_result"
    }
   ],
   "source": [
    "tmp"
   ]
  },
  {
   "cell_type": "markdown",
   "metadata": {
    "colab_type": "text",
    "id": "9TNNP1gn-N02"
   },
   "source": [
    "Now, we continue by merging the data with the second dataset also."
   ]
  },
  {
   "cell_type": "code",
   "execution_count": 18,
   "metadata": {
    "colab": {},
    "colab_type": "code",
    "id": "58Z9hxuQt0j9"
   },
   "outputs": [],
   "source": [
    "df_final = df_with_wikiId.merge(df_h, on='wikidataId')"
   ]
  },
  {
   "cell_type": "markdown",
   "metadata": {
    "colab_type": "text",
    "id": "1KxjexHOuNHc"
   },
   "source": [
    "Again we lose some products and we are left with $\\approx 34\\,000$ products."
   ]
  },
  {
   "cell_type": "code",
   "execution_count": 19,
   "metadata": {
    "colab": {
     "base_uri": "https://localhost:8080/",
     "height": 34
    },
    "colab_type": "code",
    "executionInfo": {
     "elapsed": 46,
     "status": "ok",
     "timestamp": 1543177801192,
     "user": {
      "displayName": "Florent Chehab",
      "photoUrl": "https://lh6.googleusercontent.com/-vA7R5ghOeow/AAAAAAAAAAI/AAAAAAAAAEQ/fiibEiGI8Ps/s64/photo.jpg",
      "userId": "17196172744623242444"
     },
     "user_tz": -60
    },
    "id": "Kyh-Ucrut6ii",
    "outputId": "fa45716d-fe9e-4823-f886-54859fe0684f"
   },
   "outputs": [
    {
     "data": {
      "text/plain": [
       "(33589, 18)"
      ]
     },
     "execution_count": 19,
     "metadata": {},
     "output_type": "execute_result"
    }
   ],
   "source": [
    "df_final.shape"
   ]
  },
  {
   "cell_type": "markdown",
   "metadata": {
    "colab_type": "text",
    "id": "ylmwIk32_AUn"
   },
   "source": [
    "At the end, we are left with $18$ categories from Open Food Facts (shown below)."
   ]
  },
  {
   "cell_type": "code",
   "execution_count": 20,
   "metadata": {
    "colab": {
     "base_uri": "https://localhost:8080/",
     "height": 336
    },
    "colab_type": "code",
    "executionInfo": {
     "elapsed": 49,
     "status": "ok",
     "timestamp": 1543177802112,
     "user": {
      "displayName": "Florent Chehab",
      "photoUrl": "https://lh6.googleusercontent.com/-vA7R5ghOeow/AAAAAAAAAAI/AAAAAAAAAEQ/fiibEiGI8Ps/s64/photo.jpg",
      "userId": "17196172744623242444"
     },
     "user_tz": -60
    },
    "id": "jGMJ_nyK-3Ru",
    "outputId": "db1cbc62-4f96-44cf-bfb6-411a0cfb9239"
   },
   "outputs": [
    {
     "data": {
      "text/plain": [
       "en:beverages                     14398\n",
       "en:dairies                       14260\n",
       "en:canned-foods                   2413\n",
       "en:sandwiches                      866\n",
       "en:dietary-supplements             419\n",
       "en:terrine                         396\n",
       "en:pies                            246\n",
       "en:pet-food                        206\n",
       "en:olives                          156\n",
       "en:marzipan                         70\n",
       "en:syrups                           69\n",
       "en:vinegars                         33\n",
       "en:christmas-foods-and-drinks       25\n",
       "en:dragees                          17\n",
       "en:milk-substitute                   8\n",
       "en:two-crust-pies                    5\n",
       "en:baby-foods                        1\n",
       "fr:blondies                          1\n",
       "Name: main_category, dtype: int64"
      ]
     },
     "execution_count": 20,
     "metadata": {},
     "output_type": "execute_result"
    }
   ],
   "source": [
    "df_final[COL_MAIN_CAT].value_counts()"
   ]
  },
  {
   "cell_type": "markdown",
   "metadata": {
    "colab_type": "text",
    "id": "iIi4eeEq_ZnM"
   },
   "source": [
    "Using the data from the second dataset, we can match those $18$ categories to only $11$ categories."
   ]
  },
  {
   "cell_type": "code",
   "execution_count": 21,
   "metadata": {
    "colab": {
     "base_uri": "https://localhost:8080/",
     "height": 34
    },
    "colab_type": "code",
    "executionInfo": {
     "elapsed": 55,
     "status": "ok",
     "timestamp": 1543177804505,
     "user": {
      "displayName": "Florent Chehab",
      "photoUrl": "https://lh6.googleusercontent.com/-vA7R5ghOeow/AAAAAAAAAAI/AAAAAAAAAEQ/fiibEiGI8Ps/s64/photo.jpg",
      "userId": "17196172744623242444"
     },
     "user_tz": -60
    },
    "id": "vpKdMRtG_PR4",
    "outputId": "45f1cd71-5a83-4e9d-d008-2365541337b7"
   },
   "outputs": [
    {
     "data": {
      "text/plain": [
       "(11,)"
      ]
     },
     "execution_count": 21,
     "metadata": {},
     "output_type": "execute_result"
    }
   ],
   "source": [
    "df_final['0'].value_counts().shape"
   ]
  },
  {
   "cell_type": "markdown",
   "metadata": {
    "colab_type": "text",
    "id": "75bls2Ah_nZ5"
   },
   "source": [
    "**At the end, all this work is not very successful.**\n",
    "\n",
    "\n",
    "As a result, we could focus on a curated list of categories for our project if we want to focus on the categorical aspects of products. Doing so would enable to check a bit more what's inside a category for example."
   ]
  },
  {
   "cell_type": "code",
   "execution_count": null,
   "metadata": {
    "colab": {},
    "colab_type": "code",
    "id": "BCCEd5AhlYDT"
   },
   "outputs": [],
   "source": []
  }
 ],
 "metadata": {
  "colab": {
   "collapsed_sections": [
    "BNVLZd-RjPRO"
   ],
   "name": "prunning_categories.ipynb",
   "provenance": [],
   "toc_visible": true,
   "version": "0.3.2"
  },
  "kernelspec": {
   "display_name": "Python 3",
   "language": "python",
   "name": "python3"
  },
  "language_info": {
   "codemirror_mode": {
    "name": "ipython",
    "version": 3
   },
   "file_extension": ".py",
   "mimetype": "text/x-python",
   "name": "python",
   "nbconvert_exporter": "python",
   "pygments_lexer": "ipython3",
   "version": "3.7.1"
  }
 },
 "nbformat": 4,
 "nbformat_minor": 1
}
