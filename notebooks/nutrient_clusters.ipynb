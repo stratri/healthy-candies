{
 "cells": [
  {
   "cell_type": "markdown",
   "metadata": {
    "colab_type": "text",
    "id": "hlTM8RtXvStH"
   },
   "source": [
    "# Nutritional reverse engineering\n",
    "_Tracing nutrient composition back to food product categories_\n",
    "\n",
    "_\"Show me your nutrients, and I'll tell you who you are\"_"
   ]
  },
  {
   "cell_type": "markdown",
   "metadata": {
    "colab_type": "text",
    "id": "A9NP2FhBNZht"
   },
   "source": [
    "## Motivation"
   ]
  },
  {
   "cell_type": "markdown",
   "metadata": {
    "colab_type": "text",
    "id": "fHaADv3usNsY"
   },
   "source": [
    "The development of the *Open Food Facts* project in 2012 was seen as a major win for enhancing consumer awareness and challenging food producers to focus on the nutritional value of their products. The collaborative database has attracted increased attention during the past couple of years due to its collaboration with the French government on the development and promotion of a nutritional rating system as part of the *Nutri-Score* brand. Calculated directly on the nutrient content of food products in a way inspired by the nutrient profiling system of the British Food Standards Agency, *Nutri-Score* was introduced in 2016 and its popularity has led Belgium and Spain to adopt it as well.\n",
    "\n",
    "With the database emerging as a *\"Wikipedia of food products\"*, the issue of data quality has been brought into focus. As a collaborative database whose size makes it hard to moderate, *Open Food Facts* is expectedly subject to a series of inconsistencies, including inaccurate product submissions, data entry mistakes and missing data. It is a major issue, since data quality is crucial for allowing any kind of systematic use of the database, such as calculating nutritional ratings or supporting food-related analysis. While the data problems with the nutritional information itself are expected to be controlled by incorporating government-provided information into the database, issues with other fields might not have such obvious solutions.\n",
    "\n",
    "In this part of our project, we focus on the product category tree of the database. Product categories provide a popular level of granularity when analysing food products, such as when articulating dietary guidelines, suggesting healthier substitutes, exploring trends in certain kinds of food or connecting nutritional information to food production standards and shopper insights. For *Open Food Facts*, product categories are particularly important, both because of the open nature of the database (which encourages a brand-agnostic view of the products) and because of its utilization in calculating or validating nutritional ratings (with the nutritional profiling system behind the calculations involving category-specific computations).\n",
    "\n",
    "The *Open Food Facts* database does have a product category tree, with each product being assigned to a series of categories and subcategories. However, as we can see in our data exploration notebook,  a considerable number of products are not properly classified, while nearly three fourths of the database is not assigned to any category at all. This unfortunately renders the current category tree ill suited for related analyses.\n",
    "\n",
    "How can we overcome this problem? Is there some other way we could validate existing classifications or impute missing ones? A quick valid answer would point to the textual information about the product, particularly its title. Although not yet explored in the context of the *Open Food Facts* project, using text classification to group together products that share words in their title is indeed a popular product classification technique in both scientific literature and practical applications. Still, this method, in our specific context, is subject to limitations, as it might *a)* group together products that are similar text-wise but actually different (e.g. \"cream sauce\" and \"ice cream\"), *b)* miss connections between similar food products that are quite differently named (e.g. \"Beef sausages with tomato\" and \"Black pudding\"), and *c)* lead to nutritionally irrelevant categorizations which might be of interest in *Open Food Facts*-related projects (e.g. not discriminating between low-fat and full-fat yoghurt).\n",
    "\n",
    "As part of our project, we investigate another piece of information that might provide a hint about the category of a product, particularly its nutritional composition. We make the hypothesis that products of the same category share strong similarities in their nutrient content, but are also very different from products of other categories. If this hypothesis stands, then we should be able to group products based on their nutrition facts so that the groups provide a hint about the category.\n",
    "\n",
    "The goal of our analysis is to evaluate our hypothesis about category inner homogeneity and cross-category divergence in terms of nutritional composition, and assess whether nutrient content can serve as a discriminating factor when attempting to infer product categories.\n",
    "\n",
    "Practically this is an unsupervised learning problem, as we have to discover the categories ourselves. We will use clustering to group products based on their nutritional composition, and then examine if the resulting clusters provide any hints about possible categorization opportunities.\n",
    "\n",
    "Let's get started!"
   ]
  },
  {
   "cell_type": "code",
   "execution_count": 1,
   "metadata": {
    "colab": {
     "base_uri": "https://localhost:8080/",
     "height": 35
    },
    "colab_type": "code",
    "id": "228yR7xpyQvH",
    "outputId": "4d8beb15-a116-4e63-8996-f4dcfa3ee246"
   },
   "outputs": [
    {
     "name": "stdout",
     "output_type": "stream",
     "text": [
      "Populating the interactive namespace from numpy and matplotlib\n"
     ]
    }
   ],
   "source": [
    "%pylab inline\n",
    "import pandas as pd\n",
    "import seaborn as sns\n",
    "from os.path import join\n",
    "\n",
    "# Project specific module/functions\n",
    "from healthy_candies.load import load_data\n",
    "from healthy_candies.utils import plot_settings\n",
    "from healthy_candies.path import STATIC_DATA_FOLDER\n",
    "\n",
    "# Machine learning\n",
    "from sklearn.preprocessing import RobustScaler\n",
    "from sklearn.neighbors import NearestNeighbors\n",
    "from sklearn.cluster import DBSCAN"
   ]
  },
  {
   "cell_type": "code",
   "execution_count": 2,
   "metadata": {
    "colab": {},
    "colab_type": "code",
    "id": "nn9MI0J_xbP3"
   },
   "outputs": [],
   "source": [
    "# Plot settings\n",
    "sns.set()  # Use default seaborn styling for all plots\n",
    "sns.set_context('notebook')\n",
    "plt.rcParams['figure.dpi'] = 100"
   ]
  },
  {
   "cell_type": "markdown",
   "metadata": {
    "colab_type": "text",
    "id": "JIgYblYRyEIk"
   },
   "source": [
    "## Preprocessing"
   ]
  },
  {
   "cell_type": "code",
   "execution_count": 3,
   "metadata": {
    "colab": {
     "base_uri": "https://localhost:8080/",
     "height": 74
    },
    "colab_type": "code",
    "id": "2flxX-UQ9738",
    "outputId": "689e14ee-f5ff-48cb-cfc8-386c84d917dd"
   },
   "outputs": [],
   "source": [
    "# Load data\n",
    "data = load_data(limit_have_nutri_score=False)\n",
    "\n",
    "# Identify nutrition facts columns\n",
    "cols = data.columns\n",
    "nf_cols = cols[cols.str.contains(r'100g')] \\\n",
    "    .drop(['nutrition-score-fr_100g', 'nutrition-score-uk_100g'])"
   ]
  },
  {
   "cell_type": "markdown",
   "metadata": {
    "colab_type": "text",
    "id": "Y5h8w4QA2K7_"
   },
   "source": [
    "We will use the nutrition fact columns, each of which refers to a single nutrition fact (e.g. energy, proteins, sodium). All nutrients are measured in grams (g), except for energy, which is measured in kilojoules (kJ).\n",
    "\n",
    "Nutritional information is provided per 100g/ml, which leads us to our first need for a decision. At this level, products are not directly comparable nutrition-wise, as the amount we consume at a time is different for each product. For example, we would probably eat 200 grams of yoghurt, while it would be only 1 gram of salt; these two products are very different in terms of *serving size*.\n",
    "\n",
    "Here, we could choose either to convert our quantities according to serving size, or merely consider nutrients at the 100g/ml level. Intuitively, we do expect serving size to be similar for products in the same category, so not doing the conversion might seem useful in our attempt to discriminate between categories. However, our goal is to explore the possibility of drawing inferences from the nutritional value itself, so it would be in our best interest to control for serving size when we do that.\n",
    "\n",
    "Moreover, incorporating serving size in our analysis can be beneficial from a technical perspective. It can help our model discriminate between products that happen to be very similar at the 100g/ml level, but are very different nutritionally as they are normally consumed in different quantities. For instance, pasta sauce and mustard sauce both deliver around 250 kJ per 100g. According to the official serving size for each product, we would consume 125 grams of pasta sauce (= 300 kJ) at a time; still, the respective amount for mustard would be 5 grams and 13 kJ! Apart from that, converting to serving-size quantities provides us with an additional, contextually relevant layer in our feature normalization process. It also balances somewhat the density of the different clusters, which is particularly important for the effectiveness of the DBSCAN algorithm we will use later."
   ]
  },
  {
   "cell_type": "code",
   "execution_count": 4,
   "metadata": {
    "colab": {},
    "colab_type": "code",
    "id": "sDqrtylXIagg"
   },
   "outputs": [],
   "source": [
    "# Work with data for which serving size is known\n",
    "data_ss = data[data.serving_size.notnull()].copy()\n",
    "\n",
    "# Regex pattern to match quantities\n",
    "regex = '((?:[0-9]+[,\\.])?[0-9]+)\\s*' \\\n",
    "        '(g|ml|cl|l\\b|fl oz|oz|mg)'\n",
    "\n",
    "# Extract quantity info\n",
    "data_ss[['quantity', 'measure_unit']] = data_ss.serving_size \\\n",
    "    .str.lower() \\\n",
    "    .str.extract(regex)\n",
    "\n",
    "# Convert quantities to g/ml\n",
    "quantity_conversions = {\n",
    "    'g': 1,\n",
    "    'oz': 28.3495,\n",
    "    'mg': 0.001,\n",
    "    'ml': 1,\n",
    "    'cl': 10,\n",
    "    'l': 1000,\n",
    "    'fl oz': 29.5735}\n",
    "\n",
    "# Fix decimal separator issues\n",
    "q = data_ss.quantity.str.replace(',', '.').astype(float)\n",
    "\n",
    "# Convert quantities\n",
    "c = data_ss.measure_unit.dropna().apply(lambda m: quantity_conversions[m])\n",
    "data_ss['quantity_converted'] = q.multiply(c)\n",
    "\n",
    "for col in nf_cols:\n",
    "    data_ss.loc[:, '{}_conv'.format(col)] = \\\n",
    "        data_ss['quantity_converted']/100*data_ss[col]\n",
    "\n",
    "nf_cols_conv = nf_cols + '_conv'"
   ]
  },
  {
   "cell_type": "markdown",
   "metadata": {
    "colab_type": "text",
    "id": "EtxMWh1C2rUP"
   },
   "source": [
    "We continue with $241\\,840$ out of the $708\\,013$ products ($\\approx 34\\%$) originally in the database. The table below displays the percentage of available data for each nutrient that are included in this sample. As shown, for, say, the 15 best represented nutrients, we are working with at least $40\\%$ of the available data."
   ]
  },
  {
   "cell_type": "code",
   "execution_count": 5,
   "metadata": {
    "colab": {
     "base_uri": "https://localhost:8080/",
     "height": 312
    },
    "colab_type": "code",
    "id": "-3bDY8tAXxl5",
    "outputId": "b98d2988-18b9-4770-d555-c17ec54e1b6e"
   },
   "outputs": [
    {
     "data": {
      "text/plain": [
       "energy_100g           0.40\n",
       "fat_100g              0.40\n",
       "saturated-fat_100g    0.37\n",
       "trans-fat_100g        1.00\n",
       "cholesterol_100g      1.00\n",
       "carbohydrates_100g    0.40\n",
       "sugars_100g           0.39\n",
       "fiber_100g            0.67\n",
       "proteins_100g         0.40\n",
       "salt_100g             0.41\n",
       "sodium_100g           0.41\n",
       "vitamin-a_100g        1.00\n",
       "vitamin-c_100g        0.99\n",
       "calcium_100g          0.99\n",
       "iron_100g             0.99\n",
       "dtype: float64"
      ]
     },
     "execution_count": 5,
     "metadata": {},
     "output_type": "execute_result"
    }
   ],
   "source": [
    "# Calculate 15 nutrients with most available data\n",
    "pop_nf_cols = nf_cols[nf_cols.isin(data[nf_cols].count()\n",
    "                                   .sort_values(ascending=False)\n",
    "                                   .head(15).index)]\n",
    "# Find proportion of available data included in the sample\n",
    "# for each of the 15 nutrients\n",
    "(data_ss[pop_nf_cols].count()/data[pop_nf_cols].count()).round(2)"
   ]
  },
  {
   "cell_type": "markdown",
   "metadata": {
    "colab_type": "text",
    "id": "qDLpARK9Y3en"
   },
   "source": [
    "It is here that we should consider what a missing value really means in the context of our dataset. We can guess that a contributor might have skipped filling in the nutrients or the OCR failed to detect them from the scan that they provided, or they might have not been provided for the product in the first place.\n",
    "\n",
    "However, it could also mean that they had a zero value, which also raises some questions about the non-missing zero values as well. A need for a design decision that emerges from this is whether we should consider zero as a missing value or not. Zero can be a valid nutrient value for a lot of products (e.g. water has zero calories). On the other hand, we can easily imagine a scenario where a user fills in zero values for missing nutrient information during the product submission.\n",
    "\n",
    "The truth seems to be lying somewhere in the middle, with zeros used both indicating an actual zero value and indicating a missing value; actual zero values sometimes are not filled in at all, ending up as missing values. In the context of this project, we are not qualified to make a reliable distinction between the two; therefore we will consider missing values as missing values, and zero values as actual zero values.\n",
    "\n",
    "In the following slice of our dataset, all of the products listed with zero energy value actually correspond to products with zero energy value. This indicates that our decision might be a safer bet than making additional assumptions."
   ]
  },
  {
   "cell_type": "code",
   "execution_count": 6,
   "metadata": {
    "colab": {
     "base_uri": "https://localhost:8080/",
     "height": 220
    },
    "colab_type": "code",
    "id": "P9YRR4bc2wNz",
    "outputId": "66c10e68-706b-4614-b3b5-4e0d2b98bcb8"
   },
   "outputs": [
    {
     "data": {
      "text/plain": [
       "108                                  Naturablue original\n",
       "440    Naturally Flavored Beverage Enhancer With Othe...\n",
       "538                                 Chamomile Herbal Tea\n",
       "539                               Herbal Tea, Peppermint\n",
       "540                                   Linden Flowers Tea\n",
       "542                                 Apple & Cinnamon Tea\n",
       "543                                            Green Tea\n",
       "544                               Shave Grass Herbal Tea\n",
       "545                         Herbal Tea, Chamomile * Mint\n",
       "546                                 Artichoke Herbal Tea\n",
       "Name: product_name, dtype: object"
      ]
     },
     "execution_count": 6,
     "metadata": {},
     "output_type": "execute_result"
    }
   ],
   "source": [
    "data_ss[data_ss.energy_100g == 0].product_name.head(10)"
   ]
  },
  {
   "cell_type": "markdown",
   "metadata": {
    "colab_type": "text",
    "id": "bVm2Mim43RMe"
   },
   "source": [
    "Having decided that we will consider as missing the values that are originally indicated as missing, we now have to decide how we will handle them in our model.\n",
    "\n",
    "Let's first explore the sparsity of the features. We have over $100$ nutrients in our dataset, but, as shown below, we observe an overwhelming number of missing values for most of them."
   ]
  },
  {
   "cell_type": "code",
   "execution_count": 7,
   "metadata": {
    "colab": {
     "base_uri": "https://localhost:8080/",
     "height": 442
    },
    "colab_type": "code",
    "id": "T-ml7RyL3F4b",
    "outputId": "41598384-b929-418f-d574-123646182ac1"
   },
   "outputs": [
    {
     "name": "stdout",
     "output_type": "stream",
     "text": [
      "Number of features: 103\n",
      "Percentage of available data for each feature\n"
     ]
    },
    {
     "data": {
      "text/plain": [
       "energy_100g_conv                 0.984724\n",
       "fat_100g_conv                    0.983099\n",
       "carbohydrates_100g_conv          0.982991\n",
       "proteins_100g_conv               0.980272\n",
       "salt_100g_conv                   0.975970\n",
       "sodium_100g_conv                 0.975854\n",
       "sugars_100g_conv                 0.932753\n",
       "saturated-fat_100g_conv          0.870461\n",
       "fiber_100g_conv                  0.760475\n",
       "cholesterol_100g_conv            0.599731\n",
       "trans-fat_100g_conv              0.597366\n",
       "calcium_100g_conv                0.586663\n",
       "iron_100g_conv                   0.585270\n",
       "vitamin-c_100g_conv              0.584979\n",
       "vitamin-a_100g_conv              0.572725\n",
       "potassium_100g_conv              0.103061\n",
       "polyunsaturated-fat_100g_conv    0.093068\n",
       "monounsaturated-fat_100g_conv    0.093018\n",
       "vitamin-pp_100g_conv             0.049157\n",
       "vitamin-b1_100g_conv             0.047004\n",
       "dtype: float64"
      ]
     },
     "metadata": {},
     "output_type": "display_data"
    }
   ],
   "source": [
    "# Available data for each feature\n",
    "print('Number of features: {}'.format(len(nf_cols_conv)))\n",
    "\n",
    "nf_cols_percent_available = data_ss[nf_cols_conv].count() / len(data_ss)\n",
    "print('Percentage of available data for each feature')\n",
    "display(nf_cols_percent_available.sort_values(ascending=False).head(20))"
   ]
  },
  {
   "cell_type": "markdown",
   "metadata": {
    "colab_type": "text",
    "id": "Pnbhg4s2q_TG"
   },
   "source": [
    "We will necessarily have to discard nutrients with $50\\%$ or less available data, which would not be able to provide much information to our model. However, we will work with all of the 15 remaining features, as we think they will add to the expressive power of our model."
   ]
  },
  {
   "cell_type": "code",
   "execution_count": 8,
   "metadata": {
    "colab": {
     "base_uri": "https://localhost:8080/",
     "height": 165
    },
    "colab_type": "code",
    "id": "rOeevBiJPUeN",
    "outputId": "4db220ed-723c-41dd-b9a9-9715c802896b"
   },
   "outputs": [
    {
     "name": "stdout",
     "output_type": "stream",
     "text": [
      "217240 products have fully available data for at least 8 of the 15 nutrients.\n",
      "192091 products have fully available data for at least 9 of the 15 nutrients.\n",
      "148302 products have fully available data for at least 10 of the 15 nutrients.\n",
      "142271 products have fully available data for at least 11 of the 15 nutrients.\n",
      "136745 products have fully available data for at least 12 of the 15 nutrients.\n",
      "134246 products have fully available data for at least 13 of the 15 nutrients.\n",
      "131111 products have fully available data for at least 14 of the 15 nutrients.\n",
      "126468 products have fully available data for at least 15 of the 15 nutrients.\n"
     ]
    }
   ],
   "source": [
    "# Consider features available for at least 50% of the products\n",
    "nf_cols_pruned = nf_cols_conv[nf_cols_percent_available > 0.5]\n",
    "\n",
    "for t in range(8, 16, 1):\n",
    "    print('{} products have fully available data for at least'\n",
    "          ' {} of the 15 nutrients.'\n",
    "          .format(len(data_ss[data_ss[nf_cols_pruned].count(axis=1) >= t]), t))"
   ]
  },
  {
   "cell_type": "markdown",
   "metadata": {
    "colab_type": "text",
    "id": "m5llILJz4i-A"
   },
   "source": [
    "Another challenge that immediately follows regards the missing data. We can safely drop products where information is missing for all of the nutrients, but what about the rest?\n",
    "\n",
    "A strategy followed in such cases is imputation, replacement of the missing data by substituted values. An important problem with imputation is that it can create a lot of noise and limit the validity of the results. Especially in our case, where there is a large variance in nutrients between products, this additional noise should be avoided.\n",
    "\n",
    "As we wish to keep as many features in the model as possible, we will necessarily have to drop products. In the figure above, we try to identify a subset of the 15 features with as few missing data as possible. We have already discussed that 8 or 9 features might not represent the nutritional composition of the products effectively; the difference between the number of products that have nutrient information for at least 10 nutrients and the respective number for 15 nutrients is very small; therefore we will use only products with fully available data for all 15 nutrients."
   ]
  },
  {
   "cell_type": "code",
   "execution_count": 9,
   "metadata": {
    "colab": {},
    "colab_type": "code",
    "id": "uR-iwV7E5dCt"
   },
   "outputs": [],
   "source": [
    "data_ss.dropna(subset=nf_cols_pruned, inplace=True)"
   ]
  },
  {
   "cell_type": "markdown",
   "metadata": {
    "colab_type": "text",
    "id": "BLHv6_uA2lyy"
   },
   "source": [
    "As such, we conclude our cleaning process with a final sample of $126\\,467$ products, $\\approx 18\\%$ of our initial dataset. Although still quite a large sample on its own, it is only a small fraction of what we had in the beginning. Because of the large numbers of missing values in most of the columns, it is not easy to get an idea of its representativeness. However, we can still get some hints.\n",
    "\n",
    "For example, the following kernel density estimation plot reveals that the distribution of the nutritional rating is similar between the original dataset and our sample. This is particularly important, as it ensures that we have an appropriate representation of products from different parts of the nutritional value spectrum."
   ]
  },
  {
   "cell_type": "code",
   "execution_count": 10,
   "metadata": {
    "colab": {
     "base_uri": "https://localhost:8080/",
     "height": 533
    },
    "colab_type": "code",
    "id": "X8ZavFNrwjZ_",
    "outputId": "52642995-6292-41ab-d975-d558d20b0128"
   },
   "outputs": [
    {
     "data": {
      "image/png": "[encoded data removed]",
      "text/plain": [
       "<Figure size 600x400 with 1 Axes>"
      ]
     },
     "metadata": {},
     "output_type": "display_data"
    }
   ],
   "source": [
    "data['nutrition-score-fr_100g'].dropna().plot.kde(label=\"original\")\n",
    "data_ss['nutrition-score-fr_100g'].dropna().plot.kde(label=\"sample\")\n",
    "plt.legend()\n",
    "plot_settings({\n",
    "    'title': 'Kernel density estimation\\n'\n",
    "    '(original dataset vs. cleaned sample)',\n",
    "    'xlabel': 'Nutritional rating'})"
   ]
  },
  {
   "cell_type": "markdown",
   "metadata": {
    "colab_type": "text",
    "id": "lEM-astJcd6n"
   },
   "source": [
    "Furthermore, even if, as we have seen before, the category fields are extremely inconsistent, we can still observe similarities between the original dataset and the cleaned sample when we check the distribution of the most frequent product categories."
   ]
  },
  {
   "cell_type": "code",
   "execution_count": 11,
   "metadata": {
    "colab": {
     "base_uri": "https://localhost:8080/",
     "height": 363
    },
    "colab_type": "code",
    "id": "kGAPYpBluxgs",
    "outputId": "ea0378ff-d5fa-4676-c970-16b5a3b9b4e7"
   },
   "outputs": [
    {
     "data": {
      "text/html": [
       "<div>\n",
       "<style scoped>\n",
       "    .dataframe tbody tr th:only-of-type {\n",
       "        vertical-align: middle;\n",
       "    }\n",
       "\n",
       "    .dataframe tbody tr th {\n",
       "        vertical-align: top;\n",
       "    }\n",
       "\n",
       "    .dataframe thead th {\n",
       "        text-align: right;\n",
       "    }\n",
       "</style>\n",
       "<table border=\"1\" class=\"dataframe\">\n",
       "  <thead>\n",
       "    <tr style=\"text-align: right;\">\n",
       "      <th></th>\n",
       "      <th>main_category_en</th>\n",
       "      <th>% of products (original)</th>\n",
       "      <th>% of products (cleaned)</th>\n",
       "    </tr>\n",
       "  </thead>\n",
       "  <tbody>\n",
       "    <tr>\n",
       "      <th>137</th>\n",
       "      <td>Plant-based foods and beverages</td>\n",
       "      <td>21.3</td>\n",
       "      <td>23.1</td>\n",
       "    </tr>\n",
       "    <tr>\n",
       "      <th>176</th>\n",
       "      <td>Sugary snacks</td>\n",
       "      <td>14.0</td>\n",
       "      <td>18.1</td>\n",
       "    </tr>\n",
       "    <tr>\n",
       "      <th>95</th>\n",
       "      <td>Groceries</td>\n",
       "      <td>5.4</td>\n",
       "      <td>15.2</td>\n",
       "    </tr>\n",
       "    <tr>\n",
       "      <th>16</th>\n",
       "      <td>Beverages</td>\n",
       "      <td>14.5</td>\n",
       "      <td>7.8</td>\n",
       "    </tr>\n",
       "    <tr>\n",
       "      <th>60</th>\n",
       "      <td>Dairies</td>\n",
       "      <td>8.9</td>\n",
       "      <td>6.3</td>\n",
       "    </tr>\n",
       "    <tr>\n",
       "      <th>156</th>\n",
       "      <td>Salty snacks</td>\n",
       "      <td>1.7</td>\n",
       "      <td>2.5</td>\n",
       "    </tr>\n",
       "    <tr>\n",
       "      <th>127</th>\n",
       "      <td>Pains-bagel</td>\n",
       "      <td>0.0</td>\n",
       "      <td>2.1</td>\n",
       "    </tr>\n",
       "    <tr>\n",
       "      <th>82</th>\n",
       "      <td>Fruit juices</td>\n",
       "      <td>1.7</td>\n",
       "      <td>2.0</td>\n",
       "    </tr>\n",
       "    <tr>\n",
       "      <th>118</th>\n",
       "      <td>Meats</td>\n",
       "      <td>5.4</td>\n",
       "      <td>1.4</td>\n",
       "    </tr>\n",
       "    <tr>\n",
       "      <th>116</th>\n",
       "      <td>Meals</td>\n",
       "      <td>4.6</td>\n",
       "      <td>1.2</td>\n",
       "    </tr>\n",
       "  </tbody>\n",
       "</table>\n",
       "</div>"
      ],
      "text/plain": [
       "                    main_category_en  % of products (original)  \\\n",
       "137  Plant-based foods and beverages                      21.3   \n",
       "176                    Sugary snacks                      14.0   \n",
       "95                         Groceries                       5.4   \n",
       "16                         Beverages                      14.5   \n",
       "60                           Dairies                       8.9   \n",
       "156                     Salty snacks                       1.7   \n",
       "127                      Pains-bagel                       0.0   \n",
       "82                      Fruit juices                       1.7   \n",
       "118                            Meats                       5.4   \n",
       "116                            Meals                       4.6   \n",
       "\n",
       "     % of products (cleaned)  \n",
       "137                     23.1  \n",
       "176                     18.1  \n",
       "95                      15.2  \n",
       "16                       7.8  \n",
       "60                       6.3  \n",
       "156                      2.5  \n",
       "127                      2.1  \n",
       "82                       2.0  \n",
       "118                      1.4  \n",
       "116                      1.2  "
      ]
     },
     "execution_count": 11,
     "metadata": {},
     "output_type": "execute_result"
    }
   ],
   "source": [
    "def compute_main_category_distribution(data: pd.DataFrame) -> pd.DataFrame:\n",
    "    return (\n",
    "        data\n",
    "        .groupby('main_category_en')\n",
    "        .count()\n",
    "        [['code']]\n",
    "        .rename(columns={'code': '% of products '})\n",
    "        / len(data.dropna(subset=['main_category_en']))\n",
    "    ).round(3) * 100\n",
    "\n",
    "\n",
    "pd.merge(\n",
    "    compute_main_category_distribution(data),\n",
    "    compute_main_category_distribution(data_ss),\n",
    "    suffixes=('(original)', '(cleaned)'),\n",
    "    on='main_category_en'\n",
    ").reset_index().sort_values('% of products (cleaned)', ascending=False).head(10)"
   ]
  },
  {
   "cell_type": "markdown",
   "metadata": {
    "colab_type": "text",
    "id": "M4W4KKf17StS"
   },
   "source": [
    "We acknowledge the relative size of the final cleaned sample as a limitation of this analysis as a result of the missing data. However, as the goal of this analysis is to provide the basis for more extensive future work, we expect that the plans of the *Open Food Facts* project to retrieve complete nutritional information from other sources will also make possible the reproduction of our analysis with a much larger subsample.\n",
    "\n",
    "In our model, we will not consider the feature `salt_100g_conv`, as it is directly connected to `sodium_100g_conv`.\n",
    "\n",
    "As a final step before training our model, we also scale the data based on the interquartile range so that the scaling is not influenced by outliers. We do not remove outliers based on the standardized values, because DBSCAN (which we will be using as our clustering algorithm) is particularly robust to noise."
   ]
  },
  {
   "cell_type": "code",
   "execution_count": 12,
   "metadata": {
    "colab": {},
    "colab_type": "code",
    "id": "ddZeXd_e7CTw"
   },
   "outputs": [],
   "source": [
    "# Do not consider `salt` information\n",
    "nf_cols_ml = nf_cols_pruned.drop('salt_100g_conv')\n",
    "\n",
    "# Reset dataframe index so as to be able to track products in the numpy\n",
    "# arrays\n",
    "data_ss.reset_index(inplace=True)\n",
    "data_ml = data_ss[nf_cols_ml].values\n",
    "\n",
    "# Provisionally scale data based on interquartile range to\n",
    "# ensure robustness\n",
    "scaler = RobustScaler()\n",
    "data_ml_scaled = scaler.fit_transform(data_ml)"
   ]
  },
  {
   "cell_type": "markdown",
   "metadata": {
    "colab_type": "text",
    "id": "hilptP5Mr8lq"
   },
   "source": [
    "## Model"
   ]
  },
  {
   "cell_type": "markdown",
   "metadata": {
    "colab_type": "text",
    "id": "2QLtK79EOx5w"
   },
   "source": [
    "We have formulated our problem as a clustering task: we attempt to group products based on their nutritional content so that each group can be interpreted in terms of a specific category.\n",
    "\n",
    "We opt for DBSCAN as our clustering method, for the following reasons:\n",
    "\n",
    "* It can scale to a large dataset. We are developing an artefact that needs to be able to handle the whole *Open Food Facts* database - currently at 700K records, but with a possibility of exploding volume-wise as a result of its growing popularity and international appeal. This eliminates alternatives, such as traditional hierarchical clustering approaches or the mean-shift algorithm,\n",
    "* We are expecting a non-flat division of the feature space rather than convex shapes, because of the subtle differences in nutritional categories in similar categories, such as yoghurt and cottage cheese. On this front, a density-based approach is much more suitable than the also scalable k-means algorithm,\n",
    "* It handles noise well and is robust to outliers, which is particularly important here because of the inconsistencies in the original dataset, as explained previously. DBSCAN usually leads to better defined clusters, only extracting truly dense structures from the data.\n",
    "\n",
    "To interpret the resulting clusters, we will use the `product_name` information about its products, as other possibly useful fields, such as `generic_name`, `categories` and `origins`, contain an excessive number of missing values. "
   ]
  },
  {
   "cell_type": "markdown",
   "metadata": {
    "colab_type": "text",
    "id": "Nwvwj_4Ztxx_"
   },
   "source": [
    "### Parameter selection"
   ]
  },
  {
   "cell_type": "markdown",
   "metadata": {
    "colab_type": "text",
    "id": "w1IjLkOUt2Y6"
   },
   "source": [
    "As we have discussed in the lectures, DBSCAN requires two parameters to be specified before training: `epsilon` (the maximum distance at which a data point can *directly* reach a neighbour) and `minPts` (the minimum number of directly reachable neighbours a data point must have in order to be considered part of a cluster). The selection of the parameters is of critical importance, as it highly influences the results of the algorithm."
   ]
  },
  {
   "cell_type": "markdown",
   "metadata": {
    "colab_type": "text",
    "id": "szPawniX2eCw"
   },
   "source": [
    "#### Choosing the distance measure"
   ]
  },
  {
   "cell_type": "markdown",
   "metadata": {
    "colab_type": "text",
    "id": "Hm4pPjQb3HCi"
   },
   "source": [
    "Our estimation of the two parameters depends highly on the distance measure we will use in the algorithm. We opt for the *Euclidean* distance based on the characteristics of our feature space. For example, it can't be *Manhattan*, as our features are continuous and neighbours can be reached directly at any direction; it can't be *cosine*, as we are interested in the magnitude of the distance vectors instead of the angle between them."
   ]
  },
  {
   "cell_type": "markdown",
   "metadata": {
    "colab_type": "text",
    "id": "OmMhXaeL2v2g"
   },
   "source": [
    "#### Choosing epsilon and minPts"
   ]
  },
  {
   "cell_type": "markdown",
   "metadata": {
    "colab_type": "text",
    "id": "7IACLgax3Lnc"
   },
   "source": [
    "So, how to choose the two parameters? In their initial presentation of the DBSCAN algorithm, Ester et al. [1] had proposed a simple heuristic that estimates `epsilon` based on the distances between points and their $k$-th nearest neighbours, where $k$ is equal to `minPts`. In that paper, they had suggested that setting $k$ to 4 is suitable for most datasets. However, because of the large number of inconsistencies in our case, we will follow their revised recommendations [2], choosing our $k$ as twice the number of features minus 1 and setting `minPts` to $k+1$.\n",
    "\n",
    "We apply the heuristic as follows:\n",
    "\n",
    "We set $k = 2 * 14 -1 = 27$, and calculate the distance between each point and its $k$-th nearest neighbour (called *$k$-dist* in the aforementioned papers)."
   ]
  },
  {
   "cell_type": "code",
   "execution_count": 13,
   "metadata": {
    "colab": {},
    "colab_type": "code",
    "id": "u4wefYNYAnJw"
   },
   "outputs": [],
   "source": [
    "k = 27\n",
    "\n",
    "kth_nn_distances = NearestNeighbors(n_neighbors=k+1, metric='euclidean') \\\n",
    "  .fit(data_ml_scaled) \\\n",
    "  .kneighbors(data_ml_scaled)[0][:, k]"
   ]
  },
  {
   "cell_type": "markdown",
   "metadata": {
    "colab_type": "text",
    "id": "mRxpmBPEIw94"
   },
   "source": [
    "We sort the points in descending order of their $k$-dist values and plot their density distribution. Ester et al. [1] call this the *sorted $k$-dist graph*. We see that, for the first points, the line drops very steeply - here, in fact, the drop is so steep that we need a logarithmic scale on the *x* axis to make sense of the plot. \n",
    "\n",
    "We are trying to identify a *threshold point* where the line stops dropping steeply, forming a visual \"valley\" which corresponds to a \"normal\" range of $k$-dist values. This *threshold point* will be the `epsilon` of our model and will be one of the core points in the *thinnest* cluster that DBSCAN will product. From the left plot below, we see that the valley actually appears close to zero, despite the presence of much larger *$k$-dist* values in the dataset.\n",
    "\n",
    "If we exclude the first part of the $k$-order where the drop is extremely steep (right plot), we can see that the valley appears to start somewhere just below $1$."
   ]
  },
  {
   "cell_type": "code",
   "execution_count": 14,
   "metadata": {
    "colab": {
     "base_uri": "https://localhost:8080/",
     "height": 555
    },
    "colab_type": "code",
    "id": "17_sG59EC3yb",
    "outputId": "1633e2e1-907a-4123-cbaa-b85f1e4dbd0a"
   },
   "outputs": [
    {
     "data": {
      "image/png": "[encoded data removed]",
      "text/plain": [
       "<Figure size 600x400 with 2 Axes>"
      ]
     },
     "metadata": {},
     "output_type": "display_data"
    }
   ],
   "source": [
    "fig, ax = plt.subplots(1, 2)\n",
    "\n",
    "# Full picture\n",
    "f = ax[0]\n",
    "f.semilogx(\n",
    "    np.flip(np.sort(kth_nn_distances), axis=0))\n",
    "f.set_ylabel('Distance')\n",
    "f.set_xlabel('k-order (logscale)')\n",
    "f.set_title('full')\n",
    "\n",
    "# Zoomed into the interesting region\n",
    "z = ax[1]\n",
    "z.plot(\n",
    "    np.flip(np.sort(kth_nn_distances), axis=0)[1500:])\n",
    "z.set_xlabel('k-order')\n",
    "z.set_title('magnified')\n",
    "\n",
    "null = fig.suptitle('Sorted k-distance plots (k=27)')"
   ]
  },
  {
   "cell_type": "markdown",
   "metadata": {
    "colab_type": "text",
    "id": "72C1QKxLiC0O"
   },
   "source": [
    "It is already clear from the plot that, if we choose an `epsilon` value under $1$, we should expect that an extremely large number of points will be classified as noise. This is somewhat expected, considering the data inconsistencies we have already discussed. On the other hand, by increasing `epsilon` too much, we risk considering noise as core points, resulting in less well-defined clusters.\n",
    "\n",
    "When trying to specify the exact values for the parameters, we should take into account the risk of getting a degenerate clustering result. As Schubert et al. [3] suggest, a degenerate result could be obtained either if the algorithm classified too many points as noise or if a single component contains an excessively large proportion of the dataset. They propose that a desirable amount of noise would be between 1% and 30%, while the largest component should contain no more than 20% to 50% of the clustered points.\n",
    "\n",
    "We will use these guidelines to decide between different values of `epsilon`, as shown in the plot above."
   ]
  },
  {
   "cell_type": "code",
   "execution_count": 15,
   "metadata": {
    "colab": {},
    "colab_type": "code",
    "id": "cxqa7W70FGmB"
   },
   "outputs": [],
   "source": [
    "# Avoiding sklearn DBSCAN complexity for the generation\n",
    "# of the plots\n",
    "\n",
    "# Get unique only records and how many times they appear\n",
    "# on the dataset\n",
    "data_ml_unique, sample_weight = \\\n",
    "    np.unique(data_ml_scaled, return_counts=True, axis=0)\n",
    "\n",
    "# Compute the graph of neighbors for the maximum value of\n",
    "# epsilon we want to examine\n",
    "max_epsilon = 1\n",
    "distance_matrix = NearestNeighbors(radius=max_epsilon) \\\n",
    "    .fit(data_ml_unique) \\\n",
    "    .radius_neighbors_graph(data_ml_unique, mode='distance')"
   ]
  },
  {
   "cell_type": "code",
   "execution_count": 16,
   "metadata": {
    "colab": {
     "base_uri": "https://localhost:8080/",
     "height": 533
    },
    "colab_type": "code",
    "id": "V5TkDrxu2J_l",
    "outputId": "2edfe39e-6f1e-4248-81fc-0136d235fe66"
   },
   "outputs": [
    {
     "data": {
      "image/png": "[encoded data removed]",
      "text/plain": [
       "<Figure size 600x400 with 1 Axes>"
      ]
     },
     "metadata": {},
     "output_type": "display_data"
    }
   ],
   "source": [
    "candidate_epsilons = np.arange(0.05, 1, 0.05)\n",
    "clustered_p = []\n",
    "noise_p = []\n",
    "largest_p = []\n",
    "for eps in candidate_epsilons:\n",
    "    # Run DBSCAN on the precomputed distance matrix for efficiency reasons\n",
    "    labels = DBSCAN(eps=eps, min_samples=28, metric='precomputed') \\\n",
    "        .fit(distance_matrix, sample_weight=sample_weight) \\\n",
    "        .labels_\n",
    "    # Number of clustered points\n",
    "    labels_clustered = labels[np.where(labels != -1)]\n",
    "    # % of the dataset in clusters\n",
    "    clustered_percentage = len(labels_clustered)/len(labels)\n",
    "    clustered_p.append(clustered_percentage)\n",
    "    # % of the dataset classified as noise\n",
    "    noise_percentage = 1 - clustered_percentage\n",
    "    noise_p.append(noise_percentage)\n",
    "    # % of the dataset in the largest component\n",
    "    largest_comp_percentage = np.max(np.bincount(labels_clustered))/len(labels)\n",
    "    largest_p.append(largest_comp_percentage)\n",
    "\n",
    "plt.title('Share of the dataset between noise,\\n'\n",
    "          'clusters and the largest component')\n",
    "plt.plot(candidate_epsilons, clustered_p)\n",
    "plt.plot(candidate_epsilons, largest_p)\n",
    "plt.plot(candidate_epsilons, noise_p)\n",
    "plt.xlabel('Epsilon')\n",
    "plt.ylabel('Share of dataset')\n",
    "null = plt.legend(['All clusters', 'Largest component', 'Noise'])"
   ]
  },
  {
   "cell_type": "markdown",
   "metadata": {
    "colab_type": "text",
    "id": "NNg123TJ65L7"
   },
   "source": [
    "On the plot above, for `minPts`$=28$, we confirm that, when we select larger values of `epsilon`, the share of the points assigned to some cluster increases and the share of noise points decreases. The key here is the size of the largest component. Our plot differs from the ones in Schubert et al. [3], with the largest component growing at the same rate as the total clustered points: it seems that, for most of the points previously classified as noise, when they are considered as core points, they join the largest component instead of a smaller, more \"specific\" component. This indicates that the degree of degeneracy remains generally stable across different values of `epsilon`.\n",
    "\n",
    "That said, we find our best option in the region of the graph where the line of total clustered points diverges most from the line of the largest component. There, the number of noise points is unavoidably large, but the largest component is still \"pure\" because of the small `epsilon` and the distribution of points among clusters is more even. According to this observation, we select `epsilon` $= 0.4$."
   ]
  },
  {
   "cell_type": "markdown",
   "metadata": {
    "colab_type": "text",
    "id": "WdxVh1Er6utZ"
   },
   "source": [
    "### Results"
   ]
  },
  {
   "cell_type": "markdown",
   "metadata": {
    "colab_type": "text",
    "id": "fCePFsOmakMi"
   },
   "source": [
    "Using the sci-kit implementation of DBSCAN, we train our model for `epsilon` $=0.4$ and `minPts` $=28$."
   ]
  },
  {
   "cell_type": "code",
   "execution_count": 17,
   "metadata": {
    "colab": {
     "base_uri": "https://localhost:8080/",
     "height": 72
    },
    "colab_type": "code",
    "id": "_02dRForCec9",
    "outputId": "08a59cdd-c53f-4490-f7fb-00b12dd754d7"
   },
   "outputs": [
    {
     "name": "stdout",
     "output_type": "stream",
     "text": [
      "Number of clusters: 182\n",
      "Number of clustered points: 39648 (31.0%)\n",
      "Size of the largest component: 19917 (16.0%)\n"
     ]
    }
   ],
   "source": [
    "# Fit the model\n",
    "dbscan = DBSCAN(eps=0.4, min_samples=28, metric='euclidean')\n",
    "dbscan.fit(data_ml_scaled)\n",
    "\n",
    "# Bring the results to our dataframe\n",
    "data_with_clusters = data_ss.join(\n",
    "    pd.DataFrame(dbscan.labels_, columns=['label']),\n",
    "    how='inner')\n",
    "\n",
    "# Clustering descriptives\n",
    "labels = data_with_clusters.label\n",
    "total = len(labels)\n",
    "clustered = len(labels[labels > -1])\n",
    "largest_comp = np.max(np.bincount(labels[labels > -1]))\n",
    "\n",
    "print(\"Number of clusters: {}\".format(len(labels.unique())-1))\n",
    "print(\"Number of clustered points: {} ({}%)\"\n",
    "      .format(clustered, np.round(clustered/total*100)))\n",
    "print(\"Size of the largest component: {} ({}%)\"\n",
    "      .format(largest_comp, np.round(largest_comp/total*100)))"
   ]
  },
  {
   "cell_type": "markdown",
   "metadata": {
    "colab_type": "text",
    "id": "sMxvSKkfiy_8"
   },
   "source": [
    "The fitting concludes with $182$ clusters, which contain $31\\%$ of our total data. At nearly $70\\%$, the number of points classified as noise by DBSCAN is expectedly large, consistent with our insights from the previous sections. However, the size of the largest component is reasonable, with the rest of the clusters still accounting for an appreciable share of the clustered points.\n",
    "\n",
    "Below we can see the distribution of the clustered points among the different clusters:"
   ]
  },
  {
   "cell_type": "code",
   "execution_count": 18,
   "metadata": {
    "colab": {
     "base_uri": "https://localhost:8080/",
     "height": 257
    },
    "colab_type": "code",
    "id": "vUhRoavwlZgE",
    "outputId": "a2cd37e6-6abd-440c-bcab-cc9a2391b9dc"
   },
   "outputs": [
    {
     "name": "stdout",
     "output_type": "stream",
     "text": [
      "Distribution (%) of clustered points across clusters\n"
     ]
    },
    {
     "data": {
      "text/plain": [
       "label\n",
       "1     50.23\n",
       "2      6.30\n",
       "6      3.96\n",
       "11     2.00\n",
       "20     1.97\n",
       "21     1.46\n",
       "3      1.29\n",
       "14     1.15\n",
       "26     1.10\n",
       "29     1.10\n",
       "Name: code, dtype: float64"
      ]
     },
     "execution_count": 18,
     "metadata": {},
     "output_type": "execute_result"
    }
   ],
   "source": [
    "grouped_by_label = data_with_clusters[labels > -1] \\\n",
    "    .groupby('label')\n",
    "\n",
    "print(\"Distribution (%) of clustered points across clusters\")\n",
    "(grouped_by_label\n",
    " .count()\n",
    " .code\n",
    " .sort_values(ascending=False)\n",
    " .head(10)\n",
    " / clustered * 100) \\\n",
    "    .round(2)"
   ]
  },
  {
   "cell_type": "markdown",
   "metadata": {
    "colab_type": "text",
    "id": "OjaV3AHqmQKP"
   },
   "source": [
    "It is clear that the largest component, *Cluster 1*, includes a rather large proportion of the clustered points, which raises questions about how well-defined it is. However, the rest of the clusters look reasonably sized, and, because our `epsilon` value was relatively small, we expect data points included in them to share strong similarities in nutritional composition.\n",
    "\n",
    "What do these clusters resemble? We had DBSCAN trained on nutrition facts, so it would be interesting what kind of nutritional composition products in each cluster have. Let's look at the first seven clusters:"
   ]
  },
  {
   "cell_type": "code",
   "execution_count": 19,
   "metadata": {
    "colab": {
     "base_uri": "https://localhost:8080/",
     "height": 270
    },
    "colab_type": "code",
    "id": "cvgMBJQip1oS",
    "outputId": "e29ed6e9-5bce-4e7c-e794-f9e66db77d6d"
   },
   "outputs": [
    {
     "data": {
      "text/html": [
       "<style  type=\"text/css\" >\n",
       "    #T_93c8ff8a_0092_11e9_8f83_f0d5bff9b4bfrow0_col0 {\n",
       "            background-color:  #ffff66;\n",
       "        }    #T_93c8ff8a_0092_11e9_8f83_f0d5bff9b4bfrow0_col1 {\n",
       "            background-color:  #ffff66;\n",
       "        }    #T_93c8ff8a_0092_11e9_8f83_f0d5bff9b4bfrow0_col2 {\n",
       "            background-color:  #6ab466;\n",
       "        }    #T_93c8ff8a_0092_11e9_8f83_f0d5bff9b4bfrow0_col3 {\n",
       "            background-color:  #63b166;\n",
       "        }    #T_93c8ff8a_0092_11e9_8f83_f0d5bff9b4bfrow0_col4 {\n",
       "            background-color:  #339966;\n",
       "        }    #T_93c8ff8a_0092_11e9_8f83_f0d5bff9b4bfrow0_col5 {\n",
       "            background-color:  #148a66;\n",
       "        }    #T_93c8ff8a_0092_11e9_8f83_f0d5bff9b4bfrow0_col6 {\n",
       "            background-color:  #008066;\n",
       "        }    #T_93c8ff8a_0092_11e9_8f83_f0d5bff9b4bfrow0_col7 {\n",
       "            background-color:  #008066;\n",
       "        }    #T_93c8ff8a_0092_11e9_8f83_f0d5bff9b4bfrow0_col8 {\n",
       "            background-color:  #008066;\n",
       "        }    #T_93c8ff8a_0092_11e9_8f83_f0d5bff9b4bfrow0_col9 {\n",
       "            background-color:  #008066;\n",
       "        }    #T_93c8ff8a_0092_11e9_8f83_f0d5bff9b4bfrow0_col10 {\n",
       "            background-color:  #ffff66;\n",
       "        }    #T_93c8ff8a_0092_11e9_8f83_f0d5bff9b4bfrow0_col11 {\n",
       "            background-color:  #e4f266;\n",
       "        }    #T_93c8ff8a_0092_11e9_8f83_f0d5bff9b4bfrow0_col12 {\n",
       "            background-color:  #85c266;\n",
       "        }    #T_93c8ff8a_0092_11e9_8f83_f0d5bff9b4bfrow0_col13 {\n",
       "            background-color:  #4ba566;\n",
       "        }    #T_93c8ff8a_0092_11e9_8f83_f0d5bff9b4bfrow0_col14 {\n",
       "            background-color:  #ffff66;\n",
       "        }    #T_93c8ff8a_0092_11e9_8f83_f0d5bff9b4bfrow0_col15 {\n",
       "            background-color:  #ffff66;\n",
       "        }    #T_93c8ff8a_0092_11e9_8f83_f0d5bff9b4bfrow0_col16 {\n",
       "            background-color:  #cce666;\n",
       "        }    #T_93c8ff8a_0092_11e9_8f83_f0d5bff9b4bfrow0_col17 {\n",
       "            background-color:  #9fcf66;\n",
       "        }    #T_93c8ff8a_0092_11e9_8f83_f0d5bff9b4bfrow0_col18 {\n",
       "            background-color:  #ffff66;\n",
       "        }    #T_93c8ff8a_0092_11e9_8f83_f0d5bff9b4bfrow0_col19 {\n",
       "            background-color:  #0d8666;\n",
       "        }    #T_93c8ff8a_0092_11e9_8f83_f0d5bff9b4bfrow0_col20 {\n",
       "            background-color:  #008066;\n",
       "        }    #T_93c8ff8a_0092_11e9_8f83_f0d5bff9b4bfrow0_col21 {\n",
       "            background-color:  #008066;\n",
       "        }    #T_93c8ff8a_0092_11e9_8f83_f0d5bff9b4bfrow0_col22 {\n",
       "            background-color:  #008066;\n",
       "        }    #T_93c8ff8a_0092_11e9_8f83_f0d5bff9b4bfrow0_col23 {\n",
       "            background-color:  #008066;\n",
       "        }    #T_93c8ff8a_0092_11e9_8f83_f0d5bff9b4bfrow0_col24 {\n",
       "            background-color:  #1c8e66;\n",
       "        }    #T_93c8ff8a_0092_11e9_8f83_f0d5bff9b4bfrow0_col25 {\n",
       "            background-color:  #008066;\n",
       "        }    #T_93c8ff8a_0092_11e9_8f83_f0d5bff9b4bfrow0_col26 {\n",
       "            background-color:  #ffff66;\n",
       "        }    #T_93c8ff8a_0092_11e9_8f83_f0d5bff9b4bfrow0_col27 {\n",
       "            background-color:  #55aa66;\n",
       "        }    #T_93c8ff8a_0092_11e9_8f83_f0d5bff9b4bfrow1_col0 {\n",
       "            background-color:  #008066;\n",
       "        }    #T_93c8ff8a_0092_11e9_8f83_f0d5bff9b4bfrow1_col1 {\n",
       "            background-color:  #d5ea66;\n",
       "        }    #T_93c8ff8a_0092_11e9_8f83_f0d5bff9b4bfrow1_col2 {\n",
       "            background-color:  #008066;\n",
       "        }    #T_93c8ff8a_0092_11e9_8f83_f0d5bff9b4bfrow1_col3 {\n",
       "            background-color:  #f1f866;\n",
       "        }    #T_93c8ff8a_0092_11e9_8f83_f0d5bff9b4bfrow1_col4 {\n",
       "            background-color:  #008066;\n",
       "        }    #T_93c8ff8a_0092_11e9_8f83_f0d5bff9b4bfrow1_col5 {\n",
       "            background-color:  #b1d866;\n",
       "        }    #T_93c8ff8a_0092_11e9_8f83_f0d5bff9b4bfrow1_col6 {\n",
       "            background-color:  #008066;\n",
       "        }    #T_93c8ff8a_0092_11e9_8f83_f0d5bff9b4bfrow1_col7 {\n",
       "            background-color:  #ffff66;\n",
       "        }    #T_93c8ff8a_0092_11e9_8f83_f0d5bff9b4bfrow1_col8 {\n",
       "            background-color:  #008066;\n",
       "        }    #T_93c8ff8a_0092_11e9_8f83_f0d5bff9b4bfrow1_col9 {\n",
       "            background-color:  #92c866;\n",
       "        }    #T_93c8ff8a_0092_11e9_8f83_f0d5bff9b4bfrow1_col10 {\n",
       "            background-color:  #008066;\n",
       "        }    #T_93c8ff8a_0092_11e9_8f83_f0d5bff9b4bfrow1_col11 {\n",
       "            background-color:  #ffff66;\n",
       "        }    #T_93c8ff8a_0092_11e9_8f83_f0d5bff9b4bfrow1_col12 {\n",
       "            background-color:  #008066;\n",
       "        }    #T_93c8ff8a_0092_11e9_8f83_f0d5bff9b4bfrow1_col13 {\n",
       "            background-color:  #ffff66;\n",
       "        }    #T_93c8ff8a_0092_11e9_8f83_f0d5bff9b4bfrow1_col14 {\n",
       "            background-color:  #008066;\n",
       "        }    #T_93c8ff8a_0092_11e9_8f83_f0d5bff9b4bfrow1_col15 {\n",
       "            background-color:  #d8ec66;\n",
       "        }    #T_93c8ff8a_0092_11e9_8f83_f0d5bff9b4bfrow1_col16 {\n",
       "            background-color:  #008066;\n",
       "        }    #T_93c8ff8a_0092_11e9_8f83_f0d5bff9b4bfrow1_col17 {\n",
       "            background-color:  #ffff66;\n",
       "        }    #T_93c8ff8a_0092_11e9_8f83_f0d5bff9b4bfrow1_col18 {\n",
       "            background-color:  #008066;\n",
       "        }    #T_93c8ff8a_0092_11e9_8f83_f0d5bff9b4bfrow1_col19 {\n",
       "            background-color:  #ffff66;\n",
       "        }    #T_93c8ff8a_0092_11e9_8f83_f0d5bff9b4bfrow1_col20 {\n",
       "            background-color:  #008066;\n",
       "        }    #T_93c8ff8a_0092_11e9_8f83_f0d5bff9b4bfrow1_col21 {\n",
       "            background-color:  #008066;\n",
       "        }    #T_93c8ff8a_0092_11e9_8f83_f0d5bff9b4bfrow1_col22 {\n",
       "            background-color:  #008066;\n",
       "        }    #T_93c8ff8a_0092_11e9_8f83_f0d5bff9b4bfrow1_col23 {\n",
       "            background-color:  #2a9466;\n",
       "        }    #T_93c8ff8a_0092_11e9_8f83_f0d5bff9b4bfrow1_col24 {\n",
       "            background-color:  #008066;\n",
       "        }    #T_93c8ff8a_0092_11e9_8f83_f0d5bff9b4bfrow1_col25 {\n",
       "            background-color:  #66b266;\n",
       "        }    #T_93c8ff8a_0092_11e9_8f83_f0d5bff9b4bfrow1_col26 {\n",
       "            background-color:  #008066;\n",
       "        }    #T_93c8ff8a_0092_11e9_8f83_f0d5bff9b4bfrow1_col27 {\n",
       "            background-color:  #ffff66;\n",
       "        }    #T_93c8ff8a_0092_11e9_8f83_f0d5bff9b4bfrow2_col0 {\n",
       "            background-color:  #42a066;\n",
       "        }    #T_93c8ff8a_0092_11e9_8f83_f0d5bff9b4bfrow2_col1 {\n",
       "            background-color:  #008066;\n",
       "        }    #T_93c8ff8a_0092_11e9_8f83_f0d5bff9b4bfrow2_col2 {\n",
       "            background-color:  #55aa66;\n",
       "        }    #T_93c8ff8a_0092_11e9_8f83_f0d5bff9b4bfrow2_col3 {\n",
       "            background-color:  #88c366;\n",
       "        }    #T_93c8ff8a_0092_11e9_8f83_f0d5bff9b4bfrow2_col4 {\n",
       "            background-color:  #ffff66;\n",
       "        }    #T_93c8ff8a_0092_11e9_8f83_f0d5bff9b4bfrow2_col5 {\n",
       "            background-color:  #ffff66;\n",
       "        }    #T_93c8ff8a_0092_11e9_8f83_f0d5bff9b4bfrow2_col6 {\n",
       "            background-color:  #008066;\n",
       "        }    #T_93c8ff8a_0092_11e9_8f83_f0d5bff9b4bfrow2_col7 {\n",
       "            background-color:  #ffff66;\n",
       "        }    #T_93c8ff8a_0092_11e9_8f83_f0d5bff9b4bfrow2_col8 {\n",
       "            background-color:  #ffff66;\n",
       "        }    #T_93c8ff8a_0092_11e9_8f83_f0d5bff9b4bfrow2_col9 {\n",
       "            background-color:  #ffff66;\n",
       "        }    #T_93c8ff8a_0092_11e9_8f83_f0d5bff9b4bfrow2_col10 {\n",
       "            background-color:  #008066;\n",
       "        }    #T_93c8ff8a_0092_11e9_8f83_f0d5bff9b4bfrow2_col11 {\n",
       "            background-color:  #008066;\n",
       "        }    #T_93c8ff8a_0092_11e9_8f83_f0d5bff9b4bfrow2_col12 {\n",
       "            background-color:  #008066;\n",
       "        }    #T_93c8ff8a_0092_11e9_8f83_f0d5bff9b4bfrow2_col13 {\n",
       "            background-color:  #008066;\n",
       "        }    #T_93c8ff8a_0092_11e9_8f83_f0d5bff9b4bfrow2_col14 {\n",
       "            background-color:  #008066;\n",
       "        }    #T_93c8ff8a_0092_11e9_8f83_f0d5bff9b4bfrow2_col15 {\n",
       "            background-color:  #008066;\n",
       "        }    #T_93c8ff8a_0092_11e9_8f83_f0d5bff9b4bfrow2_col16 {\n",
       "            background-color:  #cce666;\n",
       "        }    #T_93c8ff8a_0092_11e9_8f83_f0d5bff9b4bfrow2_col17 {\n",
       "            background-color:  #ffff66;\n",
       "        }    #T_93c8ff8a_0092_11e9_8f83_f0d5bff9b4bfrow2_col18 {\n",
       "            background-color:  #40a066;\n",
       "        }    #T_93c8ff8a_0092_11e9_8f83_f0d5bff9b4bfrow2_col19 {\n",
       "            background-color:  #50a866;\n",
       "        }    #T_93c8ff8a_0092_11e9_8f83_f0d5bff9b4bfrow2_col20 {\n",
       "            background-color:  #008066;\n",
       "        }    #T_93c8ff8a_0092_11e9_8f83_f0d5bff9b4bfrow2_col21 {\n",
       "            background-color:  #008066;\n",
       "        }    #T_93c8ff8a_0092_11e9_8f83_f0d5bff9b4bfrow2_col22 {\n",
       "            background-color:  #008066;\n",
       "        }    #T_93c8ff8a_0092_11e9_8f83_f0d5bff9b4bfrow2_col23 {\n",
       "            background-color:  #008066;\n",
       "        }    #T_93c8ff8a_0092_11e9_8f83_f0d5bff9b4bfrow2_col24 {\n",
       "            background-color:  #ffff66;\n",
       "        }    #T_93c8ff8a_0092_11e9_8f83_f0d5bff9b4bfrow2_col25 {\n",
       "            background-color:  #ffff66;\n",
       "        }    #T_93c8ff8a_0092_11e9_8f83_f0d5bff9b4bfrow2_col26 {\n",
       "            background-color:  #008066;\n",
       "        }    #T_93c8ff8a_0092_11e9_8f83_f0d5bff9b4bfrow2_col27 {\n",
       "            background-color:  #008066;\n",
       "        }    #T_93c8ff8a_0092_11e9_8f83_f0d5bff9b4bfrow3_col0 {\n",
       "            background-color:  #90c866;\n",
       "        }    #T_93c8ff8a_0092_11e9_8f83_f0d5bff9b4bfrow3_col1 {\n",
       "            background-color:  #6ab466;\n",
       "        }    #T_93c8ff8a_0092_11e9_8f83_f0d5bff9b4bfrow3_col2 {\n",
       "            background-color:  #7fbf66;\n",
       "        }    #T_93c8ff8a_0092_11e9_8f83_f0d5bff9b4bfrow3_col3 {\n",
       "            background-color:  #8ec666;\n",
       "        }    #T_93c8ff8a_0092_11e9_8f83_f0d5bff9b4bfrow3_col4 {\n",
       "            background-color:  #008066;\n",
       "        }    #T_93c8ff8a_0092_11e9_8f83_f0d5bff9b4bfrow3_col5 {\n",
       "            background-color:  #62b066;\n",
       "        }    #T_93c8ff8a_0092_11e9_8f83_f0d5bff9b4bfrow3_col6 {\n",
       "            background-color:  #008066;\n",
       "        }    #T_93c8ff8a_0092_11e9_8f83_f0d5bff9b4bfrow3_col7 {\n",
       "            background-color:  #008066;\n",
       "        }    #T_93c8ff8a_0092_11e9_8f83_f0d5bff9b4bfrow3_col8 {\n",
       "            background-color:  #008066;\n",
       "        }    #T_93c8ff8a_0092_11e9_8f83_f0d5bff9b4bfrow3_col9 {\n",
       "            background-color:  #249266;\n",
       "        }    #T_93c8ff8a_0092_11e9_8f83_f0d5bff9b4bfrow3_col10 {\n",
       "            background-color:  #5bad66;\n",
       "        }    #T_93c8ff8a_0092_11e9_8f83_f0d5bff9b4bfrow3_col11 {\n",
       "            background-color:  #57ab66;\n",
       "        }    #T_93c8ff8a_0092_11e9_8f83_f0d5bff9b4bfrow3_col12 {\n",
       "            background-color:  #008066;\n",
       "        }    #T_93c8ff8a_0092_11e9_8f83_f0d5bff9b4bfrow3_col13 {\n",
       "            background-color:  #0b8566;\n",
       "        }    #T_93c8ff8a_0092_11e9_8f83_f0d5bff9b4bfrow3_col14 {\n",
       "            background-color:  #55aa66;\n",
       "        }    #T_93c8ff8a_0092_11e9_8f83_f0d5bff9b4bfrow3_col15 {\n",
       "            background-color:  #a8d366;\n",
       "        }    #T_93c8ff8a_0092_11e9_8f83_f0d5bff9b4bfrow3_col16 {\n",
       "            background-color:  #339966;\n",
       "        }    #T_93c8ff8a_0092_11e9_8f83_f0d5bff9b4bfrow3_col17 {\n",
       "            background-color:  #279366;\n",
       "        }    #T_93c8ff8a_0092_11e9_8f83_f0d5bff9b4bfrow3_col18 {\n",
       "            background-color:  #008066;\n",
       "        }    #T_93c8ff8a_0092_11e9_8f83_f0d5bff9b4bfrow3_col19 {\n",
       "            background-color:  #4ea666;\n",
       "        }    #T_93c8ff8a_0092_11e9_8f83_f0d5bff9b4bfrow3_col20 {\n",
       "            background-color:  #008066;\n",
       "        }    #T_93c8ff8a_0092_11e9_8f83_f0d5bff9b4bfrow3_col21 {\n",
       "            background-color:  #008066;\n",
       "        }    #T_93c8ff8a_0092_11e9_8f83_f0d5bff9b4bfrow3_col22 {\n",
       "            background-color:  #ffff66;\n",
       "        }    #T_93c8ff8a_0092_11e9_8f83_f0d5bff9b4bfrow3_col23 {\n",
       "            background-color:  #ffff66;\n",
       "        }    #T_93c8ff8a_0092_11e9_8f83_f0d5bff9b4bfrow3_col24 {\n",
       "            background-color:  #008066;\n",
       "        }    #T_93c8ff8a_0092_11e9_8f83_f0d5bff9b4bfrow3_col25 {\n",
       "            background-color:  #198c66;\n",
       "        }    #T_93c8ff8a_0092_11e9_8f83_f0d5bff9b4bfrow3_col26 {\n",
       "            background-color:  #008066;\n",
       "        }    #T_93c8ff8a_0092_11e9_8f83_f0d5bff9b4bfrow3_col27 {\n",
       "            background-color:  #55aa66;\n",
       "        }    #T_93c8ff8a_0092_11e9_8f83_f0d5bff9b4bfrow4_col0 {\n",
       "            background-color:  #7abc66;\n",
       "        }    #T_93c8ff8a_0092_11e9_8f83_f0d5bff9b4bfrow4_col1 {\n",
       "            background-color:  #168a66;\n",
       "        }    #T_93c8ff8a_0092_11e9_8f83_f0d5bff9b4bfrow4_col2 {\n",
       "            background-color:  #008066;\n",
       "        }    #T_93c8ff8a_0092_11e9_8f83_f0d5bff9b4bfrow4_col3 {\n",
       "            background-color:  #008066;\n",
       "        }    #T_93c8ff8a_0092_11e9_8f83_f0d5bff9b4bfrow4_col4 {\n",
       "            background-color:  #008066;\n",
       "        }    #T_93c8ff8a_0092_11e9_8f83_f0d5bff9b4bfrow4_col5 {\n",
       "            background-color:  #008066;\n",
       "        }    #T_93c8ff8a_0092_11e9_8f83_f0d5bff9b4bfrow4_col6 {\n",
       "            background-color:  #008066;\n",
       "        }    #T_93c8ff8a_0092_11e9_8f83_f0d5bff9b4bfrow4_col7 {\n",
       "            background-color:  #008066;\n",
       "        }    #T_93c8ff8a_0092_11e9_8f83_f0d5bff9b4bfrow4_col8 {\n",
       "            background-color:  #008066;\n",
       "        }    #T_93c8ff8a_0092_11e9_8f83_f0d5bff9b4bfrow4_col9 {\n",
       "            background-color:  #249266;\n",
       "        }    #T_93c8ff8a_0092_11e9_8f83_f0d5bff9b4bfrow4_col10 {\n",
       "            background-color:  #b1d866;\n",
       "        }    #T_93c8ff8a_0092_11e9_8f83_f0d5bff9b4bfrow4_col11 {\n",
       "            background-color:  #b3d966;\n",
       "        }    #T_93c8ff8a_0092_11e9_8f83_f0d5bff9b4bfrow4_col12 {\n",
       "            background-color:  #ffff66;\n",
       "        }    #T_93c8ff8a_0092_11e9_8f83_f0d5bff9b4bfrow4_col13 {\n",
       "            background-color:  #aed666;\n",
       "        }    #T_93c8ff8a_0092_11e9_8f83_f0d5bff9b4bfrow4_col14 {\n",
       "            background-color:  #a5d266;\n",
       "        }    #T_93c8ff8a_0092_11e9_8f83_f0d5bff9b4bfrow4_col15 {\n",
       "            background-color:  #b0d866;\n",
       "        }    #T_93c8ff8a_0092_11e9_8f83_f0d5bff9b4bfrow4_col16 {\n",
       "            background-color:  #008066;\n",
       "        }    #T_93c8ff8a_0092_11e9_8f83_f0d5bff9b4bfrow4_col17 {\n",
       "            background-color:  #008066;\n",
       "        }    #T_93c8ff8a_0092_11e9_8f83_f0d5bff9b4bfrow4_col18 {\n",
       "            background-color:  #008066;\n",
       "        }    #T_93c8ff8a_0092_11e9_8f83_f0d5bff9b4bfrow4_col19 {\n",
       "            background-color:  #008066;\n",
       "        }    #T_93c8ff8a_0092_11e9_8f83_f0d5bff9b4bfrow4_col20 {\n",
       "            background-color:  #008066;\n",
       "        }    #T_93c8ff8a_0092_11e9_8f83_f0d5bff9b4bfrow4_col21 {\n",
       "            background-color:  #008066;\n",
       "        }    #T_93c8ff8a_0092_11e9_8f83_f0d5bff9b4bfrow4_col22 {\n",
       "            background-color:  #008066;\n",
       "        }    #T_93c8ff8a_0092_11e9_8f83_f0d5bff9b4bfrow4_col23 {\n",
       "            background-color:  #008066;\n",
       "        }    #T_93c8ff8a_0092_11e9_8f83_f0d5bff9b4bfrow4_col24 {\n",
       "            background-color:  #008066;\n",
       "        }    #T_93c8ff8a_0092_11e9_8f83_f0d5bff9b4bfrow4_col25 {\n",
       "            background-color:  #1a8c66;\n",
       "        }    #T_93c8ff8a_0092_11e9_8f83_f0d5bff9b4bfrow4_col26 {\n",
       "            background-color:  #008066;\n",
       "        }    #T_93c8ff8a_0092_11e9_8f83_f0d5bff9b4bfrow4_col27 {\n",
       "            background-color:  #008066;\n",
       "        }    #T_93c8ff8a_0092_11e9_8f83_f0d5bff9b4bfrow5_col0 {\n",
       "            background-color:  #b1d866;\n",
       "        }    #T_93c8ff8a_0092_11e9_8f83_f0d5bff9b4bfrow5_col1 {\n",
       "            background-color:  #aad466;\n",
       "        }    #T_93c8ff8a_0092_11e9_8f83_f0d5bff9b4bfrow5_col2 {\n",
       "            background-color:  #ffff66;\n",
       "        }    #T_93c8ff8a_0092_11e9_8f83_f0d5bff9b4bfrow5_col3 {\n",
       "            background-color:  #ffff66;\n",
       "        }    #T_93c8ff8a_0092_11e9_8f83_f0d5bff9b4bfrow5_col4 {\n",
       "            background-color:  #66b266;\n",
       "        }    #T_93c8ff8a_0092_11e9_8f83_f0d5bff9b4bfrow5_col5 {\n",
       "            background-color:  #62b066;\n",
       "        }    #T_93c8ff8a_0092_11e9_8f83_f0d5bff9b4bfrow5_col6 {\n",
       "            background-color:  #008066;\n",
       "        }    #T_93c8ff8a_0092_11e9_8f83_f0d5bff9b4bfrow5_col7 {\n",
       "            background-color:  #008066;\n",
       "        }    #T_93c8ff8a_0092_11e9_8f83_f0d5bff9b4bfrow5_col8 {\n",
       "            background-color:  #008066;\n",
       "        }    #T_93c8ff8a_0092_11e9_8f83_f0d5bff9b4bfrow5_col9 {\n",
       "            background-color:  #008066;\n",
       "        }    #T_93c8ff8a_0092_11e9_8f83_f0d5bff9b4bfrow5_col10 {\n",
       "            background-color:  #068266;\n",
       "        }    #T_93c8ff8a_0092_11e9_8f83_f0d5bff9b4bfrow5_col11 {\n",
       "            background-color:  #269266;\n",
       "        }    #T_93c8ff8a_0092_11e9_8f83_f0d5bff9b4bfrow5_col12 {\n",
       "            background-color:  #008066;\n",
       "        }    #T_93c8ff8a_0092_11e9_8f83_f0d5bff9b4bfrow5_col13 {\n",
       "            background-color:  #118866;\n",
       "        }    #T_93c8ff8a_0092_11e9_8f83_f0d5bff9b4bfrow5_col14 {\n",
       "            background-color:  #ffff66;\n",
       "        }    #T_93c8ff8a_0092_11e9_8f83_f0d5bff9b4bfrow5_col15 {\n",
       "            background-color:  #fefe66;\n",
       "        }    #T_93c8ff8a_0092_11e9_8f83_f0d5bff9b4bfrow5_col16 {\n",
       "            background-color:  #ffff66;\n",
       "        }    #T_93c8ff8a_0092_11e9_8f83_f0d5bff9b4bfrow5_col17 {\n",
       "            background-color:  #ffff66;\n",
       "        }    #T_93c8ff8a_0092_11e9_8f83_f0d5bff9b4bfrow5_col18 {\n",
       "            background-color:  #008066;\n",
       "        }    #T_93c8ff8a_0092_11e9_8f83_f0d5bff9b4bfrow5_col19 {\n",
       "            background-color:  #2c9666;\n",
       "        }    #T_93c8ff8a_0092_11e9_8f83_f0d5bff9b4bfrow5_col20 {\n",
       "            background-color:  #008066;\n",
       "        }    #T_93c8ff8a_0092_11e9_8f83_f0d5bff9b4bfrow5_col21 {\n",
       "            background-color:  #008066;\n",
       "        }    #T_93c8ff8a_0092_11e9_8f83_f0d5bff9b4bfrow5_col22 {\n",
       "            background-color:  #008066;\n",
       "        }    #T_93c8ff8a_0092_11e9_8f83_f0d5bff9b4bfrow5_col23 {\n",
       "            background-color:  #008066;\n",
       "        }    #T_93c8ff8a_0092_11e9_8f83_f0d5bff9b4bfrow5_col24 {\n",
       "            background-color:  #008066;\n",
       "        }    #T_93c8ff8a_0092_11e9_8f83_f0d5bff9b4bfrow5_col25 {\n",
       "            background-color:  #1a8c66;\n",
       "        }    #T_93c8ff8a_0092_11e9_8f83_f0d5bff9b4bfrow5_col26 {\n",
       "            background-color:  #008066;\n",
       "        }    #T_93c8ff8a_0092_11e9_8f83_f0d5bff9b4bfrow5_col27 {\n",
       "            background-color:  #aad466;\n",
       "        }    #T_93c8ff8a_0092_11e9_8f83_f0d5bff9b4bfrow6_col0 {\n",
       "            background-color:  #67b366;\n",
       "        }    #T_93c8ff8a_0092_11e9_8f83_f0d5bff9b4bfrow6_col1 {\n",
       "            background-color:  #aad466;\n",
       "        }    #T_93c8ff8a_0092_11e9_8f83_f0d5bff9b4bfrow6_col2 {\n",
       "            background-color:  #2a9466;\n",
       "        }    #T_93c8ff8a_0092_11e9_8f83_f0d5bff9b4bfrow6_col3 {\n",
       "            background-color:  #ffff66;\n",
       "        }    #T_93c8ff8a_0092_11e9_8f83_f0d5bff9b4bfrow6_col4 {\n",
       "            background-color:  #008066;\n",
       "        }    #T_93c8ff8a_0092_11e9_8f83_f0d5bff9b4bfrow6_col5 {\n",
       "            background-color:  #9dce66;\n",
       "        }    #T_93c8ff8a_0092_11e9_8f83_f0d5bff9b4bfrow6_col6 {\n",
       "            background-color:  #008066;\n",
       "        }    #T_93c8ff8a_0092_11e9_8f83_f0d5bff9b4bfrow6_col7 {\n",
       "            background-color:  #008066;\n",
       "        }    #T_93c8ff8a_0092_11e9_8f83_f0d5bff9b4bfrow6_col8 {\n",
       "            background-color:  #008066;\n",
       "        }    #T_93c8ff8a_0092_11e9_8f83_f0d5bff9b4bfrow6_col9 {\n",
       "            background-color:  #008066;\n",
       "        }    #T_93c8ff8a_0092_11e9_8f83_f0d5bff9b4bfrow6_col10 {\n",
       "            background-color:  #128866;\n",
       "        }    #T_93c8ff8a_0092_11e9_8f83_f0d5bff9b4bfrow6_col11 {\n",
       "            background-color:  #7dbe66;\n",
       "        }    #T_93c8ff8a_0092_11e9_8f83_f0d5bff9b4bfrow6_col12 {\n",
       "            background-color:  #008066;\n",
       "        }    #T_93c8ff8a_0092_11e9_8f83_f0d5bff9b4bfrow6_col13 {\n",
       "            background-color:  #45a266;\n",
       "        }    #T_93c8ff8a_0092_11e9_8f83_f0d5bff9b4bfrow6_col14 {\n",
       "            background-color:  #aad466;\n",
       "        }    #T_93c8ff8a_0092_11e9_8f83_f0d5bff9b4bfrow6_col15 {\n",
       "            background-color:  #d2e866;\n",
       "        }    #T_93c8ff8a_0092_11e9_8f83_f0d5bff9b4bfrow6_col16 {\n",
       "            background-color:  #339966;\n",
       "        }    #T_93c8ff8a_0092_11e9_8f83_f0d5bff9b4bfrow6_col17 {\n",
       "            background-color:  #ffff66;\n",
       "        }    #T_93c8ff8a_0092_11e9_8f83_f0d5bff9b4bfrow6_col18 {\n",
       "            background-color:  #008066;\n",
       "        }    #T_93c8ff8a_0092_11e9_8f83_f0d5bff9b4bfrow6_col19 {\n",
       "            background-color:  #3f9f66;\n",
       "        }    #T_93c8ff8a_0092_11e9_8f83_f0d5bff9b4bfrow6_col20 {\n",
       "            background-color:  #008066;\n",
       "        }    #T_93c8ff8a_0092_11e9_8f83_f0d5bff9b4bfrow6_col21 {\n",
       "            background-color:  #008066;\n",
       "        }    #T_93c8ff8a_0092_11e9_8f83_f0d5bff9b4bfrow6_col22 {\n",
       "            background-color:  #008066;\n",
       "        }    #T_93c8ff8a_0092_11e9_8f83_f0d5bff9b4bfrow6_col23 {\n",
       "            background-color:  #008066;\n",
       "        }    #T_93c8ff8a_0092_11e9_8f83_f0d5bff9b4bfrow6_col24 {\n",
       "            background-color:  #008066;\n",
       "        }    #T_93c8ff8a_0092_11e9_8f83_f0d5bff9b4bfrow6_col25 {\n",
       "            background-color:  #339966;\n",
       "        }    #T_93c8ff8a_0092_11e9_8f83_f0d5bff9b4bfrow6_col26 {\n",
       "            background-color:  #008066;\n",
       "        }    #T_93c8ff8a_0092_11e9_8f83_f0d5bff9b4bfrow6_col27 {\n",
       "            background-color:  #aad466;\n",
       "        }</style>  \n",
       "<table id=\"T_93c8ff8a_0092_11e9_8f83_f0d5bff9b4bf\" > \n",
       "<thead>    <tr> \n",
       "        <th class=\"blank level0\" ></th> \n",
       "        <th class=\"col_heading level0 col0\" colspan=2>energy_100g_conv</th> \n",
       "        <th class=\"col_heading level0 col2\" colspan=2>fat_100g_conv</th> \n",
       "        <th class=\"col_heading level0 col4\" colspan=2>saturated-fat_100g_conv</th> \n",
       "        <th class=\"col_heading level0 col6\" colspan=2>trans-fat_100g_conv</th> \n",
       "        <th class=\"col_heading level0 col8\" colspan=2>cholesterol_100g_conv</th> \n",
       "        <th class=\"col_heading level0 col10\" colspan=2>carbohydrates_100g_conv</th> \n",
       "        <th class=\"col_heading level0 col12\" colspan=2>sugars_100g_conv</th> \n",
       "        <th class=\"col_heading level0 col14\" colspan=2>fiber_100g_conv</th> \n",
       "        <th class=\"col_heading level0 col16\" colspan=2>proteins_100g_conv</th> \n",
       "        <th class=\"col_heading level0 col18\" colspan=2>sodium_100g_conv</th> \n",
       "        <th class=\"col_heading level0 col20\" colspan=2>vitamin-a_100g_conv</th> \n",
       "        <th class=\"col_heading level0 col22\" colspan=2>vitamin-c_100g_conv</th> \n",
       "        <th class=\"col_heading level0 col24\" colspan=2>calcium_100g_conv</th> \n",
       "        <th class=\"col_heading level0 col26\" colspan=2>iron_100g_conv</th> \n",
       "    </tr>    <tr> \n",
       "        <th class=\"blank level1\" ></th> \n",
       "        <th class=\"col_heading level1 col0\" >min</th> \n",
       "        <th class=\"col_heading level1 col1\" >max</th> \n",
       "        <th class=\"col_heading level1 col2\" >min</th> \n",
       "        <th class=\"col_heading level1 col3\" >max</th> \n",
       "        <th class=\"col_heading level1 col4\" >min</th> \n",
       "        <th class=\"col_heading level1 col5\" >max</th> \n",
       "        <th class=\"col_heading level1 col6\" >min</th> \n",
       "        <th class=\"col_heading level1 col7\" >max</th> \n",
       "        <th class=\"col_heading level1 col8\" >min</th> \n",
       "        <th class=\"col_heading level1 col9\" >max</th> \n",
       "        <th class=\"col_heading level1 col10\" >min</th> \n",
       "        <th class=\"col_heading level1 col11\" >max</th> \n",
       "        <th class=\"col_heading level1 col12\" >min</th> \n",
       "        <th class=\"col_heading level1 col13\" >max</th> \n",
       "        <th class=\"col_heading level1 col14\" >min</th> \n",
       "        <th class=\"col_heading level1 col15\" >max</th> \n",
       "        <th class=\"col_heading level1 col16\" >min</th> \n",
       "        <th class=\"col_heading level1 col17\" >max</th> \n",
       "        <th class=\"col_heading level1 col18\" >min</th> \n",
       "        <th class=\"col_heading level1 col19\" >max</th> \n",
       "        <th class=\"col_heading level1 col20\" >min</th> \n",
       "        <th class=\"col_heading level1 col21\" >max</th> \n",
       "        <th class=\"col_heading level1 col22\" >min</th> \n",
       "        <th class=\"col_heading level1 col23\" >max</th> \n",
       "        <th class=\"col_heading level1 col24\" >min</th> \n",
       "        <th class=\"col_heading level1 col25\" >max</th> \n",
       "        <th class=\"col_heading level1 col26\" >min</th> \n",
       "        <th class=\"col_heading level1 col27\" >max</th> \n",
       "    </tr>    <tr> \n",
       "        <th class=\"index_name level0\" >label</th> \n",
       "        <th class=\"blank\" ></th> \n",
       "        <th class=\"blank\" ></th> \n",
       "        <th class=\"blank\" ></th> \n",
       "        <th class=\"blank\" ></th> \n",
       "        <th class=\"blank\" ></th> \n",
       "        <th class=\"blank\" ></th> \n",
       "        <th class=\"blank\" ></th> \n",
       "        <th class=\"blank\" ></th> \n",
       "        <th class=\"blank\" ></th> \n",
       "        <th class=\"blank\" ></th> \n",
       "        <th class=\"blank\" ></th> \n",
       "        <th class=\"blank\" ></th> \n",
       "        <th class=\"blank\" ></th> \n",
       "        <th class=\"blank\" ></th> \n",
       "        <th class=\"blank\" ></th> \n",
       "        <th class=\"blank\" ></th> \n",
       "        <th class=\"blank\" ></th> \n",
       "        <th class=\"blank\" ></th> \n",
       "        <th class=\"blank\" ></th> \n",
       "        <th class=\"blank\" ></th> \n",
       "        <th class=\"blank\" ></th> \n",
       "        <th class=\"blank\" ></th> \n",
       "        <th class=\"blank\" ></th> \n",
       "        <th class=\"blank\" ></th> \n",
       "        <th class=\"blank\" ></th> \n",
       "        <th class=\"blank\" ></th> \n",
       "        <th class=\"blank\" ></th> \n",
       "        <th class=\"blank\" ></th> \n",
       "    </tr></thead> \n",
       "<tbody>    <tr> \n",
       "        <th id=\"T_93c8ff8a_0092_11e9_8f83_f0d5bff9b4bflevel0_row0\" class=\"row_heading level0 row0\" >0</th> \n",
       "        <td id=\"T_93c8ff8a_0092_11e9_8f83_f0d5bff9b4bfrow0_col0\" class=\"data row0 col0\" >961.95</td> \n",
       "        <td id=\"T_93c8ff8a_0092_11e9_8f83_f0d5bff9b4bfrow0_col1\" class=\"data row0 col1\" >1047.2</td> \n",
       "        <td id=\"T_93c8ff8a_0092_11e9_8f83_f0d5bff9b4bfrow0_col2\" class=\"data row0 col2\" >4.999</td> \n",
       "        <td id=\"T_93c8ff8a_0092_11e9_8f83_f0d5bff9b4bfrow0_col3\" class=\"data row0 col3\" >8.003</td> \n",
       "        <td id=\"T_93c8ff8a_0092_11e9_8f83_f0d5bff9b4bfrow0_col4\" class=\"data row0 col4\" >0.498</td> \n",
       "        <td id=\"T_93c8ff8a_0092_11e9_8f83_f0d5bff9b4bfrow0_col5\" class=\"data row0 col5\" >1.032</td> \n",
       "        <td id=\"T_93c8ff8a_0092_11e9_8f83_f0d5bff9b4bfrow0_col6\" class=\"data row0 col6\" >0</td> \n",
       "        <td id=\"T_93c8ff8a_0092_11e9_8f83_f0d5bff9b4bfrow0_col7\" class=\"data row0 col7\" >0</td> \n",
       "        <td id=\"T_93c8ff8a_0092_11e9_8f83_f0d5bff9b4bfrow0_col8\" class=\"data row0 col8\" >0</td> \n",
       "        <td id=\"T_93c8ff8a_0092_11e9_8f83_f0d5bff9b4bfrow0_col9\" class=\"data row0 col9\" >0</td> \n",
       "        <td id=\"T_93c8ff8a_0092_11e9_8f83_f0d5bff9b4bfrow0_col10\" class=\"data row0 col10\" >39</td> \n",
       "        <td id=\"T_93c8ff8a_0092_11e9_8f83_f0d5bff9b4bfrow0_col11\" class=\"data row0 col11\" >45</td> \n",
       "        <td id=\"T_93c8ff8a_0092_11e9_8f83_f0d5bff9b4bfrow0_col12\" class=\"data row0 col12\" >12.001</td> \n",
       "        <td id=\"T_93c8ff8a_0092_11e9_8f83_f0d5bff9b4bfrow0_col13\" class=\"data row0 col13\" >15.002</td> \n",
       "        <td id=\"T_93c8ff8a_0092_11e9_8f83_f0d5bff9b4bfrow0_col14\" class=\"data row0 col14\" >2.97</td> \n",
       "        <td id=\"T_93c8ff8a_0092_11e9_8f83_f0d5bff9b4bfrow0_col15\" class=\"data row0 col15\" >3.025</td> \n",
       "        <td id=\"T_93c8ff8a_0092_11e9_8f83_f0d5bff9b4bfrow0_col16\" class=\"data row0 col16\" >3.998</td> \n",
       "        <td id=\"T_93c8ff8a_0092_11e9_8f83_f0d5bff9b4bfrow0_col17\" class=\"data row0 col17\" >6.001</td> \n",
       "        <td id=\"T_93c8ff8a_0092_11e9_8f83_f0d5bff9b4bfrow0_col18\" class=\"data row0 col18\" >0.02</td> \n",
       "        <td id=\"T_93c8ff8a_0092_11e9_8f83_f0d5bff9b4bfrow0_col19\" class=\"data row0 col19\" >0.105</td> \n",
       "        <td id=\"T_93c8ff8a_0092_11e9_8f83_f0d5bff9b4bfrow0_col20\" class=\"data row0 col20\" >0</td> \n",
       "        <td id=\"T_93c8ff8a_0092_11e9_8f83_f0d5bff9b4bfrow0_col21\" class=\"data row0 col21\" >0</td> \n",
       "        <td id=\"T_93c8ff8a_0092_11e9_8f83_f0d5bff9b4bfrow0_col22\" class=\"data row0 col22\" >0</td> \n",
       "        <td id=\"T_93c8ff8a_0092_11e9_8f83_f0d5bff9b4bfrow0_col23\" class=\"data row0 col23\" >0</td> \n",
       "        <td id=\"T_93c8ff8a_0092_11e9_8f83_f0d5bff9b4bfrow0_col24\" class=\"data row0 col24\" >0.02</td> \n",
       "        <td id=\"T_93c8ff8a_0092_11e9_8f83_f0d5bff9b4bfrow0_col25\" class=\"data row0 col25\" >0.02</td> \n",
       "        <td id=\"T_93c8ff8a_0092_11e9_8f83_f0d5bff9b4bfrow0_col26\" class=\"data row0 col26\" >0.001</td> \n",
       "        <td id=\"T_93c8ff8a_0092_11e9_8f83_f0d5bff9b4bfrow0_col27\" class=\"data row0 col27\" >0.001</td> \n",
       "    </tr>    <tr> \n",
       "        <th id=\"T_93c8ff8a_0092_11e9_8f83_f0d5bff9b4bflevel0_row1\" class=\"row_heading level0 row1\" >1</th> \n",
       "        <td id=\"T_93c8ff8a_0092_11e9_8f83_f0d5bff9b4bfrow1_col0\" class=\"data row1 col0\" >0</td> \n",
       "        <td id=\"T_93c8ff8a_0092_11e9_8f83_f0d5bff9b4bfrow1_col1\" class=\"data row1 col1\" >963.2</td> \n",
       "        <td id=\"T_93c8ff8a_0092_11e9_8f83_f0d5bff9b4bfrow1_col2\" class=\"data row1 col2\" >0</td> \n",
       "        <td id=\"T_93c8ff8a_0092_11e9_8f83_f0d5bff9b4bfrow1_col3\" class=\"data row1 col3\" >18</td> \n",
       "        <td id=\"T_93c8ff8a_0092_11e9_8f83_f0d5bff9b4bfrow1_col4\" class=\"data row1 col4\" >0</td> \n",
       "        <td id=\"T_93c8ff8a_0092_11e9_8f83_f0d5bff9b4bfrow1_col5\" class=\"data row1 col5\" >5.001</td> \n",
       "        <td id=\"T_93c8ff8a_0092_11e9_8f83_f0d5bff9b4bfrow1_col6\" class=\"data row1 col6\" >0</td> \n",
       "        <td id=\"T_93c8ff8a_0092_11e9_8f83_f0d5bff9b4bfrow1_col7\" class=\"data row1 col7\" >0.3</td> \n",
       "        <td id=\"T_93c8ff8a_0092_11e9_8f83_f0d5bff9b4bfrow1_col8\" class=\"data row1 col8\" >0</td> \n",
       "        <td id=\"T_93c8ff8a_0092_11e9_8f83_f0d5bff9b4bfrow1_col9\" class=\"data row1 col9\" >0.02</td> \n",
       "        <td id=\"T_93c8ff8a_0092_11e9_8f83_f0d5bff9b4bfrow1_col10\" class=\"data row1 col10\" >0</td> \n",
       "        <td id=\"T_93c8ff8a_0092_11e9_8f83_f0d5bff9b4bfrow1_col11\" class=\"data row1 col11\" >50.002</td> \n",
       "        <td id=\"T_93c8ff8a_0092_11e9_8f83_f0d5bff9b4bfrow1_col12\" class=\"data row1 col12\" >0</td> \n",
       "        <td id=\"T_93c8ff8a_0092_11e9_8f83_f0d5bff9b4bfrow1_col13\" class=\"data row1 col13\" >46.008</td> \n",
       "        <td id=\"T_93c8ff8a_0092_11e9_8f83_f0d5bff9b4bfrow1_col14\" class=\"data row1 col14\" >0</td> \n",
       "        <td id=\"T_93c8ff8a_0092_11e9_8f83_f0d5bff9b4bfrow1_col15\" class=\"data row1 col15\" >2.556</td> \n",
       "        <td id=\"T_93c8ff8a_0092_11e9_8f83_f0d5bff9b4bfrow1_col16\" class=\"data row1 col16\" >0</td> \n",
       "        <td id=\"T_93c8ff8a_0092_11e9_8f83_f0d5bff9b4bfrow1_col17\" class=\"data row1 col17\" >9.002</td> \n",
       "        <td id=\"T_93c8ff8a_0092_11e9_8f83_f0d5bff9b4bfrow1_col18\" class=\"data row1 col18\" >0</td> \n",
       "        <td id=\"T_93c8ff8a_0092_11e9_8f83_f0d5bff9b4bfrow1_col19\" class=\"data row1 col19\" >1.1</td> \n",
       "        <td id=\"T_93c8ff8a_0092_11e9_8f83_f0d5bff9b4bfrow1_col20\" class=\"data row1 col20\" >0</td> \n",
       "        <td id=\"T_93c8ff8a_0092_11e9_8f83_f0d5bff9b4bfrow1_col21\" class=\"data row1 col21\" >0</td> \n",
       "        <td id=\"T_93c8ff8a_0092_11e9_8f83_f0d5bff9b4bfrow1_col22\" class=\"data row1 col22\" >0</td> \n",
       "        <td id=\"T_93c8ff8a_0092_11e9_8f83_f0d5bff9b4bfrow1_col23\" class=\"data row1 col23\" >0.001</td> \n",
       "        <td id=\"T_93c8ff8a_0092_11e9_8f83_f0d5bff9b4bfrow1_col24\" class=\"data row1 col24\" >0</td> \n",
       "        <td id=\"T_93c8ff8a_0092_11e9_8f83_f0d5bff9b4bfrow1_col25\" class=\"data row1 col25\" >0.1</td> \n",
       "        <td id=\"T_93c8ff8a_0092_11e9_8f83_f0d5bff9b4bfrow1_col26\" class=\"data row1 col26\" >0</td> \n",
       "        <td id=\"T_93c8ff8a_0092_11e9_8f83_f0d5bff9b4bfrow1_col27\" class=\"data row1 col27\" >0.003</td> \n",
       "    </tr>    <tr> \n",
       "        <th id=\"T_93c8ff8a_0092_11e9_8f83_f0d5bff9b4bflevel0_row2\" class=\"row_heading level0 row2\" >2</th> \n",
       "        <td id=\"T_93c8ff8a_0092_11e9_8f83_f0d5bff9b4bfrow2_col0\" class=\"data row2 col0\" >251.37</td> \n",
       "        <td id=\"T_93c8ff8a_0092_11e9_8f83_f0d5bff9b4bfrow2_col1\" class=\"data row2 col1\" >543.68</td> \n",
       "        <td id=\"T_93c8ff8a_0092_11e9_8f83_f0d5bff9b4bfrow2_col2\" class=\"data row2 col2\" >4.001</td> \n",
       "        <td id=\"T_93c8ff8a_0092_11e9_8f83_f0d5bff9b4bfrow2_col3\" class=\"data row2 col3\" >10.599</td> \n",
       "        <td id=\"T_93c8ff8a_0092_11e9_8f83_f0d5bff9b4bfrow2_col4\" class=\"data row2 col4\" >2.499</td> \n",
       "        <td id=\"T_93c8ff8a_0092_11e9_8f83_f0d5bff9b4bfrow2_col5\" class=\"data row2 col5\" >7.002</td> \n",
       "        <td id=\"T_93c8ff8a_0092_11e9_8f83_f0d5bff9b4bfrow2_col6\" class=\"data row2 col6\" >0</td> \n",
       "        <td id=\"T_93c8ff8a_0092_11e9_8f83_f0d5bff9b4bfrow2_col7\" class=\"data row2 col7\" >0.3</td> \n",
       "        <td id=\"T_93c8ff8a_0092_11e9_8f83_f0d5bff9b4bfrow2_col8\" class=\"data row2 col8\" >0.01</td> \n",
       "        <td id=\"T_93c8ff8a_0092_11e9_8f83_f0d5bff9b4bfrow2_col9\" class=\"data row2 col9\" >0.035</td> \n",
       "        <td id=\"T_93c8ff8a_0092_11e9_8f83_f0d5bff9b4bfrow2_col10\" class=\"data row2 col10\" >0</td> \n",
       "        <td id=\"T_93c8ff8a_0092_11e9_8f83_f0d5bff9b4bfrow2_col11\" class=\"data row2 col11\" >3.001</td> \n",
       "        <td id=\"T_93c8ff8a_0092_11e9_8f83_f0d5bff9b4bfrow2_col12\" class=\"data row2 col12\" >0</td> \n",
       "        <td id=\"T_93c8ff8a_0092_11e9_8f83_f0d5bff9b4bfrow2_col13\" class=\"data row2 col13\" >2.003</td> \n",
       "        <td id=\"T_93c8ff8a_0092_11e9_8f83_f0d5bff9b4bfrow2_col14\" class=\"data row2 col14\" >0</td> \n",
       "        <td id=\"T_93c8ff8a_0092_11e9_8f83_f0d5bff9b4bfrow2_col15\" class=\"data row2 col15\" >0</td> \n",
       "        <td id=\"T_93c8ff8a_0092_11e9_8f83_f0d5bff9b4bfrow2_col16\" class=\"data row2 col16\" >4</td> \n",
       "        <td id=\"T_93c8ff8a_0092_11e9_8f83_f0d5bff9b4bfrow2_col17\" class=\"data row2 col17\" >8.999</td> \n",
       "        <td id=\"T_93c8ff8a_0092_11e9_8f83_f0d5bff9b4bfrow2_col18\" class=\"data row2 col18\" >0.005</td> \n",
       "        <td id=\"T_93c8ff8a_0092_11e9_8f83_f0d5bff9b4bfrow2_col19\" class=\"data row2 col19\" >0.38</td> \n",
       "        <td id=\"T_93c8ff8a_0092_11e9_8f83_f0d5bff9b4bfrow2_col20\" class=\"data row2 col20\" >0</td> \n",
       "        <td id=\"T_93c8ff8a_0092_11e9_8f83_f0d5bff9b4bfrow2_col21\" class=\"data row2 col21\" >0</td> \n",
       "        <td id=\"T_93c8ff8a_0092_11e9_8f83_f0d5bff9b4bfrow2_col22\" class=\"data row2 col22\" >0</td> \n",
       "        <td id=\"T_93c8ff8a_0092_11e9_8f83_f0d5bff9b4bfrow2_col23\" class=\"data row2 col23\" >0</td> \n",
       "        <td id=\"T_93c8ff8a_0092_11e9_8f83_f0d5bff9b4bfrow2_col24\" class=\"data row2 col24\" >0.18</td> \n",
       "        <td id=\"T_93c8ff8a_0092_11e9_8f83_f0d5bff9b4bfrow2_col25\" class=\"data row2 col25\" >0.22</td> \n",
       "        <td id=\"T_93c8ff8a_0092_11e9_8f83_f0d5bff9b4bfrow2_col26\" class=\"data row2 col26\" >0</td> \n",
       "        <td id=\"T_93c8ff8a_0092_11e9_8f83_f0d5bff9b4bfrow2_col27\" class=\"data row2 col27\" >0</td> \n",
       "    </tr>    <tr> \n",
       "        <th id=\"T_93c8ff8a_0092_11e9_8f83_f0d5bff9b4bflevel0_row3\" class=\"row_heading level0 row3\" >3</th> \n",
       "        <td id=\"T_93c8ff8a_0092_11e9_8f83_f0d5bff9b4bfrow3_col0\" class=\"data row3 col0\" >543.48</td> \n",
       "        <td id=\"T_93c8ff8a_0092_11e9_8f83_f0d5bff9b4bfrow3_col1\" class=\"data row3 col1\" >753.2</td> \n",
       "        <td id=\"T_93c8ff8a_0092_11e9_8f83_f0d5bff9b4bfrow3_col2\" class=\"data row3 col2\" >6</td> \n",
       "        <td id=\"T_93c8ff8a_0092_11e9_8f83_f0d5bff9b4bfrow3_col3\" class=\"data row3 col3\" >11.001</td> \n",
       "        <td id=\"T_93c8ff8a_0092_11e9_8f83_f0d5bff9b4bfrow3_col4\" class=\"data row3 col4\" >0</td> \n",
       "        <td id=\"T_93c8ff8a_0092_11e9_8f83_f0d5bff9b4bfrow3_col5\" class=\"data row3 col5\" >2.999</td> \n",
       "        <td id=\"T_93c8ff8a_0092_11e9_8f83_f0d5bff9b4bfrow3_col6\" class=\"data row3 col6\" >0</td> \n",
       "        <td id=\"T_93c8ff8a_0092_11e9_8f83_f0d5bff9b4bfrow3_col7\" class=\"data row3 col7\" >0</td> \n",
       "        <td id=\"T_93c8ff8a_0092_11e9_8f83_f0d5bff9b4bfrow3_col8\" class=\"data row3 col8\" >0</td> \n",
       "        <td id=\"T_93c8ff8a_0092_11e9_8f83_f0d5bff9b4bfrow3_col9\" class=\"data row3 col9\" >0.005</td> \n",
       "        <td id=\"T_93c8ff8a_0092_11e9_8f83_f0d5bff9b4bfrow3_col10\" class=\"data row3 col10\" >14</td> \n",
       "        <td id=\"T_93c8ff8a_0092_11e9_8f83_f0d5bff9b4bfrow3_col11\" class=\"data row3 col11\" >19.001</td> \n",
       "        <td id=\"T_93c8ff8a_0092_11e9_8f83_f0d5bff9b4bfrow3_col12\" class=\"data row3 col12\" >0</td> \n",
       "        <td id=\"T_93c8ff8a_0092_11e9_8f83_f0d5bff9b4bfrow3_col13\" class=\"data row3 col13\" >4.001</td> \n",
       "        <td id=\"T_93c8ff8a_0092_11e9_8f83_f0d5bff9b4bfrow3_col14\" class=\"data row3 col14\" >0.988</td> \n",
       "        <td id=\"T_93c8ff8a_0092_11e9_8f83_f0d5bff9b4bfrow3_col15\" class=\"data row3 col15\" >1.988</td> \n",
       "        <td id=\"T_93c8ff8a_0092_11e9_8f83_f0d5bff9b4bfrow3_col16\" class=\"data row3 col16\" >0.999</td> \n",
       "        <td id=\"T_93c8ff8a_0092_11e9_8f83_f0d5bff9b4bfrow3_col17\" class=\"data row3 col17\" >2.24</td> \n",
       "        <td id=\"T_93c8ff8a_0092_11e9_8f83_f0d5bff9b4bfrow3_col18\" class=\"data row3 col18\" >0</td> \n",
       "        <td id=\"T_93c8ff8a_0092_11e9_8f83_f0d5bff9b4bfrow3_col19\" class=\"data row3 col19\" >0.37</td> \n",
       "        <td id=\"T_93c8ff8a_0092_11e9_8f83_f0d5bff9b4bfrow3_col20\" class=\"data row3 col20\" >0</td> \n",
       "        <td id=\"T_93c8ff8a_0092_11e9_8f83_f0d5bff9b4bfrow3_col21\" class=\"data row3 col21\" >0</td> \n",
       "        <td id=\"T_93c8ff8a_0092_11e9_8f83_f0d5bff9b4bfrow3_col22\" class=\"data row3 col22\" >0.006</td> \n",
       "        <td id=\"T_93c8ff8a_0092_11e9_8f83_f0d5bff9b4bfrow3_col23\" class=\"data row3 col23\" >0.006</td> \n",
       "        <td id=\"T_93c8ff8a_0092_11e9_8f83_f0d5bff9b4bfrow3_col24\" class=\"data row3 col24\" >0</td> \n",
       "        <td id=\"T_93c8ff8a_0092_11e9_8f83_f0d5bff9b4bfrow3_col25\" class=\"data row3 col25\" >0.04</td> \n",
       "        <td id=\"T_93c8ff8a_0092_11e9_8f83_f0d5bff9b4bfrow3_col26\" class=\"data row3 col26\" >0</td> \n",
       "        <td id=\"T_93c8ff8a_0092_11e9_8f83_f0d5bff9b4bfrow3_col27\" class=\"data row3 col27\" >0.001</td> \n",
       "    </tr>    <tr> \n",
       "        <th id=\"T_93c8ff8a_0092_11e9_8f83_f0d5bff9b4bflevel0_row4\" class=\"row_heading level0 row4\" >4</th> \n",
       "        <td id=\"T_93c8ff8a_0092_11e9_8f83_f0d5bff9b4bfrow4_col0\" class=\"data row4 col0\" >460.8</td> \n",
       "        <td id=\"T_93c8ff8a_0092_11e9_8f83_f0d5bff9b4bfrow4_col1\" class=\"data row4 col1\" >587.6</td> \n",
       "        <td id=\"T_93c8ff8a_0092_11e9_8f83_f0d5bff9b4bfrow4_col2\" class=\"data row4 col2\" >0</td> \n",
       "        <td id=\"T_93c8ff8a_0092_11e9_8f83_f0d5bff9b4bfrow4_col3\" class=\"data row4 col3\" >1</td> \n",
       "        <td id=\"T_93c8ff8a_0092_11e9_8f83_f0d5bff9b4bfrow4_col4\" class=\"data row4 col4\" >0</td> \n",
       "        <td id=\"T_93c8ff8a_0092_11e9_8f83_f0d5bff9b4bfrow4_col5\" class=\"data row4 col5\" >0.5</td> \n",
       "        <td id=\"T_93c8ff8a_0092_11e9_8f83_f0d5bff9b4bfrow4_col6\" class=\"data row4 col6\" >0</td> \n",
       "        <td id=\"T_93c8ff8a_0092_11e9_8f83_f0d5bff9b4bfrow4_col7\" class=\"data row4 col7\" >0</td> \n",
       "        <td id=\"T_93c8ff8a_0092_11e9_8f83_f0d5bff9b4bfrow4_col8\" class=\"data row4 col8\" >0</td> \n",
       "        <td id=\"T_93c8ff8a_0092_11e9_8f83_f0d5bff9b4bfrow4_col9\" class=\"data row4 col9\" >0.005</td> \n",
       "        <td id=\"T_93c8ff8a_0092_11e9_8f83_f0d5bff9b4bfrow4_col10\" class=\"data row4 col10\" >27</td> \n",
       "        <td id=\"T_93c8ff8a_0092_11e9_8f83_f0d5bff9b4bfrow4_col11\" class=\"data row4 col11\" >36</td> \n",
       "        <td id=\"T_93c8ff8a_0092_11e9_8f83_f0d5bff9b4bfrow4_col12\" class=\"data row4 col12\" >23</td> \n",
       "        <td id=\"T_93c8ff8a_0092_11e9_8f83_f0d5bff9b4bfrow4_col13\" class=\"data row4 col13\" >32.006</td> \n",
       "        <td id=\"T_93c8ff8a_0092_11e9_8f83_f0d5bff9b4bfrow4_col14\" class=\"data row4 col14\" >1.92</td> \n",
       "        <td id=\"T_93c8ff8a_0092_11e9_8f83_f0d5bff9b4bfrow4_col15\" class=\"data row4 col15\" >2.08</td> \n",
       "        <td id=\"T_93c8ff8a_0092_11e9_8f83_f0d5bff9b4bfrow4_col16\" class=\"data row4 col16\" >0</td> \n",
       "        <td id=\"T_93c8ff8a_0092_11e9_8f83_f0d5bff9b4bfrow4_col17\" class=\"data row4 col17\" >1</td> \n",
       "        <td id=\"T_93c8ff8a_0092_11e9_8f83_f0d5bff9b4bfrow4_col18\" class=\"data row4 col18\" >0</td> \n",
       "        <td id=\"T_93c8ff8a_0092_11e9_8f83_f0d5bff9b4bfrow4_col19\" class=\"data row4 col19\" >0.049</td> \n",
       "        <td id=\"T_93c8ff8a_0092_11e9_8f83_f0d5bff9b4bfrow4_col20\" class=\"data row4 col20\" >0</td> \n",
       "        <td id=\"T_93c8ff8a_0092_11e9_8f83_f0d5bff9b4bfrow4_col21\" class=\"data row4 col21\" >0</td> \n",
       "        <td id=\"T_93c8ff8a_0092_11e9_8f83_f0d5bff9b4bfrow4_col22\" class=\"data row4 col22\" >0</td> \n",
       "        <td id=\"T_93c8ff8a_0092_11e9_8f83_f0d5bff9b4bfrow4_col23\" class=\"data row4 col23\" >0</td> \n",
       "        <td id=\"T_93c8ff8a_0092_11e9_8f83_f0d5bff9b4bfrow4_col24\" class=\"data row4 col24\" >0</td> \n",
       "        <td id=\"T_93c8ff8a_0092_11e9_8f83_f0d5bff9b4bfrow4_col25\" class=\"data row4 col25\" >0.041</td> \n",
       "        <td id=\"T_93c8ff8a_0092_11e9_8f83_f0d5bff9b4bfrow4_col26\" class=\"data row4 col26\" >0</td> \n",
       "        <td id=\"T_93c8ff8a_0092_11e9_8f83_f0d5bff9b4bfrow4_col27\" class=\"data row4 col27\" >0</td> \n",
       "    </tr>    <tr> \n",
       "        <th id=\"T_93c8ff8a_0092_11e9_8f83_f0d5bff9b4bflevel0_row5\" class=\"row_heading level0 row5\" >5</th> \n",
       "        <td id=\"T_93c8ff8a_0092_11e9_8f83_f0d5bff9b4bfrow5_col0\" class=\"data row5 col0\" >667.29</td> \n",
       "        <td id=\"T_93c8ff8a_0092_11e9_8f83_f0d5bff9b4bfrow5_col1\" class=\"data row5 col1\" >879.24</td> \n",
       "        <td id=\"T_93c8ff8a_0092_11e9_8f83_f0d5bff9b4bfrow5_col2\" class=\"data row5 col2\" >12.001</td> \n",
       "        <td id=\"T_93c8ff8a_0092_11e9_8f83_f0d5bff9b4bfrow5_col3\" class=\"data row5 col3\" >18.999</td> \n",
       "        <td id=\"T_93c8ff8a_0092_11e9_8f83_f0d5bff9b4bfrow5_col4\" class=\"data row5 col4\" >0.999</td> \n",
       "        <td id=\"T_93c8ff8a_0092_11e9_8f83_f0d5bff9b4bfrow5_col5\" class=\"data row5 col5\" >3</td> \n",
       "        <td id=\"T_93c8ff8a_0092_11e9_8f83_f0d5bff9b4bfrow5_col6\" class=\"data row5 col6\" >0</td> \n",
       "        <td id=\"T_93c8ff8a_0092_11e9_8f83_f0d5bff9b4bfrow5_col7\" class=\"data row5 col7\" >0</td> \n",
       "        <td id=\"T_93c8ff8a_0092_11e9_8f83_f0d5bff9b4bfrow5_col8\" class=\"data row5 col8\" >0</td> \n",
       "        <td id=\"T_93c8ff8a_0092_11e9_8f83_f0d5bff9b4bfrow5_col9\" class=\"data row5 col9\" >0</td> \n",
       "        <td id=\"T_93c8ff8a_0092_11e9_8f83_f0d5bff9b4bfrow5_col10\" class=\"data row5 col10\" >0.96</td> \n",
       "        <td id=\"T_93c8ff8a_0092_11e9_8f83_f0d5bff9b4bfrow5_col11\" class=\"data row5 col11\" >9.999</td> \n",
       "        <td id=\"T_93c8ff8a_0092_11e9_8f83_f0d5bff9b4bfrow5_col12\" class=\"data row5 col12\" >0</td> \n",
       "        <td id=\"T_93c8ff8a_0092_11e9_8f83_f0d5bff9b4bfrow5_col13\" class=\"data row5 col13\" >5.001</td> \n",
       "        <td id=\"T_93c8ff8a_0092_11e9_8f83_f0d5bff9b4bfrow5_col14\" class=\"data row5 col14\" >2.974</td> \n",
       "        <td id=\"T_93c8ff8a_0092_11e9_8f83_f0d5bff9b4bfrow5_col15\" class=\"data row5 col15\" >3.01</td> \n",
       "        <td id=\"T_93c8ff8a_0092_11e9_8f83_f0d5bff9b4bfrow5_col16\" class=\"data row5 col16\" >5</td> \n",
       "        <td id=\"T_93c8ff8a_0092_11e9_8f83_f0d5bff9b4bfrow5_col17\" class=\"data row5 col17\" >8.999</td> \n",
       "        <td id=\"T_93c8ff8a_0092_11e9_8f83_f0d5bff9b4bfrow5_col18\" class=\"data row5 col18\" >0</td> \n",
       "        <td id=\"T_93c8ff8a_0092_11e9_8f83_f0d5bff9b4bfrow5_col19\" class=\"data row5 col19\" >0.23</td> \n",
       "        <td id=\"T_93c8ff8a_0092_11e9_8f83_f0d5bff9b4bfrow5_col20\" class=\"data row5 col20\" >0</td> \n",
       "        <td id=\"T_93c8ff8a_0092_11e9_8f83_f0d5bff9b4bfrow5_col21\" class=\"data row5 col21\" >0</td> \n",
       "        <td id=\"T_93c8ff8a_0092_11e9_8f83_f0d5bff9b4bfrow5_col22\" class=\"data row5 col22\" >0</td> \n",
       "        <td id=\"T_93c8ff8a_0092_11e9_8f83_f0d5bff9b4bfrow5_col23\" class=\"data row5 col23\" >0</td> \n",
       "        <td id=\"T_93c8ff8a_0092_11e9_8f83_f0d5bff9b4bfrow5_col24\" class=\"data row5 col24\" >0</td> \n",
       "        <td id=\"T_93c8ff8a_0092_11e9_8f83_f0d5bff9b4bfrow5_col25\" class=\"data row5 col25\" >0.041</td> \n",
       "        <td id=\"T_93c8ff8a_0092_11e9_8f83_f0d5bff9b4bfrow5_col26\" class=\"data row5 col26\" >0</td> \n",
       "        <td id=\"T_93c8ff8a_0092_11e9_8f83_f0d5bff9b4bfrow5_col27\" class=\"data row5 col27\" >0.002</td> \n",
       "    </tr>    <tr> \n",
       "        <th id=\"T_93c8ff8a_0092_11e9_8f83_f0d5bff9b4bflevel0_row6\" class=\"row_heading level0 row6\" >6</th> \n",
       "        <td id=\"T_93c8ff8a_0092_11e9_8f83_f0d5bff9b4bfrow6_col0\" class=\"data row6 col0\" >388.92</td> \n",
       "        <td id=\"T_93c8ff8a_0092_11e9_8f83_f0d5bff9b4bfrow6_col1\" class=\"data row6 col1\" >878.7</td> \n",
       "        <td id=\"T_93c8ff8a_0092_11e9_8f83_f0d5bff9b4bfrow6_col2\" class=\"data row6 col2\" >1.999</td> \n",
       "        <td id=\"T_93c8ff8a_0092_11e9_8f83_f0d5bff9b4bfrow6_col3\" class=\"data row6 col3\" >19.001</td> \n",
       "        <td id=\"T_93c8ff8a_0092_11e9_8f83_f0d5bff9b4bfrow6_col4\" class=\"data row6 col4\" >0</td> \n",
       "        <td id=\"T_93c8ff8a_0092_11e9_8f83_f0d5bff9b4bfrow6_col5\" class=\"data row6 col5\" >4.512</td> \n",
       "        <td id=\"T_93c8ff8a_0092_11e9_8f83_f0d5bff9b4bfrow6_col6\" class=\"data row6 col6\" >0</td> \n",
       "        <td id=\"T_93c8ff8a_0092_11e9_8f83_f0d5bff9b4bfrow6_col7\" class=\"data row6 col7\" >0</td> \n",
       "        <td id=\"T_93c8ff8a_0092_11e9_8f83_f0d5bff9b4bfrow6_col8\" class=\"data row6 col8\" >0</td> \n",
       "        <td id=\"T_93c8ff8a_0092_11e9_8f83_f0d5bff9b4bfrow6_col9\" class=\"data row6 col9\" >0</td> \n",
       "        <td id=\"T_93c8ff8a_0092_11e9_8f83_f0d5bff9b4bfrow6_col10\" class=\"data row6 col10\" >2.88</td> \n",
       "        <td id=\"T_93c8ff8a_0092_11e9_8f83_f0d5bff9b4bfrow6_col11\" class=\"data row6 col11\" >26.002</td> \n",
       "        <td id=\"T_93c8ff8a_0092_11e9_8f83_f0d5bff9b4bfrow6_col12\" class=\"data row6 col12\" >0</td> \n",
       "        <td id=\"T_93c8ff8a_0092_11e9_8f83_f0d5bff9b4bfrow6_col13\" class=\"data row6 col13\" >14.001</td> \n",
       "        <td id=\"T_93c8ff8a_0092_11e9_8f83_f0d5bff9b4bfrow6_col14\" class=\"data row6 col14\" >1.984</td> \n",
       "        <td id=\"T_93c8ff8a_0092_11e9_8f83_f0d5bff9b4bfrow6_col15\" class=\"data row6 col15\" >2.485</td> \n",
       "        <td id=\"T_93c8ff8a_0092_11e9_8f83_f0d5bff9b4bfrow6_col16\" class=\"data row6 col16\" >1</td> \n",
       "        <td id=\"T_93c8ff8a_0092_11e9_8f83_f0d5bff9b4bfrow6_col17\" class=\"data row6 col17\" >9</td> \n",
       "        <td id=\"T_93c8ff8a_0092_11e9_8f83_f0d5bff9b4bfrow6_col18\" class=\"data row6 col18\" >0</td> \n",
       "        <td id=\"T_93c8ff8a_0092_11e9_8f83_f0d5bff9b4bfrow6_col19\" class=\"data row6 col19\" >0.31</td> \n",
       "        <td id=\"T_93c8ff8a_0092_11e9_8f83_f0d5bff9b4bfrow6_col20\" class=\"data row6 col20\" >0</td> \n",
       "        <td id=\"T_93c8ff8a_0092_11e9_8f83_f0d5bff9b4bfrow6_col21\" class=\"data row6 col21\" >0</td> \n",
       "        <td id=\"T_93c8ff8a_0092_11e9_8f83_f0d5bff9b4bfrow6_col22\" class=\"data row6 col22\" >0</td> \n",
       "        <td id=\"T_93c8ff8a_0092_11e9_8f83_f0d5bff9b4bfrow6_col23\" class=\"data row6 col23\" >0</td> \n",
       "        <td id=\"T_93c8ff8a_0092_11e9_8f83_f0d5bff9b4bfrow6_col24\" class=\"data row6 col24\" >0</td> \n",
       "        <td id=\"T_93c8ff8a_0092_11e9_8f83_f0d5bff9b4bfrow6_col25\" class=\"data row6 col25\" >0.06</td> \n",
       "        <td id=\"T_93c8ff8a_0092_11e9_8f83_f0d5bff9b4bfrow6_col26\" class=\"data row6 col26\" >0</td> \n",
       "        <td id=\"T_93c8ff8a_0092_11e9_8f83_f0d5bff9b4bfrow6_col27\" class=\"data row6 col27\" >0.002</td> \n",
       "    </tr></tbody> \n",
       "</table> "
      ],
      "text/plain": [
       "<pandas.io.formats.style.Styler at 0x7fd763b7aeb8>"
      ]
     },
     "execution_count": 19,
     "metadata": {},
     "output_type": "execute_result"
    }
   ],
   "source": [
    "grouped_by_label[nf_cols_ml] \\\n",
    "    .agg(['min', 'max']) \\\n",
    "    .round(3) \\\n",
    "    .head(7) \\\n",
    "    .style.background_gradient(cmap='summer')"
   ]
  },
  {
   "cell_type": "markdown",
   "metadata": {
    "colab_type": "text",
    "id": "0_I-8Wrls-Fu"
   },
   "source": [
    "Nutritional differences between the clusters are immediately visible. For instance, we can see how *Cluster 0* stands out from the others in terms of `energy` (kJ) per serving; we also learn that this amount of energy comes from the strong presence of `carbohydrates` rather than `fat`, which, along with a high value for `fiber` and a moderate one for `proteins` could possibly indicate that this cluster contains pasta or rice. As another example, in *Cluster 2*, we have larger quantities for `saturated_fat`, `cholesterol` and `proteins`, which could point either to meat products or dairy.\n",
    "\n",
    "Note that, for most of the clusters, we get a minimum and a maximum value that - although normally very sensitive to noise - are pretty close. This indicates that our clusters might be quite dense. \n",
    "\n",
    "Of course, this is not a lucky guess game! It would be more interesting to look at what products these clusters contain. Let's take a peek at a random cluster, say, *Cluster 25*:"
   ]
  },
  {
   "cell_type": "code",
   "execution_count": 20,
   "metadata": {
    "colab": {
     "base_uri": "https://localhost:8080/",
     "height": 793
    },
    "colab_type": "code",
    "id": "LUy2FYdezMsJ",
    "outputId": "4bc1fff8-9d92-4709-f9a4-f21a2010df78"
   },
   "outputs": [
    {
     "name": "stdout",
     "output_type": "stream",
     "text": [
      "PROFILING CLUSTER 25\n",
      "Size: 174\n",
      "\n",
      "Average nutritional composition: \n",
      "energy_100g_conv           408.747\n",
      "fat_100g_conv                1.168\n",
      "saturated-fat_100g_conv      0.706\n",
      "trans-fat_100g_conv          0.000\n",
      "cholesterol_100g_conv        0.007\n",
      "carbohydrates_100g_conv     12.590\n",
      "sugars_100g_conv            11.859\n",
      "fiber_100g_conv              0.000\n",
      "proteins_100g_conv           8.195\n",
      "sodium_100g_conv             0.127\n",
      "vitamin-a_100g_conv          0.000\n",
      "vitamin-c_100g_conv          0.002\n",
      "calcium_100g_conv            0.300\n",
      "iron_100g_conv               0.000\n",
      "dtype: float64\n",
      "\n",
      "Products:\n",
      "27436                         Good Day, Fat Free Milk\n",
      "80711                                   Fat Free Milk\n",
      "34443                           Select 1% Lowfat Milk\n",
      "28288                                   Fat Free Milk\n",
      "55679                                    Low Fat Milk\n",
      "38715     Dairypure, Sweet Acidophilus 1% Lowfat Milk\n",
      "1527                               Fat Free Skim Milk\n",
      "94439                                   Fat Free Milk\n",
      "70772                                    Low Fat Milk\n",
      "38702                       Skim Choice Fat Free Milk\n",
      "76154                                   Fat Free Milk\n",
      "79929                                1/2% Lowfat Milk\n",
      "1422                                    Fat Free Milk\n",
      "38711                      Skim Supreme Fat Free Milk\n",
      "107308                                 1% Lowfat Milk\n",
      "38707                                   Fat Free Milk\n",
      "11092        Guernsey Farms Dairy, Fat Free Skim Milk\n",
      "4173                            Organic Fat Free Milk\n",
      "33975                 Greenwise, Organic Low Fat Milk\n",
      "27428                        Albertsons, Low Fat Milk\n",
      "Name: product_name, dtype: object\n"
     ]
    }
   ],
   "source": [
    "def generate_cluster_profile(label):\n",
    "    print(\"PROFILING CLUSTER {}\".format(label))\n",
    "    c = data_with_clusters[labels == label]\n",
    "    print(\"Size: {}\".format(len(c)))\n",
    "    print(\"\\nAverage nutritional composition: \")\n",
    "    print(c[nf_cols_ml].mean().round(3))\n",
    "    print(\"\\nProducts:\")\n",
    "    print(c.product_name.sample(20, random_state=0))\n",
    "\n",
    "\n",
    "null = generate_cluster_profile(25)"
   ]
  },
  {
   "cell_type": "markdown",
   "metadata": {
    "colab_type": "text",
    "id": "XT1NIGUl2PfV"
   },
   "source": [
    "When taking a random sample from the `product_name` column, we see that all of the records we get refer to low-fat milk products. The fact that *Cluster 25* is quite sizeable at $174$ products makes it all the more interesting.\n",
    "\n",
    "Interestingly enough, none of these products had been assigned to a category in the original dataset!"
   ]
  },
  {
   "cell_type": "code",
   "execution_count": 21,
   "metadata": {
    "colab": {
     "base_uri": "https://localhost:8080/",
     "height": 35
    },
    "colab_type": "code",
    "id": "DbU3f21T5EnU",
    "outputId": "899771e1-01c1-4e82-da3f-ebf054785ccd"
   },
   "outputs": [
    {
     "data": {
      "text/plain": [
       "0"
      ]
     },
     "execution_count": 21,
     "metadata": {},
     "output_type": "execute_result"
    }
   ],
   "source": [
    "len(data_with_clusters[labels == 174].categories_en.dropna())"
   ]
  },
  {
   "cell_type": "markdown",
   "metadata": {
    "colab_type": "text",
    "id": "-TIHaCIn55ZO"
   },
   "source": [
    "When we see the full picture, we see that DBSCAN on nutritional information manages to group unclassified, in the original dataset, products into category-relevant clusters. Below we see that if we take the clusters with the smallest proportion of missing categories, we still see that, apart from clusters *124* and *177*, before the clustering we were missing category information for at least 80-90% of the points in each cluster!"
   ]
  },
  {
   "cell_type": "code",
   "execution_count": 22,
   "metadata": {
    "colab": {
     "base_uri": "https://localhost:8080/",
     "height": 394
    },
    "colab_type": "code",
    "id": "UgHHkaHw5gkr",
    "outputId": "7824e71c-c819-46dc-cc41-bd7e713151f4"
   },
   "outputs": [
    {
     "data": {
      "text/html": [
       "<div>\n",
       "<style scoped>\n",
       "    .dataframe tbody tr th:only-of-type {\n",
       "        vertical-align: middle;\n",
       "    }\n",
       "\n",
       "    .dataframe tbody tr th {\n",
       "        vertical-align: top;\n",
       "    }\n",
       "\n",
       "    .dataframe thead th {\n",
       "        text-align: right;\n",
       "    }\n",
       "</style>\n",
       "<table border=\"1\" class=\"dataframe\">\n",
       "  <thead>\n",
       "    <tr style=\"text-align: right;\">\n",
       "      <th></th>\n",
       "      <th>code</th>\n",
       "      <th>% missing</th>\n",
       "    </tr>\n",
       "    <tr>\n",
       "      <th>label</th>\n",
       "      <th></th>\n",
       "      <th></th>\n",
       "    </tr>\n",
       "  </thead>\n",
       "  <tbody>\n",
       "    <tr>\n",
       "      <th>124</th>\n",
       "      <td>35</td>\n",
       "      <td>28.571429</td>\n",
       "    </tr>\n",
       "    <tr>\n",
       "      <th>177</th>\n",
       "      <td>31</td>\n",
       "      <td>38.709677</td>\n",
       "    </tr>\n",
       "    <tr>\n",
       "      <th>168</th>\n",
       "      <td>14</td>\n",
       "      <td>92.857143</td>\n",
       "    </tr>\n",
       "    <tr>\n",
       "      <th>165</th>\n",
       "      <td>29</td>\n",
       "      <td>93.103448</td>\n",
       "    </tr>\n",
       "    <tr>\n",
       "      <th>72</th>\n",
       "      <td>46</td>\n",
       "      <td>93.478261</td>\n",
       "    </tr>\n",
       "    <tr>\n",
       "      <th>145</th>\n",
       "      <td>35</td>\n",
       "      <td>94.285714</td>\n",
       "    </tr>\n",
       "    <tr>\n",
       "      <th>162</th>\n",
       "      <td>113</td>\n",
       "      <td>94.690265</td>\n",
       "    </tr>\n",
       "    <tr>\n",
       "      <th>73</th>\n",
       "      <td>105</td>\n",
       "      <td>95.238095</td>\n",
       "    </tr>\n",
       "    <tr>\n",
       "      <th>155</th>\n",
       "      <td>47</td>\n",
       "      <td>95.744681</td>\n",
       "    </tr>\n",
       "    <tr>\n",
       "      <th>37</th>\n",
       "      <td>52</td>\n",
       "      <td>96.153846</td>\n",
       "    </tr>\n",
       "  </tbody>\n",
       "</table>\n",
       "</div>"
      ],
      "text/plain": [
       "       code  % missing\n",
       "label                 \n",
       "124      35  28.571429\n",
       "177      31  38.709677\n",
       "168      14  92.857143\n",
       "165      29  93.103448\n",
       "72       46  93.478261\n",
       "145      35  94.285714\n",
       "162     113  94.690265\n",
       "73      105  95.238095\n",
       "155      47  95.744681\n",
       "37       52  96.153846"
      ]
     },
     "execution_count": 22,
     "metadata": {},
     "output_type": "execute_result"
    }
   ],
   "source": [
    "l = grouped_by_label \\\n",
    "    .count()\n",
    "l['% missing'] = (1 - l.categories_en / l.code) * 100\n",
    "l[['code', '% missing']].sort_values(by=\"% missing\").head(10)"
   ]
  },
  {
   "cell_type": "markdown",
   "metadata": {
    "colab_type": "text",
    "id": "_2es_xyI89GL"
   },
   "source": [
    "Finally, let's get a picture of what category each cluster might represent by looking at product names inside each one."
   ]
  },
  {
   "cell_type": "code",
   "execution_count": 23,
   "metadata": {
    "colab": {
     "base_uri": "https://localhost:8080/",
     "height": 1180
    },
    "colab_type": "code",
    "id": "H-uz2FRjFfBf",
    "outputId": "3053a329-fbd4-4ad5-d278-3c1d3aac3d49"
   },
   "outputs": [
    {
     "data": {
      "text/plain": [
       "label  product_name                                 \n",
       "0      Almond Granola                                     2\n",
       "       Blueberry Pomegranate Crunch                       1\n",
       "       Cascadian Farm Organic Oats And Honey Granola      1\n",
       "1      Chicken Broth                                     63\n",
       "       Tomato Ketchup                                    58\n",
       "       Real Mayonnaise                                   44\n",
       "2      Sharp Cheddar Cheese                              73\n",
       "       Mild Cheddar Cheese                               51\n",
       "       Mozzarella Cheese                                 49\n",
       "3      Potato Chips                                      81\n",
       "       Cooked Potato Chips                               17\n",
       "       Potato Chips, Original                             9\n",
       "4      Dried Cranberries                                 21\n",
       "       Sweetened Dried Cranberries                        6\n",
       "       Cranberries                                        4\n",
       "5      Peanut Butter                                      9\n",
       "       Sunflower Kernels                                  9\n",
       "       Crunchy Peanut Butter                              7\n",
       "6      Creamy Peanut Butter                             107\n",
       "       Mixed Nuts                                        53\n",
       "       Crunchy Peanut Butter                             52\n",
       "7      Whole Kernel Corn                                 18\n",
       "       Whole Kernel Golden Sweet Corn                     7\n",
       "       Organic Whole Kernel Corn                          5\n",
       "8      Half & Half                                       43\n",
       "       Light Cream                                       11\n",
       "       Half And Half                                      7\n",
       "9      100% Whole Wheat Bread                            16\n",
       "       Whole Wheat Bread                                  7\n",
       "       Multigrain Bread                                   4\n",
       "                                                       ... \n",
       "172    Greek Feta Salad                                   5\n",
       "       Feta Cheese                                        3\n",
       "       Chunk Feta Cheese                                  2\n",
       "173    Assorted Fine Chocolates                          10\n",
       "       Assorted Chocolates                                4\n",
       "       Assorted Fine Chocolate                            4\n",
       "174    Onion Soup Mix                                     4\n",
       "       Marukome, Miso Paste                               2\n",
       "       Mild Giardiniera                                   2\n",
       "175    Organic Diced Pears                                6\n",
       "       Apple Sauce                                        3\n",
       "       Unsweetened Applesauce                             3\n",
       "176    Chai Latte                                         2\n",
       "       Tea Drink Mix                                      2\n",
       "       100% Arabica Coffee, Vanilla Latte                 1\n",
       "177    Tomato Ketchup                                    11\n",
       "       Ketchup                                            2\n",
       "       Apple Bourbon Seasoning                            1\n",
       "178    Jelly Slices                                       2\n",
       "       Aussie Style Soft Licorice Candy                   1\n",
       "       Cherry Jelly Sliced                                1\n",
       "179    Almetta, Almond Milk Mousse, Strawberry            1\n",
       "       Bridge Mix                                         1\n",
       "       Peanut Butter Fudge Filled Cookies                 1\n",
       "180    Caramel Cashew Trail Mix                           3\n",
       "       Honey Roasted Peanuts                              3\n",
       "       Trail Mix                                          3\n",
       "181    Mild Salsa                                         3\n",
       "       Medium Salsa                                       2\n",
       "       Organic Salsa                                      2\n",
       "Name: code, Length: 546, dtype: int64"
      ]
     },
     "execution_count": 23,
     "metadata": {},
     "output_type": "execute_result"
    }
   ],
   "source": [
    "data_with_clusters[labels > -1] \\\n",
    "    .groupby(['label', 'product_name']) \\\n",
    "    .count() \\\n",
    "    .sort_values(by=['label', 'index'], ascending=[True, False]) \\\n",
    "    .groupby('label').head(3)['code']"
   ]
  },
  {
   "cell_type": "markdown",
   "metadata": {
    "colab_type": "text",
    "id": "1PaLxqGB_oET"
   },
   "source": [
    "To confirm whether these clusters do represent some category and which one, we can drill down into these clusters and see if there is some consistency among the products they contain. From the overview above, it becomes clear that some clusters are better defined (e.g. *0*: \"granola\", *2*: \"cheddar cheese\", *9*: \"whole-grain bread\", *175*: \"fruit compote\", *180*: \"trail mix\") than others (e.g. *5*: peanut butter also containing sunflower kernels). There are also cases of products of the same category that ended up in separate clusters. See, for example, clusters *7* and *60*, which both contain whole kernel corn."
   ]
  },
  {
   "cell_type": "code",
   "execution_count": 24,
   "metadata": {
    "colab": {
     "base_uri": "https://localhost:8080/",
     "height": 165
    },
    "colab_type": "code",
    "id": "3aqC33egjZQD",
    "outputId": "02132b36-054b-4b61-f459-1c12e26cbc3f"
   },
   "outputs": [
    {
     "data": {
      "text/plain": [
       "label  product_name                  \n",
       "7      Whole Kernel Corn                 18\n",
       "       Whole Kernel Golden Sweet Corn     7\n",
       "       Organic Whole Kernel Corn          5\n",
       "60     Cut Corn                           9\n",
       "       Whole Kernel Golden Corn           6\n",
       "       Whole Kernel Corn                  4\n",
       "Name: code, dtype: int64"
      ]
     },
     "execution_count": 24,
     "metadata": {},
     "output_type": "execute_result"
    }
   ],
   "source": [
    "data_with_clusters[labels.isin([7, 60])] \\\n",
    "    .groupby(['label', 'product_name']) \\\n",
    "    .count() \\\n",
    "    .sort_values(by=['label', 'index'], ascending=[True, False]) \\\n",
    "    .groupby('label').head(3)['code']"
   ]
  },
  {
   "cell_type": "markdown",
   "metadata": {
    "colab_type": "text",
    "id": "2vQgNM1Qk0uk"
   },
   "source": [
    "The number of such cases is relatively small, but their presence means that we needed a larger `epsilon` to get them included in the same core component. On the other hand, the degree of degeneracy would lead us toward smaller values of `epsilon` and `minPts` for the points included in the largest component. It becomes clear that the actual product categories might be very different from each other in terms of density, which is something we will discuss below.\n",
    "\n",
    "The overall picture is, however, very encouraging."
   ]
  },
  {
   "cell_type": "markdown",
   "metadata": {
    "colab_type": "text",
    "id": "emjHpXLhsFrF"
   },
   "source": [
    "## Discussion"
   ]
  },
  {
   "cell_type": "markdown",
   "metadata": {
    "colab_type": "text",
    "id": "uY7klfRdEolf"
   },
   "source": [
    "What do these results tell us about the hypothesis we made in the beginning? We already intuitively knew that products of a category generally differ nutritionally from products of another. But what is the nature of this difference?\n",
    "\n",
    "The fact that our DBSCAN model was able to extract, based on nutritional information only, clusters that represent actual product categories, indicates that products inside these clusters were similar enough to each other, but also very different from products in other categories. It is even more important that the resulting clusters were considerably dense, judging from the small `epsilon` we used and the considerably small range of values that every nutrition fact would take inside each cluster.\n",
    "\n",
    "***Limitations.*** However, the amount of degeneracy - $69\\%$ of our data points were classified as noise - possibly provides counter evidence to this hypothesis. For all those points, nutritional composition alone was not enough to distinguish between different categories. In addition, as we discussed above, the model sometimes grouped products of the same category into different clusters.\n",
    "\n",
    "Still, it is not clear whether these problems of the DBSCAN model can be attributed to the actual relationship between nutritional composition and product categories, or to the limitations of the dataset and the algorithm supporting the model. On the one hand, we have discussed that the dataset contains a large number of missing or inaccurate values in the nutrition fact columns. On the other hand, we should take into account that DBSCAN does not perform best when clusters of varying density are present in the dataset.\n",
    "\n",
    "***Future work.*** What does this mean for the evaluation of our hypothesis? We do have some evidence that the nutritional composition of a product is so \"unique\" for each category, that it might be able to serve as a discriminating characteristic when trying to infer categories from nutrition facts. However, due to the limitations we have discussed, some additional work would make it clearer if the hypothesis stands.\n",
    "\n",
    "First, as the *Open Food Facts* database is used more and more systematically, the quality of the data is bound to increase, especially when it comes to the factual data we use in our model, serving size and nutritional composition; this is not guaranteed for information that requires additional analytical work and differs between sources, such as the product category tree, which makes our results all the more important.\n",
    "\n",
    "Secondly, the limitations of the DBSCAN algorithm could be addressed by replacing it with a more sophisticated density-based algorithm that can handle clusters of varying density. Although we could not use these algorithms for the project due to computational limitations, a nice idea would be to use OPTICS or HDBSCAN, which adopt a hierarchical approach and then extract a flat clustering result based on the stability of the produced clusters, making it possible to choose clusters that are defined for varying values of `epsilon`."
   ]
  },
  {
   "cell_type": "markdown",
   "metadata": {
    "colab_type": "text",
    "id": "nGR42bKm2K-h"
   },
   "source": [
    "## References\n",
    "\n",
    "[1] Martin Ester, Hans-Peter Kriegel, Jörg Sander, and Xiaowei Xu. 1996. A density-based algorithm for discovering clusters a density-based algorithm for discovering clusters in large spatial databases with noise. In Proceedings of the Second International Conference on Knowledge Discovery and Data Mining (KDD'96), Evangelos Simoudis, Jiawei Han, and Usama Fayyad (Eds.). AAAI Press 226-231.\n",
    "\n",
    "[2] Jörg Sander, Martin Ester, Hans-Peter Kriegel, and Xiaowei Xu. 1998, Density-based clustering in spatial databases: The algorithm GDBSCAN and its applications. Data Mining and Knowledge Discovery 2, 2 (June 1998), 169-194. DOI: https://doi.org/10.1023/A:1009745219419\n",
    "\n",
    "[3] Erich Schubert, Jörg Sander, Martin Ester, Hans Peter Kriegel, and Xiaowei Xu. 2017. DBSCAN Revisited, Revisited: Why and How You Should (Still) Use DBSCAN. ACM Trans. Database Syst. 42, 3, Article 19 (July 2017), 21 pages. DOI: https://doi.org/10.1145/3068335"
   ]
  },
  {
   "cell_type": "markdown",
   "metadata": {
    "colab_type": "text",
    "id": "lTN-B-dZ1T7J"
   },
   "source": [
    "## Export\n",
    "\n",
    "Finally, we can save the resulting clusters in the `static_data` folder so that we can use it under other circumstances."
   ]
  },
  {
   "cell_type": "code",
   "execution_count": 25,
   "metadata": {
    "colab": {},
    "colab_type": "code",
    "id": "1ozG0_v21W3a"
   },
   "outputs": [],
   "source": [
    "out_file = join(STATIC_DATA_FOLDER, 'clusters.csv.zip')\n",
    "data_with_clusters[labels > -1][['label', 'code']] \\\n",
    "    .to_csv(out_file, index=False, compression='zip')"
   ]
  }
 ],
 "metadata": {
  "colab": {
   "collapsed_sections": [],
   "name": "nutrient_clusters.ipynb",
   "provenance": [],
   "toc_visible": true,
   "version": "0.3.2"
  },
  "kernelspec": {
   "display_name": "Python 3",
   "language": "python",
   "name": "python3"
  },
  "language_info": {
   "codemirror_mode": {
    "name": "ipython",
    "version": 3
   },
   "file_extension": ".py",
   "mimetype": "text/x-python",
   "name": "python",
   "nbconvert_exporter": "python",
   "pygments_lexer": "ipython3",
   "version": "3.7.1"
  }
 },
 "nbformat": 4,
 "nbformat_minor": 1
}
