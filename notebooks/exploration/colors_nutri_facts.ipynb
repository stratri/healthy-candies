{
 "cells": [
  {
   "cell_type": "markdown",
   "metadata": {},
   "source": [
    "# Exploration color & nutri facts"
   ]
  },
  {
   "cell_type": "code",
   "execution_count": 1,
   "metadata": {},
   "outputs": [],
   "source": [
    "from healthy_candies.load import load_clean_rel_to_nutri, NUTRI_COLS\n",
    "\n",
    "from os.path import join\n",
    "from healthy_candies.path import STATIC_DATA_FOLDER\n",
    "import pandas as pd\n",
    "import numpy as np\n",
    "\n",
    "COLORS_FILE = join(STATIC_DATA_FOLDER,'colors.csv.zip')"
   ]
  },
  {
   "cell_type": "markdown",
   "metadata": {},
   "source": [
    "## Loading data"
   ]
  },
  {
   "cell_type": "code",
   "execution_count": 2,
   "metadata": {},
   "outputs": [
    {
     "data": {
      "text/plain": [
       "['energy_100g',\n",
       " 'fat_100g',\n",
       " 'saturated-fat_100g',\n",
       " 'carbohydrates_100g',\n",
       " 'sugars_100g',\n",
       " 'proteins_100g',\n",
       " 'salt_100g',\n",
       " 'sodium_100g',\n",
       " 'nutrition-score-fr_100g']"
      ]
     },
     "execution_count": 2,
     "metadata": {},
     "output_type": "execute_result"
    }
   ],
   "source": [
    "NUTRI_COLS"
   ]
  },
  {
   "cell_type": "code",
   "execution_count": 3,
   "metadata": {},
   "outputs": [
    {
     "data": {
      "text/html": [
       "<div>\n",
       "<style scoped>\n",
       "    .dataframe tbody tr th:only-of-type {\n",
       "        vertical-align: middle;\n",
       "    }\n",
       "\n",
       "    .dataframe tbody tr th {\n",
       "        vertical-align: top;\n",
       "    }\n",
       "\n",
       "    .dataframe thead th {\n",
       "        text-align: right;\n",
       "    }\n",
       "</style>\n",
       "<table border=\"1\" class=\"dataframe\">\n",
       "  <thead>\n",
       "    <tr style=\"text-align: right;\">\n",
       "      <th></th>\n",
       "      <th>code</th>\n",
       "      <th>main_category_en</th>\n",
       "      <th>energy_100g</th>\n",
       "      <th>fat_100g</th>\n",
       "      <th>saturated-fat_100g</th>\n",
       "      <th>carbohydrates_100g</th>\n",
       "      <th>sugars_100g</th>\n",
       "      <th>proteins_100g</th>\n",
       "      <th>salt_100g</th>\n",
       "      <th>sodium_100g</th>\n",
       "      <th>nutrition-score-fr_100g</th>\n",
       "    </tr>\n",
       "  </thead>\n",
       "  <tbody>\n",
       "    <tr>\n",
       "      <th>292</th>\n",
       "      <td>0000007020254</td>\n",
       "      <td>Beverages</td>\n",
       "      <td>213.0</td>\n",
       "      <td>0.0</td>\n",
       "      <td>0.0</td>\n",
       "      <td>14.0</td>\n",
       "      <td>0.0</td>\n",
       "      <td>0.0</td>\n",
       "      <td>1.000000</td>\n",
       "      <td>0.393701</td>\n",
       "      <td>12.0</td>\n",
       "    </tr>\n",
       "    <tr>\n",
       "      <th>411</th>\n",
       "      <td>0000027533024</td>\n",
       "      <td>Desserts</td>\n",
       "      <td>1284.0</td>\n",
       "      <td>7.0</td>\n",
       "      <td>3.6</td>\n",
       "      <td>54.2</td>\n",
       "      <td>44.0</td>\n",
       "      <td>3.9</td>\n",
       "      <td>0.200000</td>\n",
       "      <td>0.078740</td>\n",
       "      <td>11.0</td>\n",
       "    </tr>\n",
       "    <tr>\n",
       "      <th>412</th>\n",
       "      <td>0000027533048</td>\n",
       "      <td>Sugary snacks</td>\n",
       "      <td>1284.0</td>\n",
       "      <td>7.0</td>\n",
       "      <td>3.6</td>\n",
       "      <td>54.2</td>\n",
       "      <td>44.0</td>\n",
       "      <td>3.9</td>\n",
       "      <td>0.199898</td>\n",
       "      <td>0.078700</td>\n",
       "      <td>10.0</td>\n",
       "    </tr>\n",
       "    <tr>\n",
       "      <th>427</th>\n",
       "      <td>0000040608754</td>\n",
       "      <td>Beverages</td>\n",
       "      <td>177.0</td>\n",
       "      <td>0.0</td>\n",
       "      <td>0.0</td>\n",
       "      <td>10.4</td>\n",
       "      <td>10.4</td>\n",
       "      <td>0.0</td>\n",
       "      <td>0.025400</td>\n",
       "      <td>0.010000</td>\n",
       "      <td>13.0</td>\n",
       "    </tr>\n",
       "    <tr>\n",
       "      <th>531</th>\n",
       "      <td>0000087177756</td>\n",
       "      <td>Beverages</td>\n",
       "      <td>177.0</td>\n",
       "      <td>0.0</td>\n",
       "      <td>0.0</td>\n",
       "      <td>10.4</td>\n",
       "      <td>10.4</td>\n",
       "      <td>0.0</td>\n",
       "      <td>0.100000</td>\n",
       "      <td>0.039370</td>\n",
       "      <td>13.0</td>\n",
       "    </tr>\n",
       "  </tbody>\n",
       "</table>\n",
       "</div>"
      ],
      "text/plain": [
       "              code main_category_en  energy_100g  fat_100g  \\\n",
       "292  0000007020254        Beverages        213.0       0.0   \n",
       "411  0000027533024         Desserts       1284.0       7.0   \n",
       "412  0000027533048    Sugary snacks       1284.0       7.0   \n",
       "427  0000040608754        Beverages        177.0       0.0   \n",
       "531  0000087177756        Beverages        177.0       0.0   \n",
       "\n",
       "     saturated-fat_100g  carbohydrates_100g  sugars_100g  proteins_100g  \\\n",
       "292                 0.0                14.0          0.0            0.0   \n",
       "411                 3.6                54.2         44.0            3.9   \n",
       "412                 3.6                54.2         44.0            3.9   \n",
       "427                 0.0                10.4         10.4            0.0   \n",
       "531                 0.0                10.4         10.4            0.0   \n",
       "\n",
       "     salt_100g  sodium_100g  nutrition-score-fr_100g  \n",
       "292   1.000000     0.393701                     12.0  \n",
       "411   0.200000     0.078740                     11.0  \n",
       "412   0.199898     0.078700                     10.0  \n",
       "427   0.025400     0.010000                     13.0  \n",
       "531   0.100000     0.039370                     13.0  "
      ]
     },
     "execution_count": 3,
     "metadata": {},
     "output_type": "execute_result"
    }
   ],
   "source": [
    "data = load_clean_rel_to_nutri(\n",
    "    usecols=['code', 'main_category_en']+NUTRI_COLS, \n",
    "    filter_has_image=True)\n",
    "data.head()"
   ]
  },
  {
   "cell_type": "code",
   "execution_count": 4,
   "metadata": {},
   "outputs": [
    {
     "data": {
      "text/html": [
       "<div>\n",
       "<style scoped>\n",
       "    .dataframe tbody tr th:only-of-type {\n",
       "        vertical-align: middle;\n",
       "    }\n",
       "\n",
       "    .dataframe tbody tr th {\n",
       "        vertical-align: top;\n",
       "    }\n",
       "\n",
       "    .dataframe thead th {\n",
       "        text-align: right;\n",
       "    }\n",
       "</style>\n",
       "<table border=\"1\" class=\"dataframe\">\n",
       "  <thead>\n",
       "    <tr style=\"text-align: right;\">\n",
       "      <th></th>\n",
       "      <th>code</th>\n",
       "      <th>red</th>\n",
       "      <th>orange</th>\n",
       "      <th>magenta</th>\n",
       "      <th>pink</th>\n",
       "      <th>yellow</th>\n",
       "      <th>yellow-green</th>\n",
       "      <th>green</th>\n",
       "      <th>green-cyan</th>\n",
       "      <th>cyan</th>\n",
       "      <th>cyan-blue</th>\n",
       "      <th>blue</th>\n",
       "      <th>blue-magenta</th>\n",
       "    </tr>\n",
       "  </thead>\n",
       "  <tbody>\n",
       "    <tr>\n",
       "      <th>0</th>\n",
       "      <td>0000007020254</td>\n",
       "      <td>484</td>\n",
       "      <td>127</td>\n",
       "      <td>0</td>\n",
       "      <td>0</td>\n",
       "      <td>0</td>\n",
       "      <td>0</td>\n",
       "      <td>0</td>\n",
       "      <td>0</td>\n",
       "      <td>0</td>\n",
       "      <td>0</td>\n",
       "      <td>0</td>\n",
       "      <td>0</td>\n",
       "    </tr>\n",
       "    <tr>\n",
       "      <th>1</th>\n",
       "      <td>0000027533024</td>\n",
       "      <td>219</td>\n",
       "      <td>708</td>\n",
       "      <td>0</td>\n",
       "      <td>0</td>\n",
       "      <td>2</td>\n",
       "      <td>0</td>\n",
       "      <td>0</td>\n",
       "      <td>0</td>\n",
       "      <td>0</td>\n",
       "      <td>0</td>\n",
       "      <td>0</td>\n",
       "      <td>0</td>\n",
       "    </tr>\n",
       "    <tr>\n",
       "      <th>2</th>\n",
       "      <td>0000027533048</td>\n",
       "      <td>100</td>\n",
       "      <td>51</td>\n",
       "      <td>0</td>\n",
       "      <td>0</td>\n",
       "      <td>2</td>\n",
       "      <td>0</td>\n",
       "      <td>0</td>\n",
       "      <td>0</td>\n",
       "      <td>0</td>\n",
       "      <td>0</td>\n",
       "      <td>0</td>\n",
       "      <td>0</td>\n",
       "    </tr>\n",
       "    <tr>\n",
       "      <th>3</th>\n",
       "      <td>0000040608754</td>\n",
       "      <td>1457</td>\n",
       "      <td>0</td>\n",
       "      <td>0</td>\n",
       "      <td>14</td>\n",
       "      <td>138</td>\n",
       "      <td>0</td>\n",
       "      <td>0</td>\n",
       "      <td>0</td>\n",
       "      <td>110</td>\n",
       "      <td>4014</td>\n",
       "      <td>1222</td>\n",
       "      <td>0</td>\n",
       "    </tr>\n",
       "    <tr>\n",
       "      <th>4</th>\n",
       "      <td>0000087177756</td>\n",
       "      <td>61</td>\n",
       "      <td>188</td>\n",
       "      <td>0</td>\n",
       "      <td>0</td>\n",
       "      <td>553</td>\n",
       "      <td>195</td>\n",
       "      <td>4</td>\n",
       "      <td>252</td>\n",
       "      <td>186</td>\n",
       "      <td>6</td>\n",
       "      <td>0</td>\n",
       "      <td>0</td>\n",
       "    </tr>\n",
       "  </tbody>\n",
       "</table>\n",
       "</div>"
      ],
      "text/plain": [
       "            code   red  orange  magenta  pink  yellow  yellow-green  green  \\\n",
       "0  0000007020254   484     127        0     0       0             0      0   \n",
       "1  0000027533024   219     708        0     0       2             0      0   \n",
       "2  0000027533048   100      51        0     0       2             0      0   \n",
       "3  0000040608754  1457       0        0    14     138             0      0   \n",
       "4  0000087177756    61     188        0     0     553           195      4   \n",
       "\n",
       "   green-cyan  cyan  cyan-blue  blue  blue-magenta  \n",
       "0           0     0          0     0             0  \n",
       "1           0     0          0     0             0  \n",
       "2           0     0          0     0             0  \n",
       "3           0   110       4014  1222             0  \n",
       "4         252   186          6     0             0  "
      ]
     },
     "execution_count": 4,
     "metadata": {},
     "output_type": "execute_result"
    }
   ],
   "source": [
    "colors = pd.read_csv(COLORS_FILE, dtype={'code':str})\n",
    "total_valid_pix = colors.total_valid_pix\n",
    "colors = colors.drop(['total_pix', 'total_valid_pix'], axis=1)\n",
    "colors.head()"
   ]
  },
  {
   "cell_type": "code",
   "execution_count": 5,
   "metadata": {},
   "outputs": [
    {
     "data": {
      "text/plain": [
       "['red',\n",
       " 'orange',\n",
       " 'magenta',\n",
       " 'pink',\n",
       " 'yellow',\n",
       " 'yellow-green',\n",
       " 'green',\n",
       " 'green-cyan',\n",
       " 'cyan',\n",
       " 'cyan-blue',\n",
       " 'blue',\n",
       " 'blue-magenta']"
      ]
     },
     "execution_count": 5,
     "metadata": {},
     "output_type": "execute_result"
    }
   ],
   "source": [
    "hues = list(colors.drop('code', axis=1).columns)\n",
    "hues"
   ]
  },
  {
   "cell_type": "markdown",
   "metadata": {},
   "source": [
    "### Cleaning\n",
    "\n",
    "We keep only the values that are bigger than relevant threshold, that depends on the total valid pixels during extraction. We don't want to count a color if there is only 1 pixel that contains it."
   ]
  },
  {
   "cell_type": "code",
   "execution_count": 6,
   "metadata": {},
   "outputs": [
    {
     "data": {
      "text/html": [
       "<div>\n",
       "<style scoped>\n",
       "    .dataframe tbody tr th:only-of-type {\n",
       "        vertical-align: middle;\n",
       "    }\n",
       "\n",
       "    .dataframe tbody tr th {\n",
       "        vertical-align: top;\n",
       "    }\n",
       "\n",
       "    .dataframe thead th {\n",
       "        text-align: right;\n",
       "    }\n",
       "</style>\n",
       "<table border=\"1\" class=\"dataframe\">\n",
       "  <thead>\n",
       "    <tr style=\"text-align: right;\">\n",
       "      <th></th>\n",
       "      <th>code</th>\n",
       "      <th>red</th>\n",
       "      <th>orange</th>\n",
       "      <th>magenta</th>\n",
       "      <th>pink</th>\n",
       "      <th>yellow</th>\n",
       "      <th>yellow-green</th>\n",
       "      <th>green</th>\n",
       "      <th>green-cyan</th>\n",
       "      <th>cyan</th>\n",
       "      <th>cyan-blue</th>\n",
       "      <th>blue</th>\n",
       "      <th>blue-magenta</th>\n",
       "    </tr>\n",
       "  </thead>\n",
       "  <tbody>\n",
       "    <tr>\n",
       "      <th>0</th>\n",
       "      <td>0000007020254</td>\n",
       "      <td>1</td>\n",
       "      <td>1</td>\n",
       "      <td>0</td>\n",
       "      <td>0</td>\n",
       "      <td>0</td>\n",
       "      <td>0</td>\n",
       "      <td>0</td>\n",
       "      <td>0</td>\n",
       "      <td>0</td>\n",
       "      <td>0</td>\n",
       "      <td>0</td>\n",
       "      <td>0</td>\n",
       "    </tr>\n",
       "    <tr>\n",
       "      <th>1</th>\n",
       "      <td>0000027533024</td>\n",
       "      <td>1</td>\n",
       "      <td>1</td>\n",
       "      <td>0</td>\n",
       "      <td>0</td>\n",
       "      <td>0</td>\n",
       "      <td>0</td>\n",
       "      <td>0</td>\n",
       "      <td>0</td>\n",
       "      <td>0</td>\n",
       "      <td>0</td>\n",
       "      <td>0</td>\n",
       "      <td>0</td>\n",
       "    </tr>\n",
       "    <tr>\n",
       "      <th>2</th>\n",
       "      <td>0000027533048</td>\n",
       "      <td>1</td>\n",
       "      <td>1</td>\n",
       "      <td>0</td>\n",
       "      <td>0</td>\n",
       "      <td>0</td>\n",
       "      <td>0</td>\n",
       "      <td>0</td>\n",
       "      <td>0</td>\n",
       "      <td>0</td>\n",
       "      <td>0</td>\n",
       "      <td>0</td>\n",
       "      <td>0</td>\n",
       "    </tr>\n",
       "    <tr>\n",
       "      <th>3</th>\n",
       "      <td>0000040608754</td>\n",
       "      <td>1</td>\n",
       "      <td>0</td>\n",
       "      <td>0</td>\n",
       "      <td>0</td>\n",
       "      <td>0</td>\n",
       "      <td>0</td>\n",
       "      <td>0</td>\n",
       "      <td>0</td>\n",
       "      <td>0</td>\n",
       "      <td>1</td>\n",
       "      <td>1</td>\n",
       "      <td>0</td>\n",
       "    </tr>\n",
       "    <tr>\n",
       "      <th>4</th>\n",
       "      <td>0000087177756</td>\n",
       "      <td>1</td>\n",
       "      <td>1</td>\n",
       "      <td>0</td>\n",
       "      <td>0</td>\n",
       "      <td>1</td>\n",
       "      <td>1</td>\n",
       "      <td>0</td>\n",
       "      <td>1</td>\n",
       "      <td>1</td>\n",
       "      <td>0</td>\n",
       "      <td>0</td>\n",
       "      <td>0</td>\n",
       "    </tr>\n",
       "  </tbody>\n",
       "</table>\n",
       "</div>"
      ],
      "text/plain": [
       "            code  red  orange  magenta  pink  yellow  yellow-green  green  \\\n",
       "0  0000007020254    1       1        0     0       0             0      0   \n",
       "1  0000027533024    1       1        0     0       0             0      0   \n",
       "2  0000027533048    1       1        0     0       0             0      0   \n",
       "3  0000040608754    1       0        0     0       0             0      0   \n",
       "4  0000087177756    1       1        0     0       1             1      0   \n",
       "\n",
       "   green-cyan  cyan  cyan-blue  blue  blue-magenta  \n",
       "0           0     0          0     0             0  \n",
       "1           0     0          0     0             0  \n",
       "2           0     0          0     0             0  \n",
       "3           0     0          1     1             0  \n",
       "4           1     1          0     0             0  "
      ]
     },
     "execution_count": 6,
     "metadata": {},
     "output_type": "execute_result"
    }
   ],
   "source": [
    "colors_cleaned = colors.copy()\n",
    "for col in hues:\n",
    "    colors_cleaned[col] = (colors[col] > total_valid_pix/24) * 1\n",
    "colors_cleaned.head()"
   ]
  },
  {
   "cell_type": "markdown",
   "metadata": {},
   "source": [
    "Then, we can take a look at what product categories are present in the data"
   ]
  },
  {
   "cell_type": "code",
   "execution_count": 7,
   "metadata": {},
   "outputs": [
    {
     "data": {
      "text/plain": [
       "Plant-based foods and beverages    10995\n",
       "Sugary snacks                       6448\n",
       "Dairies                             4877\n",
       "Meats                               2736\n",
       "Meals                               2348\n",
       "Beverages                           2334\n",
       "Groceries                           1922\n",
       "Canned foods                        1209\n",
       "Fruit juices                        1136\n",
       "Frozen foods                        1130\n",
       "Salty snacks                        1063\n",
       "Seafood                              873\n",
       "Desserts                             752\n",
       "Spreads                              589\n",
       "Sandwiches                           443\n",
       "Fruit juices and nectars             237\n",
       "Farming products                     204\n",
       "Breakfasts                           147\n",
       "Crêpes and galettes                  129\n",
       "Pickles                              106\n",
       "Name: main_category_en, dtype: int64"
      ]
     },
     "execution_count": 7,
     "metadata": {},
     "output_type": "execute_result"
    }
   ],
   "source": [
    "categories = colors_cleaned.merge(data, on='code').main_category_en\n",
    "categories.value_counts().head(20)"
   ]
  },
  {
   "cell_type": "markdown",
   "metadata": {},
   "source": [
    "The first one is not a very relevant category.\n",
    "Up to the Sandwiches there are enough product to conduct a relevant analysis. "
   ]
  },
  {
   "cell_type": "code",
   "execution_count": 8,
   "metadata": {},
   "outputs": [],
   "source": [
    "interesting_cats = list(categories.value_counts().head(15).tail(14).index)"
   ]
  },
  {
   "cell_type": "markdown",
   "metadata": {},
   "source": [
    "### Look at the colors in each categories"
   ]
  },
  {
   "cell_type": "code",
   "execution_count": 9,
   "metadata": {},
   "outputs": [],
   "source": [
    "merge = colors_cleaned.merge(data, on='code')\n",
    "merge = merge[merge.main_category_en.isin(interesting_cats)]"
   ]
  },
  {
   "cell_type": "code",
   "execution_count": 10,
   "metadata": {},
   "outputs": [],
   "source": [
    "merge[['main_category_en', 'cyan']].groupby(by='main_category_en').mean().plot.bar(color='cyan')\n",
    "a = 1"
   ]
  },
  {
   "cell_type": "markdown",
   "metadata": {},
   "source": [
    "### Looking at the number of columns"
   ]
  },
  {
   "cell_type": "code",
   "execution_count": 11,
   "metadata": {},
   "outputs": [
    {
     "data": {
      "text/html": [
       "<div>\n",
       "<style scoped>\n",
       "    .dataframe tbody tr th:only-of-type {\n",
       "        vertical-align: middle;\n",
       "    }\n",
       "\n",
       "    .dataframe tbody tr th {\n",
       "        vertical-align: top;\n",
       "    }\n",
       "\n",
       "    .dataframe thead th {\n",
       "        text-align: right;\n",
       "    }\n",
       "</style>\n",
       "<table border=\"1\" class=\"dataframe\">\n",
       "  <thead>\n",
       "    <tr style=\"text-align: right;\">\n",
       "      <th></th>\n",
       "      <th>code</th>\n",
       "      <th>hue_count</th>\n",
       "    </tr>\n",
       "  </thead>\n",
       "  <tbody>\n",
       "    <tr>\n",
       "      <th>0</th>\n",
       "      <td>0000007020254</td>\n",
       "      <td>2</td>\n",
       "    </tr>\n",
       "    <tr>\n",
       "      <th>1</th>\n",
       "      <td>0000027533024</td>\n",
       "      <td>2</td>\n",
       "    </tr>\n",
       "    <tr>\n",
       "      <th>2</th>\n",
       "      <td>0000027533048</td>\n",
       "      <td>2</td>\n",
       "    </tr>\n",
       "    <tr>\n",
       "      <th>3</th>\n",
       "      <td>0000040608754</td>\n",
       "      <td>3</td>\n",
       "    </tr>\n",
       "    <tr>\n",
       "      <th>4</th>\n",
       "      <td>0000087177756</td>\n",
       "      <td>6</td>\n",
       "    </tr>\n",
       "  </tbody>\n",
       "</table>\n",
       "</div>"
      ],
      "text/plain": [
       "            code  hue_count\n",
       "0  0000007020254          2\n",
       "1  0000027533024          2\n",
       "2  0000027533048          2\n",
       "3  0000040608754          3\n",
       "4  0000087177756          6"
      ]
     },
     "execution_count": 11,
     "metadata": {},
     "output_type": "execute_result"
    }
   ],
   "source": [
    "colors_simple = colors_cleaned[['code']].copy()\n",
    "colors_simple['hue_count'] = colors_cleaned[hues].sum(axis=1)\n",
    "colors_simple.head()"
   ]
  },
  {
   "cell_type": "code",
   "execution_count": 12,
   "metadata": {},
   "outputs": [],
   "source": [
    "merged = data.merge(colors_simple, on='code')\n",
    "merged = merged[merged.main_category_en.isin(interesting_cats)]"
   ]
  },
  {
   "cell_type": "code",
   "execution_count": 13,
   "metadata": {},
   "outputs": [
    {
     "data": {
      "text/plain": [
       "<matplotlib.axes._subplots.AxesSubplot at 0x7f26ce147be0>"
      ]
     },
     "execution_count": 13,
     "metadata": {},
     "output_type": "execute_result"
    },
    {
     "data": {
      "image/png": "[encoded data removed]",
      "text/plain": [
       "<Figure size 432x288 with 1 Axes>"
      ]
     },
     "metadata": {
      "needs_background": "light"
     },
     "output_type": "display_data"
    }
   ],
   "source": [
    "merged[['main_category_en', 'hue_count']].groupby(by='main_category_en').median().plot.bar()\n"
   ]
  },
  {
   "cell_type": "code",
   "execution_count": 14,
   "metadata": {},
   "outputs": [],
   "source": [
    "# tmp=merged[['main_category_en', 'hue_count']].groupby(by='main_category_en')\n",
    "# tmp.quantile(np.linspace(0, 1, 100)).plot.bar(by='main_category_en')"
   ]
  }
 ],
 "metadata": {
  "kernelspec": {
   "display_name": "Python 3",
   "language": "python",
   "name": "python3"
  },
  "language_info": {
   "codemirror_mode": {
    "name": "ipython",
    "version": 3
   },
   "file_extension": ".py",
   "mimetype": "text/x-python",
   "name": "python",
   "nbconvert_exporter": "python",
   "pygments_lexer": "ipython3",
   "version": "3.7.1"
  }
 },
 "nbformat": 4,
 "nbformat_minor": 2
}
