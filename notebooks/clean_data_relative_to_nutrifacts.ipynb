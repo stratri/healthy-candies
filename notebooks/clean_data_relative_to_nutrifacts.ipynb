{
 "cells": [
  {
   "cell_type": "markdown",
   "metadata": {},
   "source": [
    "# Data cleaning"
   ]
  },
  {
   "cell_type": "code",
   "execution_count": 1,
   "metadata": {},
   "outputs": [
    {
     "name": "stdout",
     "output_type": "stream",
     "text": [
      "Using matplotlib backend: TkAgg\n"
     ]
    }
   ],
   "source": [
    "import numpy as np\n",
    "import matplotlib.pyplot as plt\n",
    "import pandas as pd\n",
    "from healthy_candies.load import load_data\n",
    "\n",
    "%matplotlib"
   ]
  },
  {
   "cell_type": "markdown",
   "metadata": {},
   "source": [
    "Here we are interested in the following columns (in fact many columns related to nutri facts are already very sparse, we focus here only on the major ones):"
   ]
  },
  {
   "cell_type": "code",
   "execution_count": 2,
   "metadata": {},
   "outputs": [],
   "source": [
    "COLS = ['image_small_url', 'code', 'energy_100g', 'fat_100g',\n",
    "        'saturated-fat_100g', 'carbohydrates_100g', 'sugars_100g',\n",
    "        'proteins_100g', 'salt_100g', 'sodium_100g',\n",
    "        'nutrition-score-fr_100g']"
   ]
  },
  {
   "cell_type": "code",
   "execution_count": 3,
   "metadata": {},
   "outputs": [
    {
     "data": {
      "text/plain": [
       "(698477, 11)"
      ]
     },
     "execution_count": 3,
     "metadata": {},
     "output_type": "execute_result"
    }
   ],
   "source": [
    "df = load_data(COLS, limit_have_nutri_score=False)\n",
    "df.shape"
   ]
  },
  {
   "cell_type": "markdown",
   "metadata": {},
   "source": [
    "The point of this pre-processing is to have also information on the product image.\n",
    "So we keep rows only where this feature is available."
   ]
  },
  {
   "cell_type": "code",
   "execution_count": 4,
   "metadata": {},
   "outputs": [
    {
     "data": {
      "text/plain": [
       "image_small_url            91644\n",
       "code                       91644\n",
       "energy_100g                65436\n",
       "fat_100g                   64712\n",
       "saturated-fat_100g         62871\n",
       "carbohydrates_100g         64457\n",
       "sugars_100g                63140\n",
       "proteins_100g              65147\n",
       "salt_100g                  62583\n",
       "sodium_100g                62577\n",
       "nutrition-score-fr_100g    51241\n",
       "dtype: int64"
      ]
     },
     "execution_count": 4,
     "metadata": {},
     "output_type": "execute_result"
    }
   ],
   "source": [
    "urls = df.image_small_url.fillna('')\n",
    "df = df[urls != '']\n",
    "df.count()"
   ]
  },
  {
   "cell_type": "markdown",
   "metadata": {},
   "source": [
    "Finally we keep only the rows for which we have all the information. At the end we have $\\approx 51\\, 000$ rows."
   ]
  },
  {
   "cell_type": "code",
   "execution_count": 5,
   "metadata": {},
   "outputs": [
    {
     "data": {
      "text/html": [
       "<div>\n",
       "<style scoped>\n",
       "    .dataframe tbody tr th:only-of-type {\n",
       "        vertical-align: middle;\n",
       "    }\n",
       "\n",
       "    .dataframe tbody tr th {\n",
       "        vertical-align: top;\n",
       "    }\n",
       "\n",
       "    .dataframe thead th {\n",
       "        text-align: right;\n",
       "    }\n",
       "</style>\n",
       "<table border=\"1\" class=\"dataframe\">\n",
       "  <thead>\n",
       "    <tr style=\"text-align: right;\">\n",
       "      <th></th>\n",
       "      <th>energy_100g</th>\n",
       "      <th>fat_100g</th>\n",
       "      <th>saturated-fat_100g</th>\n",
       "      <th>carbohydrates_100g</th>\n",
       "      <th>sugars_100g</th>\n",
       "      <th>proteins_100g</th>\n",
       "      <th>salt_100g</th>\n",
       "      <th>sodium_100g</th>\n",
       "      <th>nutrition-score-fr_100g</th>\n",
       "    </tr>\n",
       "  </thead>\n",
       "  <tbody>\n",
       "    <tr>\n",
       "      <th>count</th>\n",
       "      <td>50627.000000</td>\n",
       "      <td>50627.000000</td>\n",
       "      <td>50627.000000</td>\n",
       "      <td>50627.000000</td>\n",
       "      <td>50627.000000</td>\n",
       "      <td>50627.000000</td>\n",
       "      <td>50627.000000</td>\n",
       "      <td>50627.000000</td>\n",
       "      <td>50627.000000</td>\n",
       "    </tr>\n",
       "    <tr>\n",
       "      <th>mean</th>\n",
       "      <td>1128.073852</td>\n",
       "      <td>14.066029</td>\n",
       "      <td>5.639722</td>\n",
       "      <td>29.155872</td>\n",
       "      <td>12.926757</td>\n",
       "      <td>7.820781</td>\n",
       "      <td>2.479840</td>\n",
       "      <td>0.976223</td>\n",
       "      <td>8.585162</td>\n",
       "    </tr>\n",
       "    <tr>\n",
       "      <th>std</th>\n",
       "      <td>1602.410003</td>\n",
       "      <td>83.570264</td>\n",
       "      <td>40.444734</td>\n",
       "      <td>263.626440</td>\n",
       "      <td>37.789098</td>\n",
       "      <td>42.533754</td>\n",
       "      <td>58.061692</td>\n",
       "      <td>22.852254</td>\n",
       "      <td>9.055507</td>\n",
       "    </tr>\n",
       "    <tr>\n",
       "      <th>min</th>\n",
       "      <td>0.000000</td>\n",
       "      <td>0.000000</td>\n",
       "      <td>0.000000</td>\n",
       "      <td>0.000000</td>\n",
       "      <td>-0.100000</td>\n",
       "      <td>0.000000</td>\n",
       "      <td>0.000000</td>\n",
       "      <td>0.000000</td>\n",
       "      <td>-14.000000</td>\n",
       "    </tr>\n",
       "    <tr>\n",
       "      <th>25%</th>\n",
       "      <td>404.000000</td>\n",
       "      <td>1.100000</td>\n",
       "      <td>0.210000</td>\n",
       "      <td>4.000000</td>\n",
       "      <td>1.000000</td>\n",
       "      <td>1.800000</td>\n",
       "      <td>0.080000</td>\n",
       "      <td>0.031496</td>\n",
       "      <td>1.000000</td>\n",
       "    </tr>\n",
       "    <tr>\n",
       "      <th>50%</th>\n",
       "      <td>1029.000000</td>\n",
       "      <td>6.800000</td>\n",
       "      <td>1.900000</td>\n",
       "      <td>14.000000</td>\n",
       "      <td>4.000000</td>\n",
       "      <td>5.900000</td>\n",
       "      <td>0.508000</td>\n",
       "      <td>0.200000</td>\n",
       "      <td>9.000000</td>\n",
       "    </tr>\n",
       "    <tr>\n",
       "      <th>75%</th>\n",
       "      <td>1671.000000</td>\n",
       "      <td>22.000000</td>\n",
       "      <td>7.500000</td>\n",
       "      <td>53.500000</td>\n",
       "      <td>16.000000</td>\n",
       "      <td>10.700000</td>\n",
       "      <td>1.220000</td>\n",
       "      <td>0.480000</td>\n",
       "      <td>15.000000</td>\n",
       "    </tr>\n",
       "    <tr>\n",
       "      <th>max</th>\n",
       "      <td>300000.000000</td>\n",
       "      <td>18400.000000</td>\n",
       "      <td>8500.000000</td>\n",
       "      <td>57400.000000</td>\n",
       "      <td>6670.000000</td>\n",
       "      <td>9400.000000</td>\n",
       "      <td>6728.460000</td>\n",
       "      <td>2649.000000</td>\n",
       "      <td>40.000000</td>\n",
       "    </tr>\n",
       "  </tbody>\n",
       "</table>\n",
       "</div>"
      ],
      "text/plain": [
       "         energy_100g      fat_100g  saturated-fat_100g  carbohydrates_100g  \\\n",
       "count   50627.000000  50627.000000        50627.000000        50627.000000   \n",
       "mean     1128.073852     14.066029            5.639722           29.155872   \n",
       "std      1602.410003     83.570264           40.444734          263.626440   \n",
       "min         0.000000      0.000000            0.000000            0.000000   \n",
       "25%       404.000000      1.100000            0.210000            4.000000   \n",
       "50%      1029.000000      6.800000            1.900000           14.000000   \n",
       "75%      1671.000000     22.000000            7.500000           53.500000   \n",
       "max    300000.000000  18400.000000         8500.000000        57400.000000   \n",
       "\n",
       "        sugars_100g  proteins_100g     salt_100g   sodium_100g  \\\n",
       "count  50627.000000   50627.000000  50627.000000  50627.000000   \n",
       "mean      12.926757       7.820781      2.479840      0.976223   \n",
       "std       37.789098      42.533754     58.061692     22.852254   \n",
       "min       -0.100000       0.000000      0.000000      0.000000   \n",
       "25%        1.000000       1.800000      0.080000      0.031496   \n",
       "50%        4.000000       5.900000      0.508000      0.200000   \n",
       "75%       16.000000      10.700000      1.220000      0.480000   \n",
       "max     6670.000000    9400.000000   6728.460000   2649.000000   \n",
       "\n",
       "       nutrition-score-fr_100g  \n",
       "count             50627.000000  \n",
       "mean                  8.585162  \n",
       "std                   9.055507  \n",
       "min                 -14.000000  \n",
       "25%                   1.000000  \n",
       "50%                   9.000000  \n",
       "75%                  15.000000  \n",
       "max                  40.000000  "
      ]
     },
     "execution_count": 5,
     "metadata": {},
     "output_type": "execute_result"
    }
   ],
   "source": [
    "df_clean = df.dropna()\n",
    "df_clean.describe()"
   ]
  },
  {
   "cell_type": "markdown",
   "metadata": {},
   "source": [
    "We can see above that many columns have absurd values, let's have a look at the $2.5$ and $97.5$ percentiles of each columns."
   ]
  },
  {
   "cell_type": "code",
   "execution_count": 6,
   "metadata": {},
   "outputs": [
    {
     "data": {
      "text/html": [
       "<div>\n",
       "<style scoped>\n",
       "    .dataframe tbody tr th:only-of-type {\n",
       "        vertical-align: middle;\n",
       "    }\n",
       "\n",
       "    .dataframe tbody tr th {\n",
       "        vertical-align: top;\n",
       "    }\n",
       "\n",
       "    .dataframe thead th {\n",
       "        text-align: right;\n",
       "    }\n",
       "</style>\n",
       "<table border=\"1\" class=\"dataframe\">\n",
       "  <thead>\n",
       "    <tr style=\"text-align: right;\">\n",
       "      <th></th>\n",
       "      <th>energy_100g</th>\n",
       "      <th>fat_100g</th>\n",
       "      <th>saturated-fat_100g</th>\n",
       "      <th>carbohydrates_100g</th>\n",
       "      <th>sugars_100g</th>\n",
       "      <th>proteins_100g</th>\n",
       "      <th>salt_100g</th>\n",
       "      <th>sodium_100g</th>\n",
       "      <th>nutrition-score-fr_100g</th>\n",
       "    </tr>\n",
       "  </thead>\n",
       "  <tbody>\n",
       "    <tr>\n",
       "      <th>0.025</th>\n",
       "      <td>69.0</td>\n",
       "      <td>0.000</td>\n",
       "      <td>0.0</td>\n",
       "      <td>0.0</td>\n",
       "      <td>0.0</td>\n",
       "      <td>0.0</td>\n",
       "      <td>0.0000</td>\n",
       "      <td>0.00</td>\n",
       "      <td>-6.0</td>\n",
       "    </tr>\n",
       "    <tr>\n",
       "      <th>0.975</th>\n",
       "      <td>2736.7</td>\n",
       "      <td>62.705</td>\n",
       "      <td>24.0</td>\n",
       "      <td>82.0</td>\n",
       "      <td>61.7</td>\n",
       "      <td>26.4</td>\n",
       "      <td>4.7752</td>\n",
       "      <td>1.88</td>\n",
       "      <td>26.0</td>\n",
       "    </tr>\n",
       "  </tbody>\n",
       "</table>\n",
       "</div>"
      ],
      "text/plain": [
       "       energy_100g  fat_100g  saturated-fat_100g  carbohydrates_100g  \\\n",
       "0.025         69.0     0.000                 0.0                 0.0   \n",
       "0.975       2736.7    62.705                24.0                82.0   \n",
       "\n",
       "       sugars_100g  proteins_100g  salt_100g  sodium_100g  \\\n",
       "0.025          0.0            0.0     0.0000         0.00   \n",
       "0.975         61.7           26.4     4.7752         1.88   \n",
       "\n",
       "       nutrition-score-fr_100g  \n",
       "0.025                     -6.0  \n",
       "0.975                     26.0  "
      ]
     },
     "execution_count": 6,
     "metadata": {},
     "output_type": "execute_result"
    }
   ],
   "source": [
    "q = df_clean.quantile([0.025, 0.975])\n",
    "q"
   ]
  },
  {
   "cell_type": "markdown",
   "metadata": {},
   "source": [
    "We can see above that the values above are more probable. We will therefore keep the products for which all their properties fit in the acceptable range. This is a simple way to remove outliers quickly.\n",
    "*NB: we don't do the cleaning for the nutrition score column. Its values are correct.*"
   ]
  },
  {
   "cell_type": "code",
   "execution_count": 7,
   "metadata": {},
   "outputs": [],
   "source": [
    "# remove crazy values\n",
    "for col in q.columns:\n",
    "    if col != \"nutrition-score-fr_100g\":\n",
    "        df_clean = df_clean[(df_clean[col] >= q.loc[0.025, col]) & (\n",
    "            df_clean[col] <= q.loc[0.975, col])]"
   ]
  },
  {
   "cell_type": "code",
   "execution_count": 8,
   "metadata": {},
   "outputs": [
    {
     "data": {
      "text/plain": [
       "(43454, 11)"
      ]
     },
     "execution_count": 8,
     "metadata": {},
     "output_type": "execute_result"
    }
   ],
   "source": [
    "df_clean.shape"
   ]
  },
  {
   "cell_type": "markdown",
   "metadata": {},
   "source": [
    "At the end we keep $\\approx 80\\%$ of the processable data."
   ]
  }
 ],
 "metadata": {
  "kernelspec": {
   "display_name": "Python 3",
   "language": "python",
   "name": "python3"
  },
  "language_info": {
   "codemirror_mode": {
    "name": "ipython",
    "version": 3
   },
   "file_extension": ".py",
   "mimetype": "text/x-python",
   "name": "python",
   "nbconvert_exporter": "python",
   "pygments_lexer": "ipython3",
   "version": "3.7.1"
  }
 },
 "nbformat": 4,
 "nbformat_minor": 2
}
